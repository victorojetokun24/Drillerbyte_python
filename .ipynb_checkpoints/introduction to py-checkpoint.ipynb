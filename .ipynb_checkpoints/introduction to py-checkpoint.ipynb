{
 "cells": [
  {
   "cell_type": "markdown",
   "id": "4c17c949",
   "metadata": {},
   "source": [
    "# introduction to python programming\n"
   ]
  },
  {
   "cell_type": "code",
   "execution_count": 1,
   "id": "49380ff7",
   "metadata": {},
   "outputs": [
    {
     "name": "stdout",
     "output_type": "stream",
     "text": [
      "victor\n"
     ]
    }
   ],
   "source": [
    "print('victor')"
   ]
  },
  {
   "cell_type": "code",
   "execution_count": 2,
   "id": "748fe3b4",
   "metadata": {},
   "outputs": [
    {
     "data": {
      "text/plain": [
       "int"
      ]
     },
     "execution_count": 2,
     "metadata": {},
     "output_type": "execute_result"
    }
   ],
   "source": [
    "age = 32\n",
    "type(age)"
   ]
  },
  {
   "cell_type": "code",
   "execution_count": 3,
   "id": "297650e1",
   "metadata": {},
   "outputs": [
    {
     "data": {
      "text/plain": [
       "str"
      ]
     },
     "execution_count": 3,
     "metadata": {},
     "output_type": "execute_result"
    }
   ],
   "source": [
    "name = 'victor'\n",
    "type(name)"
   ]
  },
  {
   "cell_type": "code",
   "execution_count": 4,
   "id": "a2215269",
   "metadata": {},
   "outputs": [
    {
     "data": {
      "text/plain": [
       "list"
      ]
     },
     "execution_count": 4,
     "metadata": {},
     "output_type": "execute_result"
    }
   ],
   "source": [
    "score = [1,2,3,4,5,6]\n",
    "type(score)"
   ]
  },
  {
   "cell_type": "code",
   "execution_count": 5,
   "id": "4be3a41e",
   "metadata": {},
   "outputs": [
    {
     "data": {
      "text/plain": [
       "tuple"
      ]
     },
     "execution_count": 5,
     "metadata": {},
     "output_type": "execute_result"
    }
   ],
   "source": [
    "index = (1,2,3,4,5,6)\n",
    "type(index)"
   ]
  },
  {
   "cell_type": "code",
   "execution_count": 6,
   "id": "cbc4ccac",
   "metadata": {},
   "outputs": [
    {
     "data": {
      "text/plain": [
       "set"
      ]
     },
     "execution_count": 6,
     "metadata": {},
     "output_type": "execute_result"
    }
   ],
   "source": [
    "set = {3,4,5,6,7}\n",
    "type(set)"
   ]
  },
  {
   "cell_type": "code",
   "execution_count": 9,
   "id": "9eca3b5f",
   "metadata": {},
   "outputs": [
    {
     "data": {
      "text/plain": [
       "dict"
      ]
     },
     "execution_count": 9,
     "metadata": {},
     "output_type": "execute_result"
    }
   ],
   "source": [
    "dic = {\n",
    "    'name':'victor',\n",
    "    'age': 32,\n",
    "    'job':'data analyst'\n",
    "    }\n",
    "type(dic)"
   ]
  },
  {
   "cell_type": "markdown",
   "id": "3846b690",
   "metadata": {},
   "source": [
    "# type casting"
   ]
  },
  {
   "cell_type": "code",
   "execution_count": 11,
   "id": "0f9aa97f",
   "metadata": {},
   "outputs": [
    {
     "data": {
      "text/plain": [
       "int"
      ]
     },
     "execution_count": 11,
     "metadata": {},
     "output_type": "execute_result"
    }
   ],
   "source": [
    "num = 10\n",
    "type(num)"
   ]
  },
  {
   "cell_type": "code",
   "execution_count": 12,
   "id": "d572a0bd",
   "metadata": {},
   "outputs": [
    {
     "data": {
      "text/plain": [
       "float"
      ]
     },
     "execution_count": 12,
     "metadata": {},
     "output_type": "execute_result"
    }
   ],
   "source": [
    "x = float(num)\n",
    "type(x)"
   ]
  },
  {
   "cell_type": "code",
   "execution_count": 13,
   "id": "6bcf04f2",
   "metadata": {},
   "outputs": [
    {
     "data": {
      "text/plain": [
       "int"
      ]
     },
     "execution_count": 13,
     "metadata": {},
     "output_type": "execute_result"
    }
   ],
   "source": [
    "y = 55\n",
    "type(y)"
   ]
  },
  {
   "cell_type": "code",
   "execution_count": 14,
   "id": "9e7df39a",
   "metadata": {},
   "outputs": [
    {
     "data": {
      "text/plain": [
       "str"
      ]
     },
     "execution_count": 14,
     "metadata": {},
     "output_type": "execute_result"
    }
   ],
   "source": [
    "z = str(y)\n",
    "type(z)"
   ]
  },
  {
   "cell_type": "code",
   "execution_count": 15,
   "id": "8fa4d47a",
   "metadata": {},
   "outputs": [
    {
     "data": {
      "text/plain": [
       "list"
      ]
     },
     "execution_count": 15,
     "metadata": {},
     "output_type": "execute_result"
    }
   ],
   "source": [
    "l1 = [1,2,3,4]\n",
    "type(l1)"
   ]
  },
  {
   "cell_type": "code",
   "execution_count": 16,
   "id": "025c008c",
   "metadata": {},
   "outputs": [
    {
     "data": {
      "text/plain": [
       "tuple"
      ]
     },
     "execution_count": 16,
     "metadata": {},
     "output_type": "execute_result"
    }
   ],
   "source": [
    "l2 = tuple(l1)\n",
    "type(l2)"
   ]
  },
  {
   "cell_type": "code",
   "execution_count": 17,
   "id": "0bddb00b",
   "metadata": {},
   "outputs": [
    {
     "data": {
      "text/plain": [
       "tuple"
      ]
     },
     "execution_count": 17,
     "metadata": {},
     "output_type": "execute_result"
    }
   ],
   "source": [
    "t1 = ('bag', 'shoe', 'dress')\n",
    "type(t1)"
   ]
  },
  {
   "cell_type": "code",
   "execution_count": 18,
   "id": "5fcf4f2e",
   "metadata": {},
   "outputs": [
    {
     "data": {
      "text/plain": [
       "list"
      ]
     },
     "execution_count": 18,
     "metadata": {},
     "output_type": "execute_result"
    }
   ],
   "source": [
    "t2 = list(t1)\n",
    "type(t2)"
   ]
  },
  {
   "cell_type": "markdown",
   "id": "550db1ba",
   "metadata": {},
   "source": [
    "# string data type"
   ]
  },
  {
   "cell_type": "code",
   "execution_count": 24,
   "id": "b42ee7aa",
   "metadata": {},
   "outputs": [
    {
     "data": {
      "text/plain": [
       "str"
      ]
     },
     "execution_count": 24,
     "metadata": {},
     "output_type": "execute_result"
    }
   ],
   "source": [
    "string = 'i am going to the market to buy mac-book'\n",
    "type(string)"
   ]
  },
  {
   "cell_type": "code",
   "execution_count": 25,
   "id": "6d187f2e",
   "metadata": {},
   "outputs": [
    {
     "name": "stdout",
     "output_type": "stream",
     "text": [
      "i am going to the market to buy mac-book\n"
     ]
    }
   ],
   "source": [
    "#slicing: accessing differnt value in a string\n",
    "print(string)"
   ]
  },
  {
   "cell_type": "code",
   "execution_count": 29,
   "id": "562bd28e",
   "metadata": {},
   "outputs": [
    {
     "name": "stdout",
     "output_type": "stream",
     "text": [
      "ia on\n"
     ]
    }
   ],
   "source": [
    "print(string[0:10:2])"
   ]
  },
  {
   "cell_type": "code",
   "execution_count": 30,
   "id": "30835811",
   "metadata": {},
   "outputs": [
    {
     "data": {
      "text/plain": [
       "str"
      ]
     },
     "execution_count": 30,
     "metadata": {},
     "output_type": "execute_result"
    }
   ],
   "source": [
    "giv = 'john'\n",
    "type(giv)"
   ]
  },
  {
   "cell_type": "code",
   "execution_count": 33,
   "id": "382db116",
   "metadata": {},
   "outputs": [],
   "source": [
    "caps = giv.upper()"
   ]
  },
  {
   "cell_type": "code",
   "execution_count": 34,
   "id": "f1777179",
   "metadata": {},
   "outputs": [
    {
     "data": {
      "text/plain": [
       "'john'"
      ]
     },
     "execution_count": 34,
     "metadata": {},
     "output_type": "execute_result"
    }
   ],
   "source": [
    "caps.lower()"
   ]
  },
  {
   "cell_type": "code",
   "execution_count": 35,
   "id": "dca5578d",
   "metadata": {},
   "outputs": [
    {
     "data": {
      "text/plain": [
       "'i am going to the mall to buy mac-book'"
      ]
     },
     "execution_count": 35,
     "metadata": {},
     "output_type": "execute_result"
    }
   ],
   "source": [
    "string.replace('market', 'mall')"
   ]
  },
  {
   "cell_type": "markdown",
   "id": "21da272b",
   "metadata": {},
   "source": [
    "# boolen"
   ]
  },
  {
   "cell_type": "code",
   "execution_count": 36,
   "id": "e6638a57",
   "metadata": {},
   "outputs": [],
   "source": [
    "b1 = True"
   ]
  },
  {
   "cell_type": "code",
   "execution_count": 37,
   "id": "599fddec",
   "metadata": {},
   "outputs": [],
   "source": [
    "b2 = False"
   ]
  },
  {
   "cell_type": "code",
   "execution_count": 38,
   "id": "27a84d03",
   "metadata": {},
   "outputs": [
    {
     "name": "stdout",
     "output_type": "stream",
     "text": [
      "True\n"
     ]
    }
   ],
   "source": [
    "print(True)"
   ]
  },
  {
   "cell_type": "code",
   "execution_count": 39,
   "id": "ca7fe854",
   "metadata": {},
   "outputs": [
    {
     "name": "stdout",
     "output_type": "stream",
     "text": [
      "True\n"
     ]
    }
   ],
   "source": [
    "print (True and True)"
   ]
  },
  {
   "cell_type": "code",
   "execution_count": 40,
   "id": "f674d9b3",
   "metadata": {},
   "outputs": [
    {
     "name": "stdout",
     "output_type": "stream",
     "text": [
      "False\n"
     ]
    }
   ],
   "source": [
    "print (True and False)"
   ]
  },
  {
   "cell_type": "code",
   "execution_count": 43,
   "id": "26949d88",
   "metadata": {},
   "outputs": [
    {
     "name": "stdout",
     "output_type": "stream",
     "text": [
      "True\n"
     ]
    }
   ],
   "source": [
    "print((False or True) or (True))"
   ]
  },
  {
   "cell_type": "markdown",
   "id": "13c3050a",
   "metadata": {},
   "source": [
    "# list "
   ]
  },
  {
   "cell_type": "code",
   "execution_count": 44,
   "id": "e2ba7705",
   "metadata": {},
   "outputs": [],
   "source": [
    "l1 = [[1,2],[3,4]] # also called array, its a 1 dimensional array"
   ]
  },
  {
   "cell_type": "code",
   "execution_count": 45,
   "id": "bac89233",
   "metadata": {},
   "outputs": [
    {
     "data": {
      "text/plain": [
       "[[1, 2], [3, 4]]"
      ]
     },
     "execution_count": 45,
     "metadata": {},
     "output_type": "execute_result"
    }
   ],
   "source": [
    "l1[0:2]"
   ]
  },
  {
   "cell_type": "code",
   "execution_count": 46,
   "id": "a5a2e939",
   "metadata": {},
   "outputs": [],
   "source": [
    " li = [1,2,3,4]"
   ]
  },
  {
   "cell_type": "code",
   "execution_count": 47,
   "id": "d1db5c3f",
   "metadata": {},
   "outputs": [],
   "source": [
    "st=[3,4,5,6]"
   ]
  },
  {
   "cell_type": "code",
   "execution_count": 48,
   "id": "9bcf20cb",
   "metadata": {},
   "outputs": [
    {
     "data": {
      "text/plain": [
       "[1, 2, 3, 4, 3, 4, 5, 6]"
      ]
     },
     "execution_count": 48,
     "metadata": {},
     "output_type": "execute_result"
    }
   ],
   "source": [
    "li+st # concantenate"
   ]
  },
  {
   "cell_type": "code",
   "execution_count": 49,
   "id": "46254754",
   "metadata": {},
   "outputs": [],
   "source": [
    "li.append(5) #add a number to the last position of the list"
   ]
  },
  {
   "cell_type": "code",
   "execution_count": 50,
   "id": "da6e9b7e",
   "metadata": {},
   "outputs": [
    {
     "data": {
      "text/plain": [
       "[1, 2, 3, 4, 5]"
      ]
     },
     "execution_count": 50,
     "metadata": {},
     "output_type": "execute_result"
    }
   ],
   "source": [
    "li"
   ]
  },
  {
   "cell_type": "code",
   "execution_count": 51,
   "id": "34a7428c",
   "metadata": {},
   "outputs": [],
   "source": [
    "li.insert(0,'victor')"
   ]
  },
  {
   "cell_type": "code",
   "execution_count": 52,
   "id": "40502d5a",
   "metadata": {},
   "outputs": [
    {
     "data": {
      "text/plain": [
       "['victor', 1, 2, 3, 4, 5]"
      ]
     },
     "execution_count": 52,
     "metadata": {},
     "output_type": "execute_result"
    }
   ],
   "source": [
    "li"
   ]
  },
  {
   "cell_type": "code",
   "execution_count": 53,
   "id": "6b05a3b5",
   "metadata": {},
   "outputs": [
    {
     "data": {
      "text/plain": [
       "5"
      ]
     },
     "execution_count": 53,
     "metadata": {},
     "output_type": "execute_result"
    }
   ],
   "source": [
    "li.pop() # takes the last element in the list and keeps tempreary until its needed"
   ]
  },
  {
   "cell_type": "code",
   "execution_count": 54,
   "id": "a46d07bb",
   "metadata": {},
   "outputs": [
    {
     "data": {
      "text/plain": [
       "['victor', 1, 2, 3, 4]"
      ]
     },
     "execution_count": 54,
     "metadata": {},
     "output_type": "execute_result"
    }
   ],
   "source": [
    "li"
   ]
  },
  {
   "cell_type": "code",
   "execution_count": 56,
   "id": "c4cea06f",
   "metadata": {},
   "outputs": [],
   "source": [
    "li.remove('victor')"
   ]
  },
  {
   "cell_type": "code",
   "execution_count": 57,
   "id": "183986be",
   "metadata": {},
   "outputs": [
    {
     "data": {
      "text/plain": [
       "[1, 2, 3, 4]"
      ]
     },
     "execution_count": 57,
     "metadata": {},
     "output_type": "execute_result"
    }
   ],
   "source": [
    "li"
   ]
  },
  {
   "cell_type": "markdown",
   "id": "63b1a492",
   "metadata": {},
   "source": [
    "# looping through a list"
   ]
  },
  {
   "cell_type": "code",
   "execution_count": 58,
   "id": "6b53b133",
   "metadata": {},
   "outputs": [
    {
     "name": "stdout",
     "output_type": "stream",
     "text": [
      "1\n",
      "2\n",
      "3\n",
      "4\n"
     ]
    }
   ],
   "source": [
    "for x in li:\n",
    "    print(x)"
   ]
  },
  {
   "cell_type": "code",
   "execution_count": 59,
   "id": "8984cc37",
   "metadata": {},
   "outputs": [],
   "source": [
    " tuple = (6,7,8,9,5,4)"
   ]
  },
  {
   "cell_type": "code",
   "execution_count": 60,
   "id": "712f76d6",
   "metadata": {},
   "outputs": [
    {
     "name": "stdout",
     "output_type": "stream",
     "text": [
      "6\n",
      "7\n",
      "8\n",
      "9\n",
      "5\n",
      "4\n"
     ]
    }
   ],
   "source": [
    "for i in tuple:\n",
    "    print(i)"
   ]
  },
  {
   "cell_type": "code",
   "execution_count": 61,
   "id": "c99927ed",
   "metadata": {},
   "outputs": [],
   "source": [
    "set = (3,5,6,7)#A set does not maintain the same index number, you cant cahnge value but add & remove from the set "
   ]
  },
  {
   "cell_type": "code",
   "execution_count": 62,
   "id": "86ab6e80",
   "metadata": {},
   "outputs": [],
   "source": [
    "#DICTIONARIES, it has a key and value pair"
   ]
  },
  {
   "cell_type": "code",
   "execution_count": 63,
   "id": "d65c2e59",
   "metadata": {},
   "outputs": [],
   "source": [
    "object = {\n",
    "    'eyes':2,\n",
    "    'head': 1,\n",
    "    'mouth': 1,\n",
    "}"
   ]
  },
  {
   "cell_type": "code",
   "execution_count": 64,
   "id": "27b5f523",
   "metadata": {},
   "outputs": [
    {
     "name": "stdout",
     "output_type": "stream",
     "text": [
      "{'eyes': 2, 'head': 1, 'mouth': 1}\n"
     ]
    }
   ],
   "source": [
    "print(object)"
   ]
  },
  {
   "cell_type": "code",
   "execution_count": 65,
   "id": "a6970527",
   "metadata": {},
   "outputs": [
    {
     "name": "stdout",
     "output_type": "stream",
     "text": [
      "2\n"
     ]
    }
   ],
   "source": [
    "print(object['eyes'])"
   ]
  },
  {
   "cell_type": "code",
   "execution_count": 66,
   "id": "99a55ca3",
   "metadata": {},
   "outputs": [
    {
     "name": "stdout",
     "output_type": "stream",
     "text": [
      "1\n"
     ]
    }
   ],
   "source": [
    "print(object['head'])"
   ]
  },
  {
   "cell_type": "code",
   "execution_count": 69,
   "id": "6bf017cc",
   "metadata": {},
   "outputs": [
    {
     "name": "stdout",
     "output_type": "stream",
     "text": [
      "eyes\n",
      "head\n",
      "mouth\n"
     ]
    }
   ],
   "source": [
    "for a in object.keys():\n",
    "    print(a)"
   ]
  },
  {
   "cell_type": "code",
   "execution_count": 70,
   "id": "99b0cb47",
   "metadata": {},
   "outputs": [
    {
     "name": "stdout",
     "output_type": "stream",
     "text": [
      "2\n",
      "1\n",
      "1\n"
     ]
    }
   ],
   "source": [
    "for b in object.values():\n",
    "    print(b)"
   ]
  },
  {
   "cell_type": "code",
   "execution_count": 71,
   "id": "d6c77e64",
   "metadata": {},
   "outputs": [
    {
     "name": "stdout",
     "output_type": "stream",
     "text": [
      "eyes 2\n",
      "head 1\n",
      "mouth 1\n"
     ]
    }
   ],
   "source": [
    "for a,b in object.items():\n",
    "    print(a,b)"
   ]
  },
  {
   "cell_type": "markdown",
   "id": "f3f516ae",
   "metadata": {},
   "source": [
    "# if, ifelse, else statement"
   ]
  },
  {
   "cell_type": "code",
   "execution_count": 72,
   "id": "56847c45",
   "metadata": {},
   "outputs": [],
   "source": [
    "# allows you to make desicions "
   ]
  },
  {
   "cell_type": "code",
   "execution_count": 83,
   "id": "08ab34de",
   "metadata": {},
   "outputs": [
    {
     "name": "stdout",
     "output_type": "stream",
     "text": [
      "The name of the fruit is apple\n"
     ]
    }
   ],
   "source": [
    "fruit = 'apple'\n",
    "print(f'The name of the fruit is {fruit}')"
   ]
  },
  {
   "cell_type": "code",
   "execution_count": 84,
   "id": "a6ebf79a",
   "metadata": {},
   "outputs": [
    {
     "name": "stdout",
     "output_type": "stream",
     "text": [
      "The name of the fruit is apple\n"
     ]
    }
   ],
   "source": [
    "print('The name of the fruit is {}'.format(fruit))"
   ]
  },
  {
   "cell_type": "code",
   "execution_count": 86,
   "id": "33eb2d77",
   "metadata": {},
   "outputs": [
    {
     "name": "stdout",
     "output_type": "stream",
     "text": [
      "faith's favourite color is red\n"
     ]
    }
   ],
   "source": [
    "name = 'faith'\n",
    "color = 'red'\n",
    "print(f'{name}\\'s favourite color is {color}')"
   ]
  },
  {
   "cell_type": "code",
   "execution_count": 101,
   "id": "6e282a3e",
   "metadata": {},
   "outputs": [],
   "source": [
    "brand = 'victor'\n",
    "sub_brand = 'trinity'\n",
    "name_array = ['sam','esther']"
   ]
  },
  {
   "cell_type": "code",
   "execution_count": 102,
   "id": "9fe27f7f",
   "metadata": {},
   "outputs": [
    {
     "data": {
      "text/plain": [
       "True"
      ]
     },
     "execution_count": 102,
     "metadata": {},
     "output_type": "execute_result"
    }
   ],
   "source": [
    "'sam' in name_array"
   ]
  },
  {
   "cell_type": "code",
   "execution_count": 103,
   "id": "4a89624e",
   "metadata": {},
   "outputs": [
    {
     "name": "stdout",
     "output_type": "stream",
     "text": [
      "what is your name?sam\n",
      "sam you are a committe\n"
     ]
    }
   ],
   "source": [
    "response = input('what is your name?')\n",
    "\n",
    "if response == brand:\n",
    "    print(f'You are welcome {brand} you are the founder of betaverse analystics')\n",
    "elif response in name_array:\n",
    "    print(f'{response} you are a committe')\n",
    "elif response == 'faith':\n",
    "    print(f'{response} you are a member of betaverse analystics')\n",
    "elif response == 'judy':\n",
    "    print('{} you are a member of betaverse analystics'.format(response))\n",
    "else: # used tp print a scerencio where nothing is given or default state\n",
    "    print('Sorry {}, you are not the founder'.format(response))"
   ]
  },
  {
   "cell_type": "markdown",
   "id": "cba5c8bc",
   "metadata": {},
   "source": [
    "# loops"
   ]
  },
  {
   "cell_type": "code",
   "execution_count": 104,
   "id": "73721da0",
   "metadata": {},
   "outputs": [],
   "source": [
    "# loops through a block of code, remember DRY stands for DONT Repear YOURSELF so you use loop and functions"
   ]
  },
  {
   "cell_type": "code",
   "execution_count": 105,
   "id": "15810635",
   "metadata": {},
   "outputs": [],
   "source": [
    "#FOR LOOP"
   ]
  },
  {
   "cell_type": "code",
   "execution_count": null,
   "id": "24e73726",
   "metadata": {},
   "outputs": [],
   "source": [
    "for x in range(1,5):\n",
    "    print(x)"
   ]
  },
  {
   "cell_type": "code",
   "execution_count": null,
   "id": "7938975c",
   "metadata": {},
   "outputs": [],
   "source": [
    "# while loop"
   ]
  },
  {
   "cell_type": "code",
   "execution_count": 1,
   "id": "3ccfcc75",
   "metadata": {},
   "outputs": [
    {
     "name": "stdout",
     "output_type": "stream",
     "text": [
      "1\n",
      "2\n",
      "3\n",
      "4\n",
      "5\n",
      "6\n",
      "7\n",
      "8\n",
      "9\n",
      "10\n"
     ]
    }
   ],
   "source": [
    "x = 1\n",
    "while (x <= 10):\n",
    "    print(x)\n",
    "    x = x + 1"
   ]
  },
  {
   "cell_type": "code",
   "execution_count": null,
   "id": "1e320913",
   "metadata": {},
   "outputs": [],
   "source": [
    "a = 1\n",
    "while (a<=10):\n",
    "    print(a)\n",
    "    if a == 5:\n",
    "        break\n",
    "    a = a + 1"
   ]
  },
  {
   "cell_type": "markdown",
   "id": "323d3647",
   "metadata": {},
   "source": [
    "# functions/modules"
   ]
  },
  {
   "cell_type": "code",
   "execution_count": null,
   "id": "1e9e2e86",
   "metadata": {},
   "outputs": [],
   "source": [
    "# function define a block of code and resue it later"
   ]
  },
  {
   "cell_type": "code",
   "execution_count": 7,
   "id": "a43b4e62",
   "metadata": {},
   "outputs": [],
   "source": [
    "def addNumbers(c, d):  #return safe the value inside the FUNC then reuse\n",
    "    \n",
    "    return(c+d)\n"
   ]
  },
  {
   "cell_type": "code",
   "execution_count": 8,
   "id": "743478b2",
   "metadata": {},
   "outputs": [
    {
     "data": {
      "text/plain": [
       "21"
      ]
     },
     "execution_count": 8,
     "metadata": {},
     "output_type": "execute_result"
    }
   ],
   "source": [
    "addNumbers(5,6) + 10"
   ]
  },
  {
   "cell_type": "code",
   "execution_count": 1,
   "id": "7048ae38",
   "metadata": {},
   "outputs": [
    {
     "data": {
      "text/plain": [
       "34"
      ]
     },
     "execution_count": 1,
     "metadata": {},
     "output_type": "execute_result"
    }
   ],
   "source": [
    "def subNumbers(e, f):  #return safe the value inside the FUNC then reuse\n",
    "    \n",
    "    return(e-f)\n",
    "\n",
    "subNumbers(10,6) + 30"
   ]
  },
  {
   "cell_type": "code",
   "execution_count": 10,
   "id": "24e0dbc4",
   "metadata": {},
   "outputs": [
    {
     "name": "stdout",
     "output_type": "stream",
     "text": [
      "11\n"
     ]
    }
   ],
   "source": [
    "# lambda write a straight line of function\n",
    "z= lambda x,y: x + y\n",
    "print (z(5,6))"
   ]
  },
  {
   "cell_type": "code",
   "execution_count": 11,
   "id": "1a166c24",
   "metadata": {},
   "outputs": [
    {
     "name": "stdout",
     "output_type": "stream",
     "text": [
      "10000\n"
     ]
    }
   ],
   "source": [
    "e = lambda a: a**2\n",
    "\n",
    "print(e(100))"
   ]
  },
  {
   "cell_type": "code",
   "execution_count": 3,
   "id": "742c1bdd",
   "metadata": {},
   "outputs": [],
   "source": [
    "def nameFunction(name):\n",
    "    print(name)"
   ]
  },
  {
   "cell_type": "code",
   "execution_count": 5,
   "id": "b1046991",
   "metadata": {},
   "outputs": [
    {
     "name": "stdout",
     "output_type": "stream",
     "text": [
      "victor\n"
     ]
    }
   ],
   "source": [
    " nameFunction('victor')"
   ]
  },
  {
   "cell_type": "markdown",
   "id": "6f6f95d2",
   "metadata": {},
   "source": [
    "# python Modules and Library"
   ]
  },
  {
   "cell_type": "code",
   "execution_count": 6,
   "id": "e9e987e7",
   "metadata": {},
   "outputs": [
    {
     "data": {
      "text/plain": [
       "2"
      ]
     },
     "execution_count": 6,
     "metadata": {},
     "output_type": "execute_result"
    }
   ],
   "source": [
    "#python module is an extension of a python code, it contains a lot of functions, 3kinds of module: (1) instance of a module\n",
    "(2)#inbuilt module (3) "
   ]
  },
  {
   "cell_type": "code",
   "execution_count": 7,
   "id": "4926c085",
   "metadata": {},
   "outputs": [],
   "source": [
    "import math"
   ]
  },
  {
   "cell_type": "code",
   "execution_count": 9,
   "id": "4f4a8913",
   "metadata": {},
   "outputs": [
    {
     "data": {
      "text/plain": [
       "5.0"
      ]
     },
     "execution_count": 9,
     "metadata": {},
     "output_type": "execute_result"
    }
   ],
   "source": [
    "math.sqrt(25)"
   ]
  },
  {
   "cell_type": "code",
   "execution_count": 10,
   "id": "2955f1dc",
   "metadata": {},
   "outputs": [],
   "source": [
    "from math import sqrt"
   ]
  },
  {
   "cell_type": "code",
   "execution_count": 11,
   "id": "9adbf0e2",
   "metadata": {},
   "outputs": [
    {
     "data": {
      "text/plain": [
       "5.0"
      ]
     },
     "execution_count": 11,
     "metadata": {},
     "output_type": "execute_result"
    }
   ],
   "source": [
    "sqrt(25)"
   ]
  },
  {
   "cell_type": "code",
   "execution_count": 12,
   "id": "7ecb04ef",
   "metadata": {},
   "outputs": [],
   "source": [
    "import math as m"
   ]
  },
  {
   "cell_type": "code",
   "execution_count": 13,
   "id": "8d973a46",
   "metadata": {},
   "outputs": [
    {
     "data": {
      "text/plain": [
       "5"
      ]
     },
     "execution_count": 13,
     "metadata": {},
     "output_type": "execute_result"
    }
   ],
   "source": [
    "m.floor(5.7)"
   ]
  },
  {
   "cell_type": "code",
   "execution_count": 14,
   "id": "a2903b5a",
   "metadata": {},
   "outputs": [
    {
     "data": {
      "text/plain": [
       "6"
      ]
     },
     "execution_count": 14,
     "metadata": {},
     "output_type": "execute_result"
    }
   ],
   "source": [
    "m.ceil(5.7)"
   ]
  },
  {
   "cell_type": "code",
   "execution_count": null,
   "id": "7a77c0c0",
   "metadata": {},
   "outputs": [],
   "source": [
    "#libray is robust rhat are created by pple"
   ]
  },
  {
   "cell_type": "code",
   "execution_count": 15,
   "id": "3e43006c",
   "metadata": {},
   "outputs": [],
   "source": [
    "#object programming lamguage: creating classes, a class is a blue print for creating an object"
   ]
  },
  {
   "cell_type": "code",
   "execution_count": 23,
   "id": "f62c3fec",
   "metadata": {},
   "outputs": [],
   "source": [
    "class car:\n",
    "    def __init__(self, model, color, year): #Attribute of a car\n",
    "        self.model = model\n",
    "        self.color = color\n",
    "        self.year = year\n",
    "    #Adding functions\n",
    "    def moving(self):\n",
    "        print(f'the {self.model} is moving')"
   ]
  },
  {
   "cell_type": "code",
   "execution_count": 24,
   "id": "2977d781",
   "metadata": {},
   "outputs": [],
   "source": [
    "carA = car('Benz', 'Black', '2021')"
   ]
  },
  {
   "cell_type": "code",
   "execution_count": 25,
   "id": "b3c8e07f",
   "metadata": {},
   "outputs": [
    {
     "data": {
      "text/plain": [
       "__main__.car"
      ]
     },
     "execution_count": 25,
     "metadata": {},
     "output_type": "execute_result"
    }
   ],
   "source": [
    "type(carA) #instance of the car object"
   ]
  },
  {
   "cell_type": "code",
   "execution_count": 26,
   "id": "261d1c28",
   "metadata": {},
   "outputs": [
    {
     "data": {
      "text/plain": [
       "'Benz'"
      ]
     },
     "execution_count": 26,
     "metadata": {},
     "output_type": "execute_result"
    }
   ],
   "source": [
    "carA.model"
   ]
  },
  {
   "cell_type": "code",
   "execution_count": 27,
   "id": "fa108fbb",
   "metadata": {},
   "outputs": [
    {
     "data": {
      "text/plain": [
       "'Black'"
      ]
     },
     "execution_count": 27,
     "metadata": {},
     "output_type": "execute_result"
    }
   ],
   "source": [
    "carA.color"
   ]
  },
  {
   "cell_type": "code",
   "execution_count": 28,
   "id": "4a0781f3",
   "metadata": {},
   "outputs": [
    {
     "data": {
      "text/plain": [
       "'2021'"
      ]
     },
     "execution_count": 28,
     "metadata": {},
     "output_type": "execute_result"
    }
   ],
   "source": [
    "carA.year"
   ]
  },
  {
   "cell_type": "code",
   "execution_count": 30,
   "id": "cd2c5581",
   "metadata": {},
   "outputs": [
    {
     "name": "stdout",
     "output_type": "stream",
     "text": [
      "the Benz is moving\n"
     ]
    }
   ],
   "source": [
    "carA.moving()"
   ]
  },
  {
   "cell_type": "code",
   "execution_count": null,
   "id": "cc8bf6d6",
   "metadata": {},
   "outputs": [],
   "source": []
  }
 ],
 "metadata": {
  "kernelspec": {
   "display_name": "Python 3 (ipykernel)",
   "language": "python",
   "name": "python3"
  },
  "language_info": {
   "codemirror_mode": {
    "name": "ipython",
    "version": 3
   },
   "file_extension": ".py",
   "mimetype": "text/x-python",
   "name": "python",
   "nbconvert_exporter": "python",
   "pygments_lexer": "ipython3",
   "version": "3.9.7"
  }
 },
 "nbformat": 4,
 "nbformat_minor": 5
}
