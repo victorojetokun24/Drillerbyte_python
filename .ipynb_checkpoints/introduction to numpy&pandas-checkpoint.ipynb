{
 "cells": [
  {
   "cell_type": "markdown",
   "id": "a5022045",
   "metadata": {},
   "source": [
    "# Introduction to numpy and Pandas"
   ]
  },
  {
   "cell_type": "code",
   "execution_count": 1,
   "id": "becc8e63",
   "metadata": {
    "ExecuteTime": {
     "end_time": "2022-02-17T01:37:02.443495Z",
     "start_time": "2022-02-17T01:37:02.410572Z"
    }
   },
   "outputs": [],
   "source": [
    "import functions"
   ]
  },
  {
   "cell_type": "code",
   "execution_count": 2,
   "id": "b16d72fa",
   "metadata": {
    "ExecuteTime": {
     "end_time": "2022-02-17T01:37:20.156983Z",
     "start_time": "2022-02-17T01:37:20.122077Z"
    }
   },
   "outputs": [
    {
     "data": {
      "text/plain": [
       "25"
      ]
     },
     "execution_count": 2,
     "metadata": {},
     "output_type": "execute_result"
    }
   ],
   "source": [
    "functions.square(5)"
   ]
  },
  {
   "cell_type": "code",
   "execution_count": 3,
   "id": "e39f2936",
   "metadata": {
    "ExecuteTime": {
     "end_time": "2022-02-17T01:47:43.708116Z",
     "start_time": "2022-02-17T01:47:43.694152Z"
    }
   },
   "outputs": [],
   "source": [
    "#Numpy & pandas they are external libaries that needed to be installed"
   ]
  },
  {
   "cell_type": "code",
   "execution_count": 53,
   "id": "f006d2fb",
   "metadata": {
    "ExecuteTime": {
     "end_time": "2022-02-17T08:27:01.613419Z",
     "start_time": "2022-02-17T08:27:01.604442Z"
    }
   },
   "outputs": [],
   "source": [
    "import numpy as np # Numeriacal python used for dealing with numbers\n",
    "from numpy import random # importing random function"
   ]
  },
  {
   "cell_type": "code",
   "execution_count": 54,
   "id": "5fcf9759",
   "metadata": {
    "ExecuteTime": {
     "end_time": "2022-02-17T08:27:04.209522Z",
     "start_time": "2022-02-17T08:27:04.192565Z"
    }
   },
   "outputs": [],
   "source": [
    "arr = [1,2,3,4,5,6,7,8,9] # 1 dimensional array"
   ]
  },
  {
   "cell_type": "code",
   "execution_count": 55,
   "id": "1d314ff1",
   "metadata": {
    "ExecuteTime": {
     "end_time": "2022-02-17T08:27:04.799608Z",
     "start_time": "2022-02-17T08:27:04.779657Z"
    }
   },
   "outputs": [
    {
     "data": {
      "text/plain": [
       "list"
      ]
     },
     "execution_count": 55,
     "metadata": {},
     "output_type": "execute_result"
    }
   ],
   "source": [
    "type(arr)"
   ]
  },
  {
   "cell_type": "code",
   "execution_count": 56,
   "id": "e2e2b787",
   "metadata": {
    "ExecuteTime": {
     "end_time": "2022-02-17T08:27:05.113359Z",
     "start_time": "2022-02-17T08:27:05.104379Z"
    }
   },
   "outputs": [],
   "source": [
    "npa = np.array(arr)"
   ]
  },
  {
   "cell_type": "code",
   "execution_count": 57,
   "id": "d1fe15de",
   "metadata": {
    "ExecuteTime": {
     "end_time": "2022-02-17T08:27:05.316800Z",
     "start_time": "2022-02-17T08:27:05.294858Z"
    }
   },
   "outputs": [
    {
     "data": {
      "text/plain": [
       "numpy.ndarray"
      ]
     },
     "execution_count": 57,
     "metadata": {},
     "output_type": "execute_result"
    }
   ],
   "source": [
    "type(npa)"
   ]
  },
  {
   "cell_type": "code",
   "execution_count": 58,
   "id": "f01a04a4",
   "metadata": {
    "ExecuteTime": {
     "end_time": "2022-02-17T08:27:05.555503Z",
     "start_time": "2022-02-17T08:27:05.537516Z"
    }
   },
   "outputs": [
    {
     "data": {
      "text/plain": [
       "1"
      ]
     },
     "execution_count": 58,
     "metadata": {},
     "output_type": "execute_result"
    }
   ],
   "source": [
    "npa.ndim # types of dimension"
   ]
  },
  {
   "cell_type": "code",
   "execution_count": 59,
   "id": "bc4d48b6",
   "metadata": {
    "ExecuteTime": {
     "end_time": "2022-02-17T08:27:05.712808Z",
     "start_time": "2022-02-17T08:27:05.691865Z"
    }
   },
   "outputs": [
    {
     "data": {
      "text/plain": [
       "numpy.ndarray"
      ]
     },
     "execution_count": 59,
     "metadata": {},
     "output_type": "execute_result"
    }
   ],
   "source": [
    "x = np.array([[1,2],[5,6]]) # 2 dimensional array\n",
    "type(x)"
   ]
  },
  {
   "cell_type": "code",
   "execution_count": 60,
   "id": "bd8015c0",
   "metadata": {
    "ExecuteTime": {
     "end_time": "2022-02-17T08:27:05.917053Z",
     "start_time": "2022-02-17T08:27:05.898106Z"
    }
   },
   "outputs": [
    {
     "data": {
      "text/plain": [
       "2"
      ]
     },
     "execution_count": 60,
     "metadata": {},
     "output_type": "execute_result"
    }
   ],
   "source": [
    "x.ndim  # types of dimension"
   ]
  },
  {
   "cell_type": "code",
   "execution_count": 61,
   "id": "c32d080b",
   "metadata": {
    "ExecuteTime": {
     "end_time": "2022-02-17T08:27:06.058294Z",
     "start_time": "2022-02-17T08:27:06.049319Z"
    }
   },
   "outputs": [
    {
     "data": {
      "text/plain": [
       "array([[1, 2],\n",
       "       [5, 6]])"
      ]
     },
     "execution_count": 61,
     "metadata": {},
     "output_type": "execute_result"
    }
   ],
   "source": [
    "x"
   ]
  },
  {
   "cell_type": "code",
   "execution_count": 62,
   "id": "911eb094",
   "metadata": {
    "ExecuteTime": {
     "end_time": "2022-02-17T08:27:06.278415Z",
     "start_time": "2022-02-17T08:27:06.267442Z"
    }
   },
   "outputs": [
    {
     "data": {
      "text/plain": [
       "(2, 2)"
      ]
     },
     "execution_count": 62,
     "metadata": {},
     "output_type": "execute_result"
    }
   ],
   "source": [
    "x.shape #shape of array by column and row"
   ]
  },
  {
   "cell_type": "code",
   "execution_count": 63,
   "id": "e9b14e0a",
   "metadata": {
    "ExecuteTime": {
     "end_time": "2022-02-17T08:27:06.450990Z",
     "start_time": "2022-02-17T08:27:06.432043Z"
    }
   },
   "outputs": [],
   "source": [
    "y = np.array([[2,3,4],[5,6,7]])"
   ]
  },
  {
   "cell_type": "code",
   "execution_count": 64,
   "id": "cef204e7",
   "metadata": {
    "ExecuteTime": {
     "end_time": "2022-02-17T08:27:06.639970Z",
     "start_time": "2022-02-17T08:27:06.620983Z"
    }
   },
   "outputs": [
    {
     "data": {
      "text/plain": [
       "numpy.ndarray"
      ]
     },
     "execution_count": 64,
     "metadata": {},
     "output_type": "execute_result"
    }
   ],
   "source": [
    "type(y)"
   ]
  },
  {
   "cell_type": "code",
   "execution_count": 65,
   "id": "1ab511e5",
   "metadata": {
    "ExecuteTime": {
     "end_time": "2022-02-17T08:27:06.834267Z",
     "start_time": "2022-02-17T08:27:06.825288Z"
    }
   },
   "outputs": [
    {
     "data": {
      "text/plain": [
       "2"
      ]
     },
     "execution_count": 65,
     "metadata": {},
     "output_type": "execute_result"
    }
   ],
   "source": [
    "y.ndim"
   ]
  },
  {
   "cell_type": "code",
   "execution_count": 66,
   "id": "126b501c",
   "metadata": {
    "ExecuteTime": {
     "end_time": "2022-02-17T08:27:07.055542Z",
     "start_time": "2022-02-17T08:27:07.046564Z"
    }
   },
   "outputs": [
    {
     "data": {
      "text/plain": [
       "(2, 3)"
      ]
     },
     "execution_count": 66,
     "metadata": {},
     "output_type": "execute_result"
    }
   ],
   "source": [
    "y.shape"
   ]
  },
  {
   "cell_type": "code",
   "execution_count": 67,
   "id": "922aa577",
   "metadata": {
    "ExecuteTime": {
     "end_time": "2022-02-17T08:27:07.286794Z",
     "start_time": "2022-02-17T08:27:07.273830Z"
    }
   },
   "outputs": [
    {
     "data": {
      "text/plain": [
       "array([[2, 3, 4],\n",
       "       [5, 6, 7]])"
      ]
     },
     "execution_count": 67,
     "metadata": {},
     "output_type": "execute_result"
    }
   ],
   "source": [
    "y"
   ]
  },
  {
   "cell_type": "code",
   "execution_count": 68,
   "id": "56463d31",
   "metadata": {
    "ExecuteTime": {
     "end_time": "2022-02-17T08:27:07.646536Z",
     "start_time": "2022-02-17T08:27:07.636561Z"
    }
   },
   "outputs": [
    {
     "data": {
      "text/plain": [
       "array([2, 3, 4])"
      ]
     },
     "execution_count": 68,
     "metadata": {},
     "output_type": "execute_result"
    }
   ],
   "source": [
    "# to get the first array from 'y'\n",
    "y[0]"
   ]
  },
  {
   "cell_type": "code",
   "execution_count": 69,
   "id": "739b8575",
   "metadata": {
    "ExecuteTime": {
     "end_time": "2022-02-17T08:27:07.898966Z",
     "start_time": "2022-02-17T08:27:07.887996Z"
    }
   },
   "outputs": [
    {
     "data": {
      "text/plain": [
       "array([5, 6, 7])"
      ]
     },
     "execution_count": 69,
     "metadata": {},
     "output_type": "execute_result"
    }
   ],
   "source": [
    "y[1]"
   ]
  },
  {
   "cell_type": "code",
   "execution_count": 70,
   "id": "ea2444d4",
   "metadata": {
    "ExecuteTime": {
     "end_time": "2022-02-17T08:27:08.260764Z",
     "start_time": "2022-02-17T08:27:08.243810Z"
    }
   },
   "outputs": [
    {
     "data": {
      "text/plain": [
       "3"
      ]
     },
     "execution_count": 70,
     "metadata": {},
     "output_type": "execute_result"
    }
   ],
   "source": [
    "# to get 3 from the numpy array\n",
    "y[0][1]"
   ]
  },
  {
   "cell_type": "code",
   "execution_count": 71,
   "id": "5c6b3b97",
   "metadata": {
    "ExecuteTime": {
     "end_time": "2022-02-17T08:27:08.716612Z",
     "start_time": "2022-02-17T08:27:08.704646Z"
    }
   },
   "outputs": [
    {
     "data": {
      "text/plain": [
       "4"
      ]
     },
     "execution_count": 71,
     "metadata": {},
     "output_type": "execute_result"
    }
   ],
   "source": [
    "y[0][2]"
   ]
  },
  {
   "cell_type": "code",
   "execution_count": 72,
   "id": "5238847b",
   "metadata": {
    "ExecuteTime": {
     "end_time": "2022-02-17T08:27:09.616734Z",
     "start_time": "2022-02-17T08:27:09.605767Z"
    }
   },
   "outputs": [
    {
     "data": {
      "text/plain": [
       "5"
      ]
     },
     "execution_count": 72,
     "metadata": {},
     "output_type": "execute_result"
    }
   ],
   "source": [
    "y[1][0]"
   ]
  },
  {
   "cell_type": "code",
   "execution_count": 73,
   "id": "80b5dfb5",
   "metadata": {
    "ExecuteTime": {
     "end_time": "2022-02-17T08:27:10.371563Z",
     "start_time": "2022-02-17T08:27:10.365566Z"
    }
   },
   "outputs": [
    {
     "data": {
      "text/plain": [
       "6"
      ]
     },
     "execution_count": 73,
     "metadata": {},
     "output_type": "execute_result"
    }
   ],
   "source": [
    "y[1][1]"
   ]
  },
  {
   "cell_type": "code",
   "execution_count": 74,
   "id": "d3d1898e",
   "metadata": {
    "ExecuteTime": {
     "end_time": "2022-02-17T08:27:12.162994Z",
     "start_time": "2022-02-17T08:27:12.151024Z"
    }
   },
   "outputs": [
    {
     "data": {
      "text/plain": [
       "7"
      ]
     },
     "execution_count": 74,
     "metadata": {},
     "output_type": "execute_result"
    }
   ],
   "source": [
    "y[1][2]"
   ]
  },
  {
   "cell_type": "code",
   "execution_count": 75,
   "id": "593486c8",
   "metadata": {
    "ExecuteTime": {
     "end_time": "2022-02-17T08:27:13.516035Z",
     "start_time": "2022-02-17T08:27:13.506061Z"
    }
   },
   "outputs": [
    {
     "data": {
      "text/plain": [
       "array([1, 2, 3, 4, 5, 6, 7, 8, 9])"
      ]
     },
     "execution_count": 75,
     "metadata": {},
     "output_type": "execute_result"
    }
   ],
   "source": [
    "npa"
   ]
  },
  {
   "cell_type": "code",
   "execution_count": 76,
   "id": "0a8a73f7",
   "metadata": {
    "ExecuteTime": {
     "end_time": "2022-02-17T08:27:14.053924Z",
     "start_time": "2022-02-17T08:27:14.036970Z"
    }
   },
   "outputs": [
    {
     "data": {
      "text/plain": [
       "1"
      ]
     },
     "execution_count": 76,
     "metadata": {},
     "output_type": "execute_result"
    }
   ],
   "source": [
    "npa[0]"
   ]
  },
  {
   "cell_type": "code",
   "execution_count": 77,
   "id": "f00eb553",
   "metadata": {
    "ExecuteTime": {
     "end_time": "2022-02-17T08:27:15.216200Z",
     "start_time": "2022-02-17T08:27:15.201238Z"
    }
   },
   "outputs": [
    {
     "data": {
      "text/plain": [
       "4"
      ]
     },
     "execution_count": 77,
     "metadata": {},
     "output_type": "execute_result"
    }
   ],
   "source": [
    "npa[3]"
   ]
  },
  {
   "cell_type": "code",
   "execution_count": 78,
   "id": "6bb38789",
   "metadata": {
    "ExecuteTime": {
     "end_time": "2022-02-17T08:27:16.144575Z",
     "start_time": "2022-02-17T08:27:16.128541Z"
    }
   },
   "outputs": [
    {
     "data": {
      "text/plain": [
       "array([[1, 2, 3],\n",
       "       [4, 5, 6],\n",
       "       [7, 8, 9]])"
      ]
     },
     "execution_count": 78,
     "metadata": {},
     "output_type": "execute_result"
    }
   ],
   "source": [
    "#how to reshape an array\n",
    "npa.reshape(3,3)   #.shape #ndim"
   ]
  },
  {
   "cell_type": "code",
   "execution_count": 81,
   "id": "f68c37ff",
   "metadata": {
    "ExecuteTime": {
     "end_time": "2022-02-17T08:30:55.964950Z",
     "start_time": "2022-02-17T08:30:55.955972Z"
    }
   },
   "outputs": [
    {
     "data": {
      "text/plain": [
       "array([1, 2])"
      ]
     },
     "execution_count": 81,
     "metadata": {},
     "output_type": "execute_result"
    }
   ],
   "source": [
    "random.randint((2,3))"
   ]
  },
  {
   "cell_type": "code",
   "execution_count": 82,
   "id": "8693d044",
   "metadata": {
    "ExecuteTime": {
     "end_time": "2022-02-17T08:38:28.034170Z",
     "start_time": "2022-02-17T08:38:28.019196Z"
    }
   },
   "outputs": [
    {
     "data": {
      "text/plain": [
       "array([[0.33348403, 0.81459729, 0.39184255, 0.25899301, 0.03184875,\n",
       "        0.80074175],\n",
       "       [0.43294855, 0.52918612, 0.29382234, 0.44636829, 0.31809905,\n",
       "        0.73705578],\n",
       "       [0.71822255, 0.79840413, 0.46075557, 0.65476902, 0.65986942,\n",
       "        0.46074568],\n",
       "       [0.92940628, 0.76745697, 0.43273712, 0.91786365, 0.70494089,\n",
       "        0.69209946],\n",
       "       [0.8098904 , 0.05263408, 0.2716502 , 0.9049664 , 0.59612432,\n",
       "        0.50957065],\n",
       "       [0.48913821, 0.60423737, 0.37896888, 0.32549498, 0.93974888,\n",
       "        0.64991462],\n",
       "       [0.44791795, 0.66641795, 0.01787122, 0.24489638, 0.92325085,\n",
       "        0.67050636],\n",
       "       [0.53426122, 0.51475836, 0.93842614, 0.60651728, 0.54839792,\n",
       "        0.91718331],\n",
       "       [0.43946377, 0.74256119, 0.5716192 , 0.15252198, 0.08609696,\n",
       "        0.90350104],\n",
       "       [0.64422587, 0.89056845, 0.39981624, 0.23555069, 0.40308083,\n",
       "        0.25977332]])"
      ]
     },
     "execution_count": 82,
     "metadata": {},
     "output_type": "execute_result"
    }
   ],
   "source": [
    "random.random((10,6))"
   ]
  },
  {
   "cell_type": "code",
   "execution_count": 84,
   "id": "9787d1d7",
   "metadata": {
    "ExecuteTime": {
     "end_time": "2022-02-17T08:40:06.107985Z",
     "start_time": "2022-02-17T08:40:06.087996Z"
    }
   },
   "outputs": [
    {
     "data": {
      "text/plain": [
       "array([5.        , 5.04081633, 5.08163265, 5.12244898, 5.16326531,\n",
       "       5.20408163, 5.24489796, 5.28571429, 5.32653061, 5.36734694,\n",
       "       5.40816327, 5.44897959, 5.48979592, 5.53061224, 5.57142857,\n",
       "       5.6122449 , 5.65306122, 5.69387755, 5.73469388, 5.7755102 ,\n",
       "       5.81632653, 5.85714286, 5.89795918, 5.93877551, 5.97959184,\n",
       "       6.02040816, 6.06122449, 6.10204082, 6.14285714, 6.18367347,\n",
       "       6.2244898 , 6.26530612, 6.30612245, 6.34693878, 6.3877551 ,\n",
       "       6.42857143, 6.46938776, 6.51020408, 6.55102041, 6.59183673,\n",
       "       6.63265306, 6.67346939, 6.71428571, 6.75510204, 6.79591837,\n",
       "       6.83673469, 6.87755102, 6.91836735, 6.95918367, 7.        ])"
      ]
     },
     "execution_count": 84,
     "metadata": {},
     "output_type": "execute_result"
    }
   ],
   "source": [
    "np.linspace(5,7)"
   ]
  },
  {
   "cell_type": "code",
   "execution_count": 85,
   "id": "994db3dc",
   "metadata": {
    "ExecuteTime": {
     "end_time": "2022-02-17T08:40:31.576541Z",
     "start_time": "2022-02-17T08:40:31.566543Z"
    }
   },
   "outputs": [
    {
     "data": {
      "text/plain": [
       "50"
      ]
     },
     "execution_count": 85,
     "metadata": {},
     "output_type": "execute_result"
    }
   ],
   "source": [
    "len(np.linspace(5,7))"
   ]
  },
  {
   "cell_type": "code",
   "execution_count": 87,
   "id": "78d33806",
   "metadata": {
    "ExecuteTime": {
     "end_time": "2022-02-17T08:51:35.565022Z",
     "start_time": "2022-02-17T08:51:35.548070Z"
    }
   },
   "outputs": [
    {
     "data": {
      "text/plain": [
       "(array([5.        , 5.10526316, 5.21052632, 5.31578947, 5.42105263,\n",
       "        5.52631579, 5.63157895, 5.73684211, 5.84210526, 5.94736842,\n",
       "        6.05263158, 6.15789474, 6.26315789, 6.36842105, 6.47368421,\n",
       "        6.57894737, 6.68421053, 6.78947368, 6.89473684, 7.        ]),\n",
       " 0.10526315789473684)"
      ]
     },
     "execution_count": 87,
     "metadata": {},
     "output_type": "execute_result"
    }
   ],
   "source": [
    "np.linspace(5,7, num=20, retstep=2) #num:(int) Number of samples to genrate. Default is 50 & non-negative\n",
    "# retstep; if True, return (samples, step is the spacing between samples."
   ]
  },
  {
   "cell_type": "markdown",
   "id": "4f7d7a44",
   "metadata": {},
   "source": [
    "# introduction to pandas"
   ]
  },
  {
   "cell_type": "code",
   "execution_count": 229,
   "id": "0b78bd51",
   "metadata": {
    "ExecuteTime": {
     "end_time": "2022-02-18T00:34:57.471721Z",
     "start_time": "2022-02-18T00:34:56.579935Z"
    }
   },
   "outputs": [],
   "source": [
    "import numpy as np\n",
    "import pandas as pd\n",
    "import matplotlib.pyplot as plt "
   ]
  },
  {
   "cell_type": "code",
   "execution_count": 107,
   "id": "3ff957b3",
   "metadata": {
    "ExecuteTime": {
     "end_time": "2022-02-17T17:29:02.222013Z",
     "start_time": "2022-02-17T17:29:02.206977Z"
    }
   },
   "outputs": [],
   "source": [
    "# Series ( create a py series from list, dict, tuple )"
   ]
  },
  {
   "cell_type": "code",
   "execution_count": 108,
   "id": "540263fd",
   "metadata": {
    "ExecuteTime": {
     "end_time": "2022-02-17T17:29:02.766691Z",
     "start_time": "2022-02-17T17:29:02.751687Z"
    }
   },
   "outputs": [],
   "source": [
    "#list method\n",
    "l1 =[1,2,3,4,5,6,]\n",
    "#convert to py series\n",
    "ps1=pd.Series(l1, index=['one','two','three','four','five','six'])"
   ]
  },
  {
   "cell_type": "code",
   "execution_count": 109,
   "id": "9d8b756f",
   "metadata": {
    "ExecuteTime": {
     "end_time": "2022-02-17T17:29:03.112565Z",
     "start_time": "2022-02-17T17:29:03.072586Z"
    }
   },
   "outputs": [
    {
     "data": {
      "text/plain": [
       "one      1\n",
       "two      2\n",
       "three    3\n",
       "four     4\n",
       "five     5\n",
       "six      6\n",
       "dtype: int64"
      ]
     },
     "execution_count": 109,
     "metadata": {},
     "output_type": "execute_result"
    }
   ],
   "source": [
    "ps1"
   ]
  },
  {
   "cell_type": "code",
   "execution_count": 110,
   "id": "ff141cc4",
   "metadata": {
    "ExecuteTime": {
     "end_time": "2022-02-17T17:29:03.300987Z",
     "start_time": "2022-02-17T17:29:03.285993Z"
    }
   },
   "outputs": [],
   "source": [
    "# dictionay\n",
    "d1 = {\n",
    "    'Nigeria': 1000,\n",
    "    'India': 2000,\n",
    "    'Brazil': 4000\n",
    "}\n",
    "ps2 = pd.Series(d1)"
   ]
  },
  {
   "cell_type": "code",
   "execution_count": 111,
   "id": "738e7a8c",
   "metadata": {
    "ExecuteTime": {
     "end_time": "2022-02-17T17:29:03.496158Z",
     "start_time": "2022-02-17T17:29:03.476198Z"
    }
   },
   "outputs": [
    {
     "data": {
      "text/plain": [
       "Nigeria    1000\n",
       "India      2000\n",
       "Brazil     4000\n",
       "dtype: int64"
      ]
     },
     "execution_count": 111,
     "metadata": {},
     "output_type": "execute_result"
    }
   ],
   "source": [
    "ps2"
   ]
  },
  {
   "cell_type": "code",
   "execution_count": 112,
   "id": "3d5047b0",
   "metadata": {
    "ExecuteTime": {
     "end_time": "2022-02-17T17:29:03.686584Z",
     "start_time": "2022-02-17T17:29:03.671590Z"
    }
   },
   "outputs": [
    {
     "data": {
      "text/plain": [
       "2000"
      ]
     },
     "execution_count": 112,
     "metadata": {},
     "output_type": "execute_result"
    }
   ],
   "source": [
    "ps2['India']"
   ]
  },
  {
   "cell_type": "code",
   "execution_count": 105,
   "id": "c0cf287d",
   "metadata": {
    "ExecuteTime": {
     "end_time": "2022-02-17T17:27:53.368278Z",
     "start_time": "2022-02-17T17:27:53.358285Z"
    }
   },
   "outputs": [
    {
     "data": {
      "text/plain": [
       "1000"
      ]
     },
     "execution_count": 105,
     "metadata": {},
     "output_type": "execute_result"
    }
   ],
   "source": [
    "ps2[0]"
   ]
  },
  {
   "cell_type": "code",
   "execution_count": 129,
   "id": "25c98eed",
   "metadata": {
    "ExecuteTime": {
     "end_time": "2022-02-17T18:00:11.181334Z",
     "start_time": "2022-02-17T18:00:11.166317Z"
    }
   },
   "outputs": [],
   "source": [
    "t= np.linspace(2,6, num=20)#.reshape(5,4) #generate an array"
   ]
  },
  {
   "cell_type": "code",
   "execution_count": 130,
   "id": "2658a1e3",
   "metadata": {
    "ExecuteTime": {
     "end_time": "2022-02-17T18:00:12.668604Z",
     "start_time": "2022-02-17T18:00:12.658586Z"
    }
   },
   "outputs": [
    {
     "data": {
      "text/plain": [
       "array([2.        , 2.21052632, 2.42105263, 2.63157895, 2.84210526,\n",
       "       3.05263158, 3.26315789, 3.47368421, 3.68421053, 3.89473684,\n",
       "       4.10526316, 4.31578947, 4.52631579, 4.73684211, 4.94736842,\n",
       "       5.15789474, 5.36842105, 5.57894737, 5.78947368, 6.        ])"
      ]
     },
     "execution_count": 130,
     "metadata": {},
     "output_type": "execute_result"
    }
   ],
   "source": [
    "t"
   ]
  },
  {
   "cell_type": "code",
   "execution_count": 131,
   "id": "c369be88",
   "metadata": {
    "ExecuteTime": {
     "end_time": "2022-02-17T18:00:14.460704Z",
     "start_time": "2022-02-17T18:00:14.440671Z"
    }
   },
   "outputs": [
    {
     "data": {
      "text/plain": [
       "1"
      ]
     },
     "execution_count": 131,
     "metadata": {},
     "output_type": "execute_result"
    }
   ],
   "source": [
    "t.ndim"
   ]
  },
  {
   "cell_type": "code",
   "execution_count": 132,
   "id": "a6ba6c26",
   "metadata": {
    "ExecuteTime": {
     "end_time": "2022-02-17T18:00:15.973223Z",
     "start_time": "2022-02-17T18:00:15.953194Z"
    }
   },
   "outputs": [
    {
     "data": {
      "text/html": [
       "<div>\n",
       "<style scoped>\n",
       "    .dataframe tbody tr th:only-of-type {\n",
       "        vertical-align: middle;\n",
       "    }\n",
       "\n",
       "    .dataframe tbody tr th {\n",
       "        vertical-align: top;\n",
       "    }\n",
       "\n",
       "    .dataframe thead th {\n",
       "        text-align: right;\n",
       "    }\n",
       "</style>\n",
       "<table border=\"1\" class=\"dataframe\">\n",
       "  <thead>\n",
       "    <tr style=\"text-align: right;\">\n",
       "      <th></th>\n",
       "      <th>0</th>\n",
       "    </tr>\n",
       "  </thead>\n",
       "  <tbody>\n",
       "    <tr>\n",
       "      <th>0</th>\n",
       "      <td>2.000000</td>\n",
       "    </tr>\n",
       "    <tr>\n",
       "      <th>1</th>\n",
       "      <td>2.210526</td>\n",
       "    </tr>\n",
       "    <tr>\n",
       "      <th>2</th>\n",
       "      <td>2.421053</td>\n",
       "    </tr>\n",
       "    <tr>\n",
       "      <th>3</th>\n",
       "      <td>2.631579</td>\n",
       "    </tr>\n",
       "    <tr>\n",
       "      <th>4</th>\n",
       "      <td>2.842105</td>\n",
       "    </tr>\n",
       "    <tr>\n",
       "      <th>5</th>\n",
       "      <td>3.052632</td>\n",
       "    </tr>\n",
       "    <tr>\n",
       "      <th>6</th>\n",
       "      <td>3.263158</td>\n",
       "    </tr>\n",
       "    <tr>\n",
       "      <th>7</th>\n",
       "      <td>3.473684</td>\n",
       "    </tr>\n",
       "    <tr>\n",
       "      <th>8</th>\n",
       "      <td>3.684211</td>\n",
       "    </tr>\n",
       "    <tr>\n",
       "      <th>9</th>\n",
       "      <td>3.894737</td>\n",
       "    </tr>\n",
       "    <tr>\n",
       "      <th>10</th>\n",
       "      <td>4.105263</td>\n",
       "    </tr>\n",
       "    <tr>\n",
       "      <th>11</th>\n",
       "      <td>4.315789</td>\n",
       "    </tr>\n",
       "    <tr>\n",
       "      <th>12</th>\n",
       "      <td>4.526316</td>\n",
       "    </tr>\n",
       "    <tr>\n",
       "      <th>13</th>\n",
       "      <td>4.736842</td>\n",
       "    </tr>\n",
       "    <tr>\n",
       "      <th>14</th>\n",
       "      <td>4.947368</td>\n",
       "    </tr>\n",
       "    <tr>\n",
       "      <th>15</th>\n",
       "      <td>5.157895</td>\n",
       "    </tr>\n",
       "    <tr>\n",
       "      <th>16</th>\n",
       "      <td>5.368421</td>\n",
       "    </tr>\n",
       "    <tr>\n",
       "      <th>17</th>\n",
       "      <td>5.578947</td>\n",
       "    </tr>\n",
       "    <tr>\n",
       "      <th>18</th>\n",
       "      <td>5.789474</td>\n",
       "    </tr>\n",
       "    <tr>\n",
       "      <th>19</th>\n",
       "      <td>6.000000</td>\n",
       "    </tr>\n",
       "  </tbody>\n",
       "</table>\n",
       "</div>"
      ],
      "text/plain": [
       "           0\n",
       "0   2.000000\n",
       "1   2.210526\n",
       "2   2.421053\n",
       "3   2.631579\n",
       "4   2.842105\n",
       "5   3.052632\n",
       "6   3.263158\n",
       "7   3.473684\n",
       "8   3.684211\n",
       "9   3.894737\n",
       "10  4.105263\n",
       "11  4.315789\n",
       "12  4.526316\n",
       "13  4.736842\n",
       "14  4.947368\n",
       "15  5.157895\n",
       "16  5.368421\n",
       "17  5.578947\n",
       "18  5.789474\n",
       "19  6.000000"
      ]
     },
     "execution_count": 132,
     "metadata": {},
     "output_type": "execute_result"
    }
   ],
   "source": [
    "pd.DataFrame(t)"
   ]
  },
  {
   "cell_type": "code",
   "execution_count": 133,
   "id": "66c51b7c",
   "metadata": {
    "ExecuteTime": {
     "end_time": "2022-02-17T18:00:34.322136Z",
     "start_time": "2022-02-17T18:00:34.302034Z"
    }
   },
   "outputs": [
    {
     "data": {
      "text/plain": [
       "array([2.        , 2.21052632, 2.42105263, 2.63157895, 2.84210526,\n",
       "       3.05263158, 3.26315789, 3.47368421, 3.68421053, 3.89473684,\n",
       "       4.10526316, 4.31578947, 4.52631579, 4.73684211, 4.94736842,\n",
       "       5.15789474, 5.36842105, 5.57894737, 5.78947368, 6.        ])"
      ]
     },
     "execution_count": 133,
     "metadata": {},
     "output_type": "execute_result"
    }
   ],
   "source": [
    "t"
   ]
  },
  {
   "cell_type": "code",
   "execution_count": 135,
   "id": "63776905",
   "metadata": {
    "ExecuteTime": {
     "end_time": "2022-02-17T18:01:33.499979Z",
     "start_time": "2022-02-17T18:01:33.484975Z"
    }
   },
   "outputs": [],
   "source": [
    "x_series = pd.Series(t)"
   ]
  },
  {
   "cell_type": "code",
   "execution_count": 137,
   "id": "348c4866",
   "metadata": {
    "ExecuteTime": {
     "end_time": "2022-02-17T18:02:10.026265Z",
     "start_time": "2022-02-17T18:02:10.006273Z"
    }
   },
   "outputs": [
    {
     "data": {
      "text/plain": [
       "3.999999999999999"
      ]
     },
     "execution_count": 137,
     "metadata": {},
     "output_type": "execute_result"
    }
   ],
   "source": [
    "x_series.mean()"
   ]
  },
  {
   "cell_type": "code",
   "execution_count": 138,
   "id": "e27ed3f6",
   "metadata": {
    "ExecuteTime": {
     "end_time": "2022-02-17T18:03:22.336015Z",
     "start_time": "2022-02-17T18:03:22.321065Z"
    }
   },
   "outputs": [],
   "source": [
    "# rounding up to 2 decimal places"
   ]
  },
  {
   "cell_type": "code",
   "execution_count": 139,
   "id": "e93030c0",
   "metadata": {
    "ExecuteTime": {
     "end_time": "2022-02-17T18:04:18.555680Z",
     "start_time": "2022-02-17T18:04:18.540690Z"
    }
   },
   "outputs": [
    {
     "data": {
      "text/plain": [
       "4.0"
      ]
     },
     "execution_count": 139,
     "metadata": {},
     "output_type": "execute_result"
    }
   ],
   "source": [
    "round(x_series.mean(), 2)"
   ]
  },
  {
   "cell_type": "code",
   "execution_count": 140,
   "id": "aa011144",
   "metadata": {
    "ExecuteTime": {
     "end_time": "2022-02-17T18:05:26.958641Z",
     "start_time": "2022-02-17T18:05:26.938439Z"
    }
   },
   "outputs": [
    {
     "data": {
      "text/plain": [
       "0     2.000000\n",
       "1     2.210526\n",
       "2     2.421053\n",
       "3     2.631579\n",
       "4     2.842105\n",
       "5     3.052632\n",
       "6     3.263158\n",
       "7     3.473684\n",
       "8     3.684211\n",
       "9     3.894737\n",
       "10    4.105263\n",
       "11    4.315789\n",
       "12    4.526316\n",
       "13    4.736842\n",
       "14    4.947368\n",
       "15    5.157895\n",
       "16    5.368421\n",
       "17    5.578947\n",
       "18    5.789474\n",
       "19    6.000000\n",
       "dtype: float64"
      ]
     },
     "execution_count": 140,
     "metadata": {},
     "output_type": "execute_result"
    }
   ],
   "source": [
    "# finding mode\n",
    "x_series.mode()"
   ]
  },
  {
   "cell_type": "code",
   "execution_count": 141,
   "id": "efbfa23d",
   "metadata": {
    "ExecuteTime": {
     "end_time": "2022-02-17T18:06:02.593975Z",
     "start_time": "2022-02-17T18:06:02.568989Z"
    }
   },
   "outputs": [
    {
     "data": {
      "text/plain": [
       "3.9999999999999996"
      ]
     },
     "execution_count": 141,
     "metadata": {},
     "output_type": "execute_result"
    }
   ],
   "source": [
    "x_series.median()"
   ]
  },
  {
   "cell_type": "code",
   "execution_count": 142,
   "id": "4b951b3c",
   "metadata": {
    "ExecuteTime": {
     "end_time": "2022-02-17T18:06:55.672585Z",
     "start_time": "2022-02-17T18:06:55.647599Z"
    }
   },
   "outputs": [
    {
     "data": {
      "text/plain": [
       "80.0"
      ]
     },
     "execution_count": 142,
     "metadata": {},
     "output_type": "execute_result"
    }
   ],
   "source": [
    "x_series.sum()"
   ]
  },
  {
   "cell_type": "code",
   "execution_count": 145,
   "id": "e2d466ce",
   "metadata": {
    "ExecuteTime": {
     "end_time": "2022-02-17T18:07:39.385326Z",
     "start_time": "2022-02-17T18:07:39.360340Z"
    }
   },
   "outputs": [
    {
     "data": {
      "text/plain": [
       "2.000000    1\n",
       "2.210526    1\n",
       "5.789474    1\n",
       "5.578947    1\n",
       "5.368421    1\n",
       "5.157895    1\n",
       "4.947368    1\n",
       "4.736842    1\n",
       "4.526316    1\n",
       "4.315789    1\n",
       "4.105263    1\n",
       "3.894737    1\n",
       "3.684211    1\n",
       "3.473684    1\n",
       "3.263158    1\n",
       "3.052632    1\n",
       "2.842105    1\n",
       "2.631579    1\n",
       "2.421053    1\n",
       "6.000000    1\n",
       "dtype: int64"
      ]
     },
     "execution_count": 145,
     "metadata": {},
     "output_type": "execute_result"
    }
   ],
   "source": [
    "x_series.value_counts()"
   ]
  },
  {
   "cell_type": "code",
   "execution_count": 147,
   "id": "04999910",
   "metadata": {
    "ExecuteTime": {
     "end_time": "2022-02-17T18:26:23.866151Z",
     "start_time": "2022-02-17T18:26:23.851158Z"
    }
   },
   "outputs": [
    {
     "data": {
      "text/html": [
       "<div>\n",
       "<style scoped>\n",
       "    .dataframe tbody tr th:only-of-type {\n",
       "        vertical-align: middle;\n",
       "    }\n",
       "\n",
       "    .dataframe tbody tr th {\n",
       "        vertical-align: top;\n",
       "    }\n",
       "\n",
       "    .dataframe thead th {\n",
       "        text-align: right;\n",
       "    }\n",
       "</style>\n",
       "<table border=\"1\" class=\"dataframe\">\n",
       "  <thead>\n",
       "    <tr style=\"text-align: right;\">\n",
       "      <th></th>\n",
       "      <th>Nigeria</th>\n",
       "      <th>India</th>\n",
       "      <th>Brazil</th>\n",
       "    </tr>\n",
       "  </thead>\n",
       "  <tbody>\n",
       "    <tr>\n",
       "      <th>population</th>\n",
       "      <td>1000</td>\n",
       "      <td>2000</td>\n",
       "      <td>4000</td>\n",
       "    </tr>\n",
       "  </tbody>\n",
       "</table>\n",
       "</div>"
      ],
      "text/plain": [
       "            Nigeria  India  Brazil\n",
       "population     1000   2000    4000"
      ]
     },
     "execution_count": 147,
     "metadata": {},
     "output_type": "execute_result"
    }
   ],
   "source": [
    "# dataframes using a list or dict\n",
    "pd.DataFrame(d1, index=['population'])"
   ]
  },
  {
   "cell_type": "code",
   "execution_count": 149,
   "id": "6abccece",
   "metadata": {
    "ExecuteTime": {
     "end_time": "2022-02-17T18:28:22.992424Z",
     "start_time": "2022-02-17T18:28:22.977432Z"
    }
   },
   "outputs": [],
   "source": [
    "i= np.linspace(2,6, num=20).reshape(5,4)"
   ]
  },
  {
   "cell_type": "code",
   "execution_count": 150,
   "id": "5e5bd0e2",
   "metadata": {
    "ExecuteTime": {
     "end_time": "2022-02-17T18:28:27.762919Z",
     "start_time": "2022-02-17T18:28:27.752924Z"
    }
   },
   "outputs": [
    {
     "data": {
      "text/plain": [
       "array([[2.        , 2.21052632, 2.42105263, 2.63157895],\n",
       "       [2.84210526, 3.05263158, 3.26315789, 3.47368421],\n",
       "       [3.68421053, 3.89473684, 4.10526316, 4.31578947],\n",
       "       [4.52631579, 4.73684211, 4.94736842, 5.15789474],\n",
       "       [5.36842105, 5.57894737, 5.78947368, 6.        ]])"
      ]
     },
     "execution_count": 150,
     "metadata": {},
     "output_type": "execute_result"
    }
   ],
   "source": [
    "i"
   ]
  },
  {
   "cell_type": "code",
   "execution_count": 151,
   "id": "bc56453d",
   "metadata": {
    "ExecuteTime": {
     "end_time": "2022-02-17T18:28:35.083800Z",
     "start_time": "2022-02-17T18:28:35.073843Z"
    }
   },
   "outputs": [
    {
     "data": {
      "text/plain": [
       "2"
      ]
     },
     "execution_count": 151,
     "metadata": {},
     "output_type": "execute_result"
    }
   ],
   "source": [
    "i.ndim"
   ]
  },
  {
   "cell_type": "code",
   "execution_count": 153,
   "id": "fcea9e9e",
   "metadata": {
    "ExecuteTime": {
     "end_time": "2022-02-17T18:30:26.250518Z",
     "start_time": "2022-02-17T18:30:26.235526Z"
    }
   },
   "outputs": [
    {
     "data": {
      "text/html": [
       "<div>\n",
       "<style scoped>\n",
       "    .dataframe tbody tr th:only-of-type {\n",
       "        vertical-align: middle;\n",
       "    }\n",
       "\n",
       "    .dataframe tbody tr th {\n",
       "        vertical-align: top;\n",
       "    }\n",
       "\n",
       "    .dataframe thead th {\n",
       "        text-align: right;\n",
       "    }\n",
       "</style>\n",
       "<table border=\"1\" class=\"dataframe\">\n",
       "  <thead>\n",
       "    <tr style=\"text-align: right;\">\n",
       "      <th></th>\n",
       "      <th>0</th>\n",
       "      <th>1</th>\n",
       "      <th>2</th>\n",
       "      <th>3</th>\n",
       "    </tr>\n",
       "  </thead>\n",
       "  <tbody>\n",
       "    <tr>\n",
       "      <th>0</th>\n",
       "      <td>2.000000</td>\n",
       "      <td>2.210526</td>\n",
       "      <td>2.421053</td>\n",
       "      <td>2.631579</td>\n",
       "    </tr>\n",
       "    <tr>\n",
       "      <th>1</th>\n",
       "      <td>2.842105</td>\n",
       "      <td>3.052632</td>\n",
       "      <td>3.263158</td>\n",
       "      <td>3.473684</td>\n",
       "    </tr>\n",
       "    <tr>\n",
       "      <th>2</th>\n",
       "      <td>3.684211</td>\n",
       "      <td>3.894737</td>\n",
       "      <td>4.105263</td>\n",
       "      <td>4.315789</td>\n",
       "    </tr>\n",
       "    <tr>\n",
       "      <th>3</th>\n",
       "      <td>4.526316</td>\n",
       "      <td>4.736842</td>\n",
       "      <td>4.947368</td>\n",
       "      <td>5.157895</td>\n",
       "    </tr>\n",
       "    <tr>\n",
       "      <th>4</th>\n",
       "      <td>5.368421</td>\n",
       "      <td>5.578947</td>\n",
       "      <td>5.789474</td>\n",
       "      <td>6.000000</td>\n",
       "    </tr>\n",
       "  </tbody>\n",
       "</table>\n",
       "</div>"
      ],
      "text/plain": [
       "          0         1         2         3\n",
       "0  2.000000  2.210526  2.421053  2.631579\n",
       "1  2.842105  3.052632  3.263158  3.473684\n",
       "2  3.684211  3.894737  4.105263  4.315789\n",
       "3  4.526316  4.736842  4.947368  5.157895\n",
       "4  5.368421  5.578947  5.789474  6.000000"
      ]
     },
     "execution_count": 153,
     "metadata": {},
     "output_type": "execute_result"
    }
   ],
   "source": [
    "#creating dataframe\n",
    "pd.DataFrame(i)"
   ]
  },
  {
   "cell_type": "code",
   "execution_count": 155,
   "id": "8d59b1d1",
   "metadata": {
    "ExecuteTime": {
     "end_time": "2022-02-17T18:33:38.805715Z",
     "start_time": "2022-02-17T18:33:38.770731Z"
    }
   },
   "outputs": [],
   "source": [
    "# reading data in CSV comma sperated value\n",
    "df = pd.read_csv('dataset/titanic_data.csv')"
   ]
  },
  {
   "cell_type": "code",
   "execution_count": 156,
   "id": "11398359",
   "metadata": {
    "ExecuteTime": {
     "end_time": "2022-02-17T22:41:25.924473Z",
     "start_time": "2022-02-17T22:41:25.887102Z"
    }
   },
   "outputs": [
    {
     "data": {
      "text/html": [
       "<div>\n",
       "<style scoped>\n",
       "    .dataframe tbody tr th:only-of-type {\n",
       "        vertical-align: middle;\n",
       "    }\n",
       "\n",
       "    .dataframe tbody tr th {\n",
       "        vertical-align: top;\n",
       "    }\n",
       "\n",
       "    .dataframe thead th {\n",
       "        text-align: right;\n",
       "    }\n",
       "</style>\n",
       "<table border=\"1\" class=\"dataframe\">\n",
       "  <thead>\n",
       "    <tr style=\"text-align: right;\">\n",
       "      <th></th>\n",
       "      <th>PassengerId</th>\n",
       "      <th>Survived</th>\n",
       "      <th>Pclass</th>\n",
       "      <th>Name</th>\n",
       "      <th>Sex</th>\n",
       "      <th>Age</th>\n",
       "      <th>SibSp</th>\n",
       "      <th>Parch</th>\n",
       "      <th>Ticket</th>\n",
       "      <th>Fare</th>\n",
       "      <th>Cabin</th>\n",
       "      <th>Embarked</th>\n",
       "    </tr>\n",
       "  </thead>\n",
       "  <tbody>\n",
       "    <tr>\n",
       "      <th>0</th>\n",
       "      <td>1</td>\n",
       "      <td>0</td>\n",
       "      <td>3</td>\n",
       "      <td>Braund, Mr. Owen Harris</td>\n",
       "      <td>male</td>\n",
       "      <td>22.0</td>\n",
       "      <td>1</td>\n",
       "      <td>0</td>\n",
       "      <td>A/5 21171</td>\n",
       "      <td>7.2500</td>\n",
       "      <td>NaN</td>\n",
       "      <td>S</td>\n",
       "    </tr>\n",
       "    <tr>\n",
       "      <th>1</th>\n",
       "      <td>2</td>\n",
       "      <td>1</td>\n",
       "      <td>1</td>\n",
       "      <td>Cumings, Mrs. John Bradley (Florence Briggs Th...</td>\n",
       "      <td>female</td>\n",
       "      <td>38.0</td>\n",
       "      <td>1</td>\n",
       "      <td>0</td>\n",
       "      <td>PC 17599</td>\n",
       "      <td>71.2833</td>\n",
       "      <td>C85</td>\n",
       "      <td>C</td>\n",
       "    </tr>\n",
       "    <tr>\n",
       "      <th>2</th>\n",
       "      <td>3</td>\n",
       "      <td>1</td>\n",
       "      <td>3</td>\n",
       "      <td>Heikkinen, Miss. Laina</td>\n",
       "      <td>female</td>\n",
       "      <td>26.0</td>\n",
       "      <td>0</td>\n",
       "      <td>0</td>\n",
       "      <td>STON/O2. 3101282</td>\n",
       "      <td>7.9250</td>\n",
       "      <td>NaN</td>\n",
       "      <td>S</td>\n",
       "    </tr>\n",
       "    <tr>\n",
       "      <th>3</th>\n",
       "      <td>4</td>\n",
       "      <td>1</td>\n",
       "      <td>1</td>\n",
       "      <td>Futrelle, Mrs. Jacques Heath (Lily May Peel)</td>\n",
       "      <td>female</td>\n",
       "      <td>35.0</td>\n",
       "      <td>1</td>\n",
       "      <td>0</td>\n",
       "      <td>113803</td>\n",
       "      <td>53.1000</td>\n",
       "      <td>C123</td>\n",
       "      <td>S</td>\n",
       "    </tr>\n",
       "    <tr>\n",
       "      <th>4</th>\n",
       "      <td>5</td>\n",
       "      <td>0</td>\n",
       "      <td>3</td>\n",
       "      <td>Allen, Mr. William Henry</td>\n",
       "      <td>male</td>\n",
       "      <td>35.0</td>\n",
       "      <td>0</td>\n",
       "      <td>0</td>\n",
       "      <td>373450</td>\n",
       "      <td>8.0500</td>\n",
       "      <td>NaN</td>\n",
       "      <td>S</td>\n",
       "    </tr>\n",
       "  </tbody>\n",
       "</table>\n",
       "</div>"
      ],
      "text/plain": [
       "   PassengerId  Survived  Pclass  \\\n",
       "0            1         0       3   \n",
       "1            2         1       1   \n",
       "2            3         1       3   \n",
       "3            4         1       1   \n",
       "4            5         0       3   \n",
       "\n",
       "                                                Name     Sex   Age  SibSp  \\\n",
       "0                            Braund, Mr. Owen Harris    male  22.0      1   \n",
       "1  Cumings, Mrs. John Bradley (Florence Briggs Th...  female  38.0      1   \n",
       "2                             Heikkinen, Miss. Laina  female  26.0      0   \n",
       "3       Futrelle, Mrs. Jacques Heath (Lily May Peel)  female  35.0      1   \n",
       "4                           Allen, Mr. William Henry    male  35.0      0   \n",
       "\n",
       "   Parch            Ticket     Fare Cabin Embarked  \n",
       "0      0         A/5 21171   7.2500   NaN        S  \n",
       "1      0          PC 17599  71.2833   C85        C  \n",
       "2      0  STON/O2. 3101282   7.9250   NaN        S  \n",
       "3      0            113803  53.1000  C123        S  \n",
       "4      0            373450   8.0500   NaN        S  "
      ]
     },
     "execution_count": 156,
     "metadata": {},
     "output_type": "execute_result"
    }
   ],
   "source": [
    "# check ur heading of ur data set\n",
    "df.head()"
   ]
  },
  {
   "cell_type": "code",
   "execution_count": 158,
   "id": "f5367d0d",
   "metadata": {
    "ExecuteTime": {
     "end_time": "2022-02-17T22:46:19.558131Z",
     "start_time": "2022-02-17T22:46:19.521229Z"
    }
   },
   "outputs": [
    {
     "data": {
      "text/html": [
       "<div>\n",
       "<style scoped>\n",
       "    .dataframe tbody tr th:only-of-type {\n",
       "        vertical-align: middle;\n",
       "    }\n",
       "\n",
       "    .dataframe tbody tr th {\n",
       "        vertical-align: top;\n",
       "    }\n",
       "\n",
       "    .dataframe thead th {\n",
       "        text-align: right;\n",
       "    }\n",
       "</style>\n",
       "<table border=\"1\" class=\"dataframe\">\n",
       "  <thead>\n",
       "    <tr style=\"text-align: right;\">\n",
       "      <th></th>\n",
       "      <th>PassengerId</th>\n",
       "      <th>Survived</th>\n",
       "      <th>Pclass</th>\n",
       "      <th>Name</th>\n",
       "      <th>Sex</th>\n",
       "      <th>Age</th>\n",
       "      <th>SibSp</th>\n",
       "      <th>Parch</th>\n",
       "      <th>Ticket</th>\n",
       "      <th>Fare</th>\n",
       "      <th>Cabin</th>\n",
       "      <th>Embarked</th>\n",
       "    </tr>\n",
       "  </thead>\n",
       "  <tbody>\n",
       "    <tr>\n",
       "      <th>871</th>\n",
       "      <td>872</td>\n",
       "      <td>1</td>\n",
       "      <td>1</td>\n",
       "      <td>Beckwith, Mrs. Richard Leonard (Sallie Monypeny)</td>\n",
       "      <td>female</td>\n",
       "      <td>47.0</td>\n",
       "      <td>1</td>\n",
       "      <td>1</td>\n",
       "      <td>11751</td>\n",
       "      <td>52.5542</td>\n",
       "      <td>D35</td>\n",
       "      <td>S</td>\n",
       "    </tr>\n",
       "    <tr>\n",
       "      <th>872</th>\n",
       "      <td>873</td>\n",
       "      <td>0</td>\n",
       "      <td>1</td>\n",
       "      <td>Carlsson, Mr. Frans Olof</td>\n",
       "      <td>male</td>\n",
       "      <td>33.0</td>\n",
       "      <td>0</td>\n",
       "      <td>0</td>\n",
       "      <td>695</td>\n",
       "      <td>5.0000</td>\n",
       "      <td>B51 B53 B55</td>\n",
       "      <td>S</td>\n",
       "    </tr>\n",
       "    <tr>\n",
       "      <th>873</th>\n",
       "      <td>874</td>\n",
       "      <td>0</td>\n",
       "      <td>3</td>\n",
       "      <td>Vander Cruyssen, Mr. Victor</td>\n",
       "      <td>male</td>\n",
       "      <td>47.0</td>\n",
       "      <td>0</td>\n",
       "      <td>0</td>\n",
       "      <td>345765</td>\n",
       "      <td>9.0000</td>\n",
       "      <td>NaN</td>\n",
       "      <td>S</td>\n",
       "    </tr>\n",
       "    <tr>\n",
       "      <th>874</th>\n",
       "      <td>875</td>\n",
       "      <td>1</td>\n",
       "      <td>2</td>\n",
       "      <td>Abelson, Mrs. Samuel (Hannah Wizosky)</td>\n",
       "      <td>female</td>\n",
       "      <td>28.0</td>\n",
       "      <td>1</td>\n",
       "      <td>0</td>\n",
       "      <td>P/PP 3381</td>\n",
       "      <td>24.0000</td>\n",
       "      <td>NaN</td>\n",
       "      <td>C</td>\n",
       "    </tr>\n",
       "    <tr>\n",
       "      <th>875</th>\n",
       "      <td>876</td>\n",
       "      <td>1</td>\n",
       "      <td>3</td>\n",
       "      <td>Najib, Miss. Adele Kiamie \"Jane\"</td>\n",
       "      <td>female</td>\n",
       "      <td>15.0</td>\n",
       "      <td>0</td>\n",
       "      <td>0</td>\n",
       "      <td>2667</td>\n",
       "      <td>7.2250</td>\n",
       "      <td>NaN</td>\n",
       "      <td>C</td>\n",
       "    </tr>\n",
       "    <tr>\n",
       "      <th>876</th>\n",
       "      <td>877</td>\n",
       "      <td>0</td>\n",
       "      <td>3</td>\n",
       "      <td>Gustafsson, Mr. Alfred Ossian</td>\n",
       "      <td>male</td>\n",
       "      <td>20.0</td>\n",
       "      <td>0</td>\n",
       "      <td>0</td>\n",
       "      <td>7534</td>\n",
       "      <td>9.8458</td>\n",
       "      <td>NaN</td>\n",
       "      <td>S</td>\n",
       "    </tr>\n",
       "    <tr>\n",
       "      <th>877</th>\n",
       "      <td>878</td>\n",
       "      <td>0</td>\n",
       "      <td>3</td>\n",
       "      <td>Petroff, Mr. Nedelio</td>\n",
       "      <td>male</td>\n",
       "      <td>19.0</td>\n",
       "      <td>0</td>\n",
       "      <td>0</td>\n",
       "      <td>349212</td>\n",
       "      <td>7.8958</td>\n",
       "      <td>NaN</td>\n",
       "      <td>S</td>\n",
       "    </tr>\n",
       "    <tr>\n",
       "      <th>878</th>\n",
       "      <td>879</td>\n",
       "      <td>0</td>\n",
       "      <td>3</td>\n",
       "      <td>Laleff, Mr. Kristo</td>\n",
       "      <td>male</td>\n",
       "      <td>NaN</td>\n",
       "      <td>0</td>\n",
       "      <td>0</td>\n",
       "      <td>349217</td>\n",
       "      <td>7.8958</td>\n",
       "      <td>NaN</td>\n",
       "      <td>S</td>\n",
       "    </tr>\n",
       "    <tr>\n",
       "      <th>879</th>\n",
       "      <td>880</td>\n",
       "      <td>1</td>\n",
       "      <td>1</td>\n",
       "      <td>Potter, Mrs. Thomas Jr (Lily Alexenia Wilson)</td>\n",
       "      <td>female</td>\n",
       "      <td>56.0</td>\n",
       "      <td>0</td>\n",
       "      <td>1</td>\n",
       "      <td>11767</td>\n",
       "      <td>83.1583</td>\n",
       "      <td>C50</td>\n",
       "      <td>C</td>\n",
       "    </tr>\n",
       "    <tr>\n",
       "      <th>880</th>\n",
       "      <td>881</td>\n",
       "      <td>1</td>\n",
       "      <td>2</td>\n",
       "      <td>Shelley, Mrs. William (Imanita Parrish Hall)</td>\n",
       "      <td>female</td>\n",
       "      <td>25.0</td>\n",
       "      <td>0</td>\n",
       "      <td>1</td>\n",
       "      <td>230433</td>\n",
       "      <td>26.0000</td>\n",
       "      <td>NaN</td>\n",
       "      <td>S</td>\n",
       "    </tr>\n",
       "    <tr>\n",
       "      <th>881</th>\n",
       "      <td>882</td>\n",
       "      <td>0</td>\n",
       "      <td>3</td>\n",
       "      <td>Markun, Mr. Johann</td>\n",
       "      <td>male</td>\n",
       "      <td>33.0</td>\n",
       "      <td>0</td>\n",
       "      <td>0</td>\n",
       "      <td>349257</td>\n",
       "      <td>7.8958</td>\n",
       "      <td>NaN</td>\n",
       "      <td>S</td>\n",
       "    </tr>\n",
       "    <tr>\n",
       "      <th>882</th>\n",
       "      <td>883</td>\n",
       "      <td>0</td>\n",
       "      <td>3</td>\n",
       "      <td>Dahlberg, Miss. Gerda Ulrika</td>\n",
       "      <td>female</td>\n",
       "      <td>22.0</td>\n",
       "      <td>0</td>\n",
       "      <td>0</td>\n",
       "      <td>7552</td>\n",
       "      <td>10.5167</td>\n",
       "      <td>NaN</td>\n",
       "      <td>S</td>\n",
       "    </tr>\n",
       "    <tr>\n",
       "      <th>883</th>\n",
       "      <td>884</td>\n",
       "      <td>0</td>\n",
       "      <td>2</td>\n",
       "      <td>Banfield, Mr. Frederick James</td>\n",
       "      <td>male</td>\n",
       "      <td>28.0</td>\n",
       "      <td>0</td>\n",
       "      <td>0</td>\n",
       "      <td>C.A./SOTON 34068</td>\n",
       "      <td>10.5000</td>\n",
       "      <td>NaN</td>\n",
       "      <td>S</td>\n",
       "    </tr>\n",
       "    <tr>\n",
       "      <th>884</th>\n",
       "      <td>885</td>\n",
       "      <td>0</td>\n",
       "      <td>3</td>\n",
       "      <td>Sutehall, Mr. Henry Jr</td>\n",
       "      <td>male</td>\n",
       "      <td>25.0</td>\n",
       "      <td>0</td>\n",
       "      <td>0</td>\n",
       "      <td>SOTON/OQ 392076</td>\n",
       "      <td>7.0500</td>\n",
       "      <td>NaN</td>\n",
       "      <td>S</td>\n",
       "    </tr>\n",
       "    <tr>\n",
       "      <th>885</th>\n",
       "      <td>886</td>\n",
       "      <td>0</td>\n",
       "      <td>3</td>\n",
       "      <td>Rice, Mrs. William (Margaret Norton)</td>\n",
       "      <td>female</td>\n",
       "      <td>39.0</td>\n",
       "      <td>0</td>\n",
       "      <td>5</td>\n",
       "      <td>382652</td>\n",
       "      <td>29.1250</td>\n",
       "      <td>NaN</td>\n",
       "      <td>Q</td>\n",
       "    </tr>\n",
       "    <tr>\n",
       "      <th>886</th>\n",
       "      <td>887</td>\n",
       "      <td>0</td>\n",
       "      <td>2</td>\n",
       "      <td>Montvila, Rev. Juozas</td>\n",
       "      <td>male</td>\n",
       "      <td>27.0</td>\n",
       "      <td>0</td>\n",
       "      <td>0</td>\n",
       "      <td>211536</td>\n",
       "      <td>13.0000</td>\n",
       "      <td>NaN</td>\n",
       "      <td>S</td>\n",
       "    </tr>\n",
       "    <tr>\n",
       "      <th>887</th>\n",
       "      <td>888</td>\n",
       "      <td>1</td>\n",
       "      <td>1</td>\n",
       "      <td>Graham, Miss. Margaret Edith</td>\n",
       "      <td>female</td>\n",
       "      <td>19.0</td>\n",
       "      <td>0</td>\n",
       "      <td>0</td>\n",
       "      <td>112053</td>\n",
       "      <td>30.0000</td>\n",
       "      <td>B42</td>\n",
       "      <td>S</td>\n",
       "    </tr>\n",
       "    <tr>\n",
       "      <th>888</th>\n",
       "      <td>889</td>\n",
       "      <td>0</td>\n",
       "      <td>3</td>\n",
       "      <td>Johnston, Miss. Catherine Helen \"Carrie\"</td>\n",
       "      <td>female</td>\n",
       "      <td>NaN</td>\n",
       "      <td>1</td>\n",
       "      <td>2</td>\n",
       "      <td>W./C. 6607</td>\n",
       "      <td>23.4500</td>\n",
       "      <td>NaN</td>\n",
       "      <td>S</td>\n",
       "    </tr>\n",
       "    <tr>\n",
       "      <th>889</th>\n",
       "      <td>890</td>\n",
       "      <td>1</td>\n",
       "      <td>1</td>\n",
       "      <td>Behr, Mr. Karl Howell</td>\n",
       "      <td>male</td>\n",
       "      <td>26.0</td>\n",
       "      <td>0</td>\n",
       "      <td>0</td>\n",
       "      <td>111369</td>\n",
       "      <td>30.0000</td>\n",
       "      <td>C148</td>\n",
       "      <td>C</td>\n",
       "    </tr>\n",
       "    <tr>\n",
       "      <th>890</th>\n",
       "      <td>891</td>\n",
       "      <td>0</td>\n",
       "      <td>3</td>\n",
       "      <td>Dooley, Mr. Patrick</td>\n",
       "      <td>male</td>\n",
       "      <td>32.0</td>\n",
       "      <td>0</td>\n",
       "      <td>0</td>\n",
       "      <td>370376</td>\n",
       "      <td>7.7500</td>\n",
       "      <td>NaN</td>\n",
       "      <td>Q</td>\n",
       "    </tr>\n",
       "  </tbody>\n",
       "</table>\n",
       "</div>"
      ],
      "text/plain": [
       "     PassengerId  Survived  Pclass  \\\n",
       "871          872         1       1   \n",
       "872          873         0       1   \n",
       "873          874         0       3   \n",
       "874          875         1       2   \n",
       "875          876         1       3   \n",
       "876          877         0       3   \n",
       "877          878         0       3   \n",
       "878          879         0       3   \n",
       "879          880         1       1   \n",
       "880          881         1       2   \n",
       "881          882         0       3   \n",
       "882          883         0       3   \n",
       "883          884         0       2   \n",
       "884          885         0       3   \n",
       "885          886         0       3   \n",
       "886          887         0       2   \n",
       "887          888         1       1   \n",
       "888          889         0       3   \n",
       "889          890         1       1   \n",
       "890          891         0       3   \n",
       "\n",
       "                                                 Name     Sex   Age  SibSp  \\\n",
       "871  Beckwith, Mrs. Richard Leonard (Sallie Monypeny)  female  47.0      1   \n",
       "872                          Carlsson, Mr. Frans Olof    male  33.0      0   \n",
       "873                       Vander Cruyssen, Mr. Victor    male  47.0      0   \n",
       "874             Abelson, Mrs. Samuel (Hannah Wizosky)  female  28.0      1   \n",
       "875                  Najib, Miss. Adele Kiamie \"Jane\"  female  15.0      0   \n",
       "876                     Gustafsson, Mr. Alfred Ossian    male  20.0      0   \n",
       "877                              Petroff, Mr. Nedelio    male  19.0      0   \n",
       "878                                Laleff, Mr. Kristo    male   NaN      0   \n",
       "879     Potter, Mrs. Thomas Jr (Lily Alexenia Wilson)  female  56.0      0   \n",
       "880      Shelley, Mrs. William (Imanita Parrish Hall)  female  25.0      0   \n",
       "881                                Markun, Mr. Johann    male  33.0      0   \n",
       "882                      Dahlberg, Miss. Gerda Ulrika  female  22.0      0   \n",
       "883                     Banfield, Mr. Frederick James    male  28.0      0   \n",
       "884                            Sutehall, Mr. Henry Jr    male  25.0      0   \n",
       "885              Rice, Mrs. William (Margaret Norton)  female  39.0      0   \n",
       "886                             Montvila, Rev. Juozas    male  27.0      0   \n",
       "887                      Graham, Miss. Margaret Edith  female  19.0      0   \n",
       "888          Johnston, Miss. Catherine Helen \"Carrie\"  female   NaN      1   \n",
       "889                             Behr, Mr. Karl Howell    male  26.0      0   \n",
       "890                               Dooley, Mr. Patrick    male  32.0      0   \n",
       "\n",
       "     Parch            Ticket     Fare        Cabin Embarked  \n",
       "871      1             11751  52.5542          D35        S  \n",
       "872      0               695   5.0000  B51 B53 B55        S  \n",
       "873      0            345765   9.0000          NaN        S  \n",
       "874      0         P/PP 3381  24.0000          NaN        C  \n",
       "875      0              2667   7.2250          NaN        C  \n",
       "876      0              7534   9.8458          NaN        S  \n",
       "877      0            349212   7.8958          NaN        S  \n",
       "878      0            349217   7.8958          NaN        S  \n",
       "879      1             11767  83.1583          C50        C  \n",
       "880      1            230433  26.0000          NaN        S  \n",
       "881      0            349257   7.8958          NaN        S  \n",
       "882      0              7552  10.5167          NaN        S  \n",
       "883      0  C.A./SOTON 34068  10.5000          NaN        S  \n",
       "884      0   SOTON/OQ 392076   7.0500          NaN        S  \n",
       "885      5            382652  29.1250          NaN        Q  \n",
       "886      0            211536  13.0000          NaN        S  \n",
       "887      0            112053  30.0000          B42        S  \n",
       "888      2        W./C. 6607  23.4500          NaN        S  \n",
       "889      0            111369  30.0000         C148        C  \n",
       "890      0            370376   7.7500          NaN        Q  "
      ]
     },
     "execution_count": 158,
     "metadata": {},
     "output_type": "execute_result"
    }
   ],
   "source": [
    "df.tail(20)"
   ]
  },
  {
   "cell_type": "code",
   "execution_count": 159,
   "id": "ba0d457a",
   "metadata": {
    "ExecuteTime": {
     "end_time": "2022-02-17T22:46:25.929125Z",
     "start_time": "2022-02-17T22:46:25.900203Z"
    }
   },
   "outputs": [
    {
     "data": {
      "text/html": [
       "<div>\n",
       "<style scoped>\n",
       "    .dataframe tbody tr th:only-of-type {\n",
       "        vertical-align: middle;\n",
       "    }\n",
       "\n",
       "    .dataframe tbody tr th {\n",
       "        vertical-align: top;\n",
       "    }\n",
       "\n",
       "    .dataframe thead th {\n",
       "        text-align: right;\n",
       "    }\n",
       "</style>\n",
       "<table border=\"1\" class=\"dataframe\">\n",
       "  <thead>\n",
       "    <tr style=\"text-align: right;\">\n",
       "      <th></th>\n",
       "      <th>PassengerId</th>\n",
       "      <th>Survived</th>\n",
       "      <th>Pclass</th>\n",
       "      <th>Name</th>\n",
       "      <th>Sex</th>\n",
       "      <th>Age</th>\n",
       "      <th>SibSp</th>\n",
       "      <th>Parch</th>\n",
       "      <th>Ticket</th>\n",
       "      <th>Fare</th>\n",
       "      <th>Cabin</th>\n",
       "      <th>Embarked</th>\n",
       "    </tr>\n",
       "  </thead>\n",
       "  <tbody>\n",
       "    <tr>\n",
       "      <th>886</th>\n",
       "      <td>887</td>\n",
       "      <td>0</td>\n",
       "      <td>2</td>\n",
       "      <td>Montvila, Rev. Juozas</td>\n",
       "      <td>male</td>\n",
       "      <td>27.0</td>\n",
       "      <td>0</td>\n",
       "      <td>0</td>\n",
       "      <td>211536</td>\n",
       "      <td>13.00</td>\n",
       "      <td>NaN</td>\n",
       "      <td>S</td>\n",
       "    </tr>\n",
       "    <tr>\n",
       "      <th>887</th>\n",
       "      <td>888</td>\n",
       "      <td>1</td>\n",
       "      <td>1</td>\n",
       "      <td>Graham, Miss. Margaret Edith</td>\n",
       "      <td>female</td>\n",
       "      <td>19.0</td>\n",
       "      <td>0</td>\n",
       "      <td>0</td>\n",
       "      <td>112053</td>\n",
       "      <td>30.00</td>\n",
       "      <td>B42</td>\n",
       "      <td>S</td>\n",
       "    </tr>\n",
       "    <tr>\n",
       "      <th>888</th>\n",
       "      <td>889</td>\n",
       "      <td>0</td>\n",
       "      <td>3</td>\n",
       "      <td>Johnston, Miss. Catherine Helen \"Carrie\"</td>\n",
       "      <td>female</td>\n",
       "      <td>NaN</td>\n",
       "      <td>1</td>\n",
       "      <td>2</td>\n",
       "      <td>W./C. 6607</td>\n",
       "      <td>23.45</td>\n",
       "      <td>NaN</td>\n",
       "      <td>S</td>\n",
       "    </tr>\n",
       "    <tr>\n",
       "      <th>889</th>\n",
       "      <td>890</td>\n",
       "      <td>1</td>\n",
       "      <td>1</td>\n",
       "      <td>Behr, Mr. Karl Howell</td>\n",
       "      <td>male</td>\n",
       "      <td>26.0</td>\n",
       "      <td>0</td>\n",
       "      <td>0</td>\n",
       "      <td>111369</td>\n",
       "      <td>30.00</td>\n",
       "      <td>C148</td>\n",
       "      <td>C</td>\n",
       "    </tr>\n",
       "    <tr>\n",
       "      <th>890</th>\n",
       "      <td>891</td>\n",
       "      <td>0</td>\n",
       "      <td>3</td>\n",
       "      <td>Dooley, Mr. Patrick</td>\n",
       "      <td>male</td>\n",
       "      <td>32.0</td>\n",
       "      <td>0</td>\n",
       "      <td>0</td>\n",
       "      <td>370376</td>\n",
       "      <td>7.75</td>\n",
       "      <td>NaN</td>\n",
       "      <td>Q</td>\n",
       "    </tr>\n",
       "  </tbody>\n",
       "</table>\n",
       "</div>"
      ],
      "text/plain": [
       "     PassengerId  Survived  Pclass                                      Name  \\\n",
       "886          887         0       2                     Montvila, Rev. Juozas   \n",
       "887          888         1       1              Graham, Miss. Margaret Edith   \n",
       "888          889         0       3  Johnston, Miss. Catherine Helen \"Carrie\"   \n",
       "889          890         1       1                     Behr, Mr. Karl Howell   \n",
       "890          891         0       3                       Dooley, Mr. Patrick   \n",
       "\n",
       "        Sex   Age  SibSp  Parch      Ticket   Fare Cabin Embarked  \n",
       "886    male  27.0      0      0      211536  13.00   NaN        S  \n",
       "887  female  19.0      0      0      112053  30.00   B42        S  \n",
       "888  female   NaN      1      2  W./C. 6607  23.45   NaN        S  \n",
       "889    male  26.0      0      0      111369  30.00  C148        C  \n",
       "890    male  32.0      0      0      370376   7.75   NaN        Q  "
      ]
     },
     "execution_count": 159,
     "metadata": {},
     "output_type": "execute_result"
    }
   ],
   "source": [
    "df.tail()"
   ]
  },
  {
   "cell_type": "code",
   "execution_count": 162,
   "id": "2a03d2ce",
   "metadata": {
    "ExecuteTime": {
     "end_time": "2022-02-17T22:50:39.521689Z",
     "start_time": "2022-02-17T22:50:39.482788Z"
    }
   },
   "outputs": [
    {
     "name": "stdout",
     "output_type": "stream",
     "text": [
      "<class 'pandas.core.frame.DataFrame'>\n",
      "RangeIndex: 891 entries, 0 to 890\n",
      "Data columns (total 12 columns):\n",
      " #   Column       Non-Null Count  Dtype  \n",
      "---  ------       --------------  -----  \n",
      " 0   PassengerId  891 non-null    int64  \n",
      " 1   Survived     891 non-null    int64  \n",
      " 2   Pclass       891 non-null    int64  \n",
      " 3   Name         891 non-null    object \n",
      " 4   Sex          891 non-null    object \n",
      " 5   Age          714 non-null    float64\n",
      " 6   SibSp        891 non-null    int64  \n",
      " 7   Parch        891 non-null    int64  \n",
      " 8   Ticket       891 non-null    object \n",
      " 9   Fare         891 non-null    float64\n",
      " 10  Cabin        204 non-null    object \n",
      " 11  Embarked     889 non-null    object \n",
      "dtypes: float64(2), int64(5), object(5)\n",
      "memory usage: 83.7+ KB\n"
     ]
    }
   ],
   "source": [
    "#source for data info\n",
    "df.info()"
   ]
  },
  {
   "cell_type": "code",
   "execution_count": 163,
   "id": "f42a69f9",
   "metadata": {
    "ExecuteTime": {
     "end_time": "2022-02-17T22:57:25.834672Z",
     "start_time": "2022-02-17T22:57:25.785863Z"
    }
   },
   "outputs": [
    {
     "data": {
      "text/html": [
       "<div>\n",
       "<style scoped>\n",
       "    .dataframe tbody tr th:only-of-type {\n",
       "        vertical-align: middle;\n",
       "    }\n",
       "\n",
       "    .dataframe tbody tr th {\n",
       "        vertical-align: top;\n",
       "    }\n",
       "\n",
       "    .dataframe thead th {\n",
       "        text-align: right;\n",
       "    }\n",
       "</style>\n",
       "<table border=\"1\" class=\"dataframe\">\n",
       "  <thead>\n",
       "    <tr style=\"text-align: right;\">\n",
       "      <th></th>\n",
       "      <th>PassengerId</th>\n",
       "      <th>Survived</th>\n",
       "      <th>Pclass</th>\n",
       "      <th>Age</th>\n",
       "      <th>SibSp</th>\n",
       "      <th>Parch</th>\n",
       "      <th>Fare</th>\n",
       "    </tr>\n",
       "  </thead>\n",
       "  <tbody>\n",
       "    <tr>\n",
       "      <th>count</th>\n",
       "      <td>891.000000</td>\n",
       "      <td>891.000000</td>\n",
       "      <td>891.000000</td>\n",
       "      <td>714.000000</td>\n",
       "      <td>891.000000</td>\n",
       "      <td>891.000000</td>\n",
       "      <td>891.000000</td>\n",
       "    </tr>\n",
       "    <tr>\n",
       "      <th>mean</th>\n",
       "      <td>446.000000</td>\n",
       "      <td>0.383838</td>\n",
       "      <td>2.308642</td>\n",
       "      <td>29.699118</td>\n",
       "      <td>0.523008</td>\n",
       "      <td>0.381594</td>\n",
       "      <td>32.204208</td>\n",
       "    </tr>\n",
       "    <tr>\n",
       "      <th>std</th>\n",
       "      <td>257.353842</td>\n",
       "      <td>0.486592</td>\n",
       "      <td>0.836071</td>\n",
       "      <td>14.526497</td>\n",
       "      <td>1.102743</td>\n",
       "      <td>0.806057</td>\n",
       "      <td>49.693429</td>\n",
       "    </tr>\n",
       "    <tr>\n",
       "      <th>min</th>\n",
       "      <td>1.000000</td>\n",
       "      <td>0.000000</td>\n",
       "      <td>1.000000</td>\n",
       "      <td>0.420000</td>\n",
       "      <td>0.000000</td>\n",
       "      <td>0.000000</td>\n",
       "      <td>0.000000</td>\n",
       "    </tr>\n",
       "    <tr>\n",
       "      <th>25%</th>\n",
       "      <td>223.500000</td>\n",
       "      <td>0.000000</td>\n",
       "      <td>2.000000</td>\n",
       "      <td>20.125000</td>\n",
       "      <td>0.000000</td>\n",
       "      <td>0.000000</td>\n",
       "      <td>7.910400</td>\n",
       "    </tr>\n",
       "    <tr>\n",
       "      <th>50%</th>\n",
       "      <td>446.000000</td>\n",
       "      <td>0.000000</td>\n",
       "      <td>3.000000</td>\n",
       "      <td>28.000000</td>\n",
       "      <td>0.000000</td>\n",
       "      <td>0.000000</td>\n",
       "      <td>14.454200</td>\n",
       "    </tr>\n",
       "    <tr>\n",
       "      <th>75%</th>\n",
       "      <td>668.500000</td>\n",
       "      <td>1.000000</td>\n",
       "      <td>3.000000</td>\n",
       "      <td>38.000000</td>\n",
       "      <td>1.000000</td>\n",
       "      <td>0.000000</td>\n",
       "      <td>31.000000</td>\n",
       "    </tr>\n",
       "    <tr>\n",
       "      <th>max</th>\n",
       "      <td>891.000000</td>\n",
       "      <td>1.000000</td>\n",
       "      <td>3.000000</td>\n",
       "      <td>80.000000</td>\n",
       "      <td>8.000000</td>\n",
       "      <td>6.000000</td>\n",
       "      <td>512.329200</td>\n",
       "    </tr>\n",
       "  </tbody>\n",
       "</table>\n",
       "</div>"
      ],
      "text/plain": [
       "       PassengerId    Survived      Pclass         Age       SibSp  \\\n",
       "count   891.000000  891.000000  891.000000  714.000000  891.000000   \n",
       "mean    446.000000    0.383838    2.308642   29.699118    0.523008   \n",
       "std     257.353842    0.486592    0.836071   14.526497    1.102743   \n",
       "min       1.000000    0.000000    1.000000    0.420000    0.000000   \n",
       "25%     223.500000    0.000000    2.000000   20.125000    0.000000   \n",
       "50%     446.000000    0.000000    3.000000   28.000000    0.000000   \n",
       "75%     668.500000    1.000000    3.000000   38.000000    1.000000   \n",
       "max     891.000000    1.000000    3.000000   80.000000    8.000000   \n",
       "\n",
       "            Parch        Fare  \n",
       "count  891.000000  891.000000  \n",
       "mean     0.381594   32.204208  \n",
       "std      0.806057   49.693429  \n",
       "min      0.000000    0.000000  \n",
       "25%      0.000000    7.910400  \n",
       "50%      0.000000   14.454200  \n",
       "75%      0.000000   31.000000  \n",
       "max      6.000000  512.329200  "
      ]
     },
     "execution_count": 163,
     "metadata": {},
     "output_type": "execute_result"
    }
   ],
   "source": [
    "#description of data set\n",
    "df.describe()"
   ]
  },
  {
   "cell_type": "code",
   "execution_count": 166,
   "id": "32401b9b",
   "metadata": {
    "ExecuteTime": {
     "end_time": "2022-02-17T23:02:03.132935Z",
     "start_time": "2022-02-17T23:02:03.117975Z"
    }
   },
   "outputs": [
    {
     "data": {
      "text/plain": [
       "891"
      ]
     },
     "execution_count": 166,
     "metadata": {},
     "output_type": "execute_result"
    }
   ],
   "source": [
    "# indicing into the column to clean data\n",
    "df.duplicated().count()"
   ]
  },
  {
   "cell_type": "code",
   "execution_count": 167,
   "id": "9e85ed09",
   "metadata": {
    "ExecuteTime": {
     "end_time": "2022-02-17T23:03:06.559750Z",
     "start_time": "2022-02-17T23:03:06.530774Z"
    }
   },
   "outputs": [
    {
     "data": {
      "text/plain": [
       "0      False\n",
       "1      False\n",
       "2      False\n",
       "3      False\n",
       "4      False\n",
       "       ...  \n",
       "886    False\n",
       "887    False\n",
       "888    False\n",
       "889    False\n",
       "890    False\n",
       "Length: 891, dtype: bool"
      ]
     },
     "execution_count": 167,
     "metadata": {},
     "output_type": "execute_result"
    }
   ],
   "source": [
    "df.duplicated()"
   ]
  },
  {
   "cell_type": "code",
   "execution_count": 168,
   "id": "8ad03d5b",
   "metadata": {
    "ExecuteTime": {
     "end_time": "2022-02-17T23:08:01.532142Z",
     "start_time": "2022-02-17T23:08:01.513151Z"
    }
   },
   "outputs": [
    {
     "data": {
      "text/plain": [
       "PassengerId      0\n",
       "Survived         0\n",
       "Pclass           0\n",
       "Name             0\n",
       "Sex              0\n",
       "Age            177\n",
       "SibSp            0\n",
       "Parch            0\n",
       "Ticket           0\n",
       "Fare             0\n",
       "Cabin          687\n",
       "Embarked         2\n",
       "dtype: int64"
      ]
     },
     "execution_count": 168,
     "metadata": {},
     "output_type": "execute_result"
    }
   ],
   "source": [
    "df.isna().sum() "
   ]
  },
  {
   "cell_type": "code",
   "execution_count": 170,
   "id": "f59f21f8",
   "metadata": {
    "ExecuteTime": {
     "end_time": "2022-02-17T23:11:33.565225Z",
     "start_time": "2022-02-17T23:11:33.550265Z"
    }
   },
   "outputs": [
    {
     "data": {
      "text/plain": [
       "177"
      ]
     },
     "execution_count": 170,
     "metadata": {},
     "output_type": "execute_result"
    }
   ],
   "source": [
    "# data wrangling\n",
    "df['Age'].isna().sum()"
   ]
  },
  {
   "cell_type": "code",
   "execution_count": 171,
   "id": "e46ad30e",
   "metadata": {
    "ExecuteTime": {
     "end_time": "2022-02-17T23:12:19.446411Z",
     "start_time": "2022-02-17T23:12:19.423381Z"
    }
   },
   "outputs": [
    {
     "data": {
      "text/plain": [
       "0      22.0\n",
       "1      38.0\n",
       "2      26.0\n",
       "3      35.0\n",
       "4      35.0\n",
       "       ... \n",
       "886    27.0\n",
       "887    19.0\n",
       "888     NaN\n",
       "889    26.0\n",
       "890    32.0\n",
       "Name: Age, Length: 891, dtype: float64"
      ]
     },
     "execution_count": 171,
     "metadata": {},
     "output_type": "execute_result"
    }
   ],
   "source": [
    "df['Age']"
   ]
  },
  {
   "cell_type": "code",
   "execution_count": 172,
   "id": "f19e8951",
   "metadata": {
    "ExecuteTime": {
     "end_time": "2022-02-17T23:13:09.783485Z",
     "start_time": "2022-02-17T23:13:09.751570Z"
    }
   },
   "outputs": [
    {
     "name": "stdout",
     "output_type": "stream",
     "text": [
      "0      22.00\n",
      "1      38.00\n",
      "2      26.00\n",
      "3      35.00\n",
      "4      35.00\n",
      "5        NaN\n",
      "6      54.00\n",
      "7       2.00\n",
      "8      27.00\n",
      "9      14.00\n",
      "10      4.00\n",
      "11     58.00\n",
      "12     20.00\n",
      "13     39.00\n",
      "14     14.00\n",
      "15     55.00\n",
      "16      2.00\n",
      "17       NaN\n",
      "18     31.00\n",
      "19       NaN\n",
      "20     35.00\n",
      "21     34.00\n",
      "22     15.00\n",
      "23     28.00\n",
      "24      8.00\n",
      "25     38.00\n",
      "26       NaN\n",
      "27     19.00\n",
      "28       NaN\n",
      "29       NaN\n",
      "30     40.00\n",
      "31       NaN\n",
      "32       NaN\n",
      "33     66.00\n",
      "34     28.00\n",
      "35     42.00\n",
      "36       NaN\n",
      "37     21.00\n",
      "38     18.00\n",
      "39     14.00\n",
      "40     40.00\n",
      "41     27.00\n",
      "42       NaN\n",
      "43      3.00\n",
      "44     19.00\n",
      "45       NaN\n",
      "46       NaN\n",
      "47       NaN\n",
      "48       NaN\n",
      "49     18.00\n",
      "50      7.00\n",
      "51     21.00\n",
      "52     49.00\n",
      "53     29.00\n",
      "54     65.00\n",
      "55       NaN\n",
      "56     21.00\n",
      "57     28.50\n",
      "58      5.00\n",
      "59     11.00\n",
      "60     22.00\n",
      "61     38.00\n",
      "62     45.00\n",
      "63      4.00\n",
      "64       NaN\n",
      "65       NaN\n",
      "66     29.00\n",
      "67     19.00\n",
      "68     17.00\n",
      "69     26.00\n",
      "70     32.00\n",
      "71     16.00\n",
      "72     21.00\n",
      "73     26.00\n",
      "74     32.00\n",
      "75     25.00\n",
      "76       NaN\n",
      "77       NaN\n",
      "78      0.83\n",
      "79     30.00\n",
      "80     22.00\n",
      "81     29.00\n",
      "82       NaN\n",
      "83     28.00\n",
      "84     17.00\n",
      "85     33.00\n",
      "86     16.00\n",
      "87       NaN\n",
      "88     23.00\n",
      "89     24.00\n",
      "90     29.00\n",
      "91     20.00\n",
      "92     46.00\n",
      "93     26.00\n",
      "94     59.00\n",
      "95       NaN\n",
      "96     71.00\n",
      "97     23.00\n",
      "98     34.00\n",
      "99     34.00\n",
      "100    28.00\n",
      "101      NaN\n",
      "102    21.00\n",
      "103    33.00\n",
      "104    37.00\n",
      "105    28.00\n",
      "106    21.00\n",
      "107      NaN\n",
      "108    38.00\n",
      "109      NaN\n",
      "110    47.00\n",
      "111    14.50\n",
      "112    22.00\n",
      "113    20.00\n",
      "114    17.00\n",
      "115    21.00\n",
      "116    70.50\n",
      "117    29.00\n",
      "118    24.00\n",
      "119     2.00\n",
      "120    21.00\n",
      "121      NaN\n",
      "122    32.50\n",
      "123    32.50\n",
      "124    54.00\n",
      "125    12.00\n",
      "126      NaN\n",
      "127    24.00\n",
      "128      NaN\n",
      "129    45.00\n",
      "130    33.00\n",
      "131    20.00\n",
      "132    47.00\n",
      "133    29.00\n",
      "134    25.00\n",
      "135    23.00\n",
      "136    19.00\n",
      "137    37.00\n",
      "138    16.00\n",
      "139    24.00\n",
      "140      NaN\n",
      "141    22.00\n",
      "142    24.00\n",
      "143    19.00\n",
      "144    18.00\n",
      "145    19.00\n",
      "146    27.00\n",
      "147     9.00\n",
      "148    36.50\n",
      "149    42.00\n",
      "150    51.00\n",
      "151    22.00\n",
      "152    55.50\n",
      "153    40.50\n",
      "154      NaN\n",
      "155    51.00\n",
      "156    16.00\n",
      "157    30.00\n",
      "158      NaN\n",
      "159      NaN\n",
      "160    44.00\n",
      "161    40.00\n",
      "162    26.00\n",
      "163    17.00\n",
      "164     1.00\n",
      "165     9.00\n",
      "166      NaN\n",
      "167    45.00\n",
      "168      NaN\n",
      "169    28.00\n",
      "170    61.00\n",
      "171     4.00\n",
      "172     1.00\n",
      "173    21.00\n",
      "174    56.00\n",
      "175    18.00\n",
      "176      NaN\n",
      "177    50.00\n",
      "178    30.00\n",
      "179    36.00\n",
      "180      NaN\n",
      "181      NaN\n",
      "182     9.00\n",
      "183     1.00\n",
      "184     4.00\n",
      "185      NaN\n",
      "186      NaN\n",
      "187    45.00\n",
      "188    40.00\n",
      "189    36.00\n",
      "190    32.00\n",
      "191    19.00\n",
      "192    19.00\n",
      "193     3.00\n",
      "194    44.00\n",
      "195    58.00\n",
      "196      NaN\n",
      "197    42.00\n",
      "198      NaN\n",
      "199    24.00\n",
      "200    28.00\n",
      "201      NaN\n",
      "202    34.00\n",
      "203    45.50\n",
      "204    18.00\n",
      "205     2.00\n",
      "206    32.00\n",
      "207    26.00\n",
      "208    16.00\n",
      "209    40.00\n",
      "210    24.00\n",
      "211    35.00\n",
      "212    22.00\n",
      "213    30.00\n",
      "214      NaN\n",
      "215    31.00\n",
      "216    27.00\n",
      "217    42.00\n",
      "218    32.00\n",
      "219    30.00\n",
      "220    16.00\n",
      "221    27.00\n",
      "222    51.00\n",
      "223      NaN\n",
      "224    38.00\n",
      "225    22.00\n",
      "226    19.00\n",
      "227    20.50\n",
      "228    18.00\n",
      "229      NaN\n",
      "230    35.00\n",
      "231    29.00\n",
      "232    59.00\n",
      "233     5.00\n",
      "234    24.00\n",
      "235      NaN\n",
      "236    44.00\n",
      "237     8.00\n",
      "238    19.00\n",
      "239    33.00\n",
      "240      NaN\n",
      "241      NaN\n",
      "242    29.00\n",
      "243    22.00\n",
      "244    30.00\n",
      "245    44.00\n",
      "246    25.00\n",
      "247    24.00\n",
      "248    37.00\n",
      "249    54.00\n",
      "250      NaN\n",
      "251    29.00\n",
      "252    62.00\n",
      "253    30.00\n",
      "254    41.00\n",
      "255    29.00\n",
      "256      NaN\n",
      "257    30.00\n",
      "258    35.00\n",
      "259    50.00\n",
      "260      NaN\n",
      "261     3.00\n",
      "262    52.00\n",
      "263    40.00\n",
      "264      NaN\n",
      "265    36.00\n",
      "266    16.00\n",
      "267    25.00\n",
      "268    58.00\n",
      "269    35.00\n",
      "270      NaN\n",
      "271    25.00\n",
      "272    41.00\n",
      "273    37.00\n",
      "274      NaN\n",
      "275    63.00\n",
      "276    45.00\n",
      "277      NaN\n",
      "278     7.00\n",
      "279    35.00\n",
      "280    65.00\n",
      "281    28.00\n",
      "282    16.00\n",
      "283    19.00\n",
      "284      NaN\n",
      "285    33.00\n",
      "286    30.00\n",
      "287    22.00\n",
      "288    42.00\n",
      "289    22.00\n",
      "290    26.00\n",
      "291    19.00\n",
      "292    36.00\n",
      "293    24.00\n",
      "294    24.00\n",
      "295      NaN\n",
      "296    23.50\n",
      "297     2.00\n",
      "298      NaN\n",
      "299    50.00\n",
      "300      NaN\n",
      "301      NaN\n",
      "302    19.00\n",
      "303      NaN\n",
      "304      NaN\n",
      "305     0.92\n",
      "306      NaN\n",
      "307    17.00\n",
      "308    30.00\n",
      "309    30.00\n",
      "310    24.00\n",
      "311    18.00\n",
      "312    26.00\n",
      "313    28.00\n",
      "314    43.00\n",
      "315    26.00\n",
      "316    24.00\n",
      "317    54.00\n",
      "318    31.00\n",
      "319    40.00\n",
      "320    22.00\n",
      "321    27.00\n",
      "322    30.00\n",
      "323    22.00\n",
      "324      NaN\n",
      "325    36.00\n",
      "326    61.00\n",
      "327    36.00\n",
      "328    31.00\n",
      "329    16.00\n",
      "330      NaN\n",
      "331    45.50\n",
      "332    38.00\n",
      "333    16.00\n",
      "334      NaN\n",
      "335      NaN\n",
      "336    29.00\n",
      "337    41.00\n",
      "338    45.00\n",
      "339    45.00\n",
      "340     2.00\n",
      "341    24.00\n",
      "342    28.00\n",
      "343    25.00\n",
      "344    36.00\n",
      "345    24.00\n",
      "346    40.00\n",
      "347      NaN\n",
      "348     3.00\n",
      "349    42.00\n",
      "350    23.00\n",
      "351      NaN\n",
      "352    15.00\n",
      "353    25.00\n",
      "354      NaN\n",
      "355    28.00\n",
      "356    22.00\n",
      "357    38.00\n",
      "358      NaN\n",
      "359      NaN\n",
      "360    40.00\n",
      "361    29.00\n",
      "362    45.00\n",
      "363    35.00\n",
      "364      NaN\n",
      "365    30.00\n",
      "366    60.00\n",
      "367      NaN\n",
      "368      NaN\n",
      "369    24.00\n",
      "370    25.00\n",
      "371    18.00\n",
      "372    19.00\n",
      "373    22.00\n",
      "374     3.00\n",
      "375      NaN\n",
      "376    22.00\n",
      "377    27.00\n",
      "378    20.00\n",
      "379    19.00\n",
      "380    42.00\n",
      "381     1.00\n",
      "382    32.00\n",
      "383    35.00\n",
      "384      NaN\n",
      "385    18.00\n",
      "386     1.00\n",
      "387    36.00\n",
      "388      NaN\n",
      "389    17.00\n",
      "390    36.00\n",
      "391    21.00\n",
      "392    28.00\n",
      "393    23.00\n",
      "394    24.00\n",
      "395    22.00\n",
      "396    31.00\n",
      "397    46.00\n",
      "398    23.00\n",
      "399    28.00\n",
      "400    39.00\n",
      "401    26.00\n",
      "402    21.00\n",
      "403    28.00\n",
      "404    20.00\n",
      "405    34.00\n",
      "406    51.00\n",
      "407     3.00\n",
      "408    21.00\n",
      "409      NaN\n",
      "410      NaN\n",
      "411      NaN\n",
      "412    33.00\n",
      "413      NaN\n",
      "414    44.00\n",
      "415      NaN\n",
      "416    34.00\n",
      "417    18.00\n",
      "418    30.00\n",
      "419    10.00\n",
      "420      NaN\n",
      "421    21.00\n",
      "422    29.00\n",
      "423    28.00\n",
      "424    18.00\n",
      "425      NaN\n",
      "426    28.00\n",
      "427    19.00\n",
      "428      NaN\n",
      "429    32.00\n",
      "430    28.00\n",
      "431      NaN\n",
      "432    42.00\n",
      "433    17.00\n",
      "434    50.00\n",
      "435    14.00\n",
      "436    21.00\n",
      "437    24.00\n",
      "438    64.00\n",
      "439    31.00\n",
      "440    45.00\n",
      "441    20.00\n",
      "442    25.00\n",
      "443    28.00\n",
      "444      NaN\n",
      "445     4.00\n",
      "446    13.00\n",
      "447    34.00\n",
      "448     5.00\n",
      "449    52.00\n",
      "450    36.00\n",
      "451      NaN\n",
      "452    30.00\n",
      "453    49.00\n",
      "454      NaN\n",
      "455    29.00\n",
      "456    65.00\n",
      "457      NaN\n",
      "458    50.00\n",
      "459      NaN\n",
      "460    48.00\n",
      "461    34.00\n",
      "462    47.00\n",
      "463    48.00\n",
      "464      NaN\n",
      "465    38.00\n",
      "466      NaN\n",
      "467    56.00\n",
      "468      NaN\n",
      "469     0.75\n",
      "470      NaN\n",
      "471    38.00\n",
      "472    33.00\n",
      "473    23.00\n",
      "474    22.00\n",
      "475      NaN\n",
      "476    34.00\n",
      "477    29.00\n",
      "478    22.00\n",
      "479     2.00\n",
      "480     9.00\n",
      "481      NaN\n",
      "482    50.00\n",
      "483    63.00\n",
      "484    25.00\n",
      "485      NaN\n",
      "486    35.00\n",
      "487    58.00\n",
      "488    30.00\n",
      "489     9.00\n",
      "490      NaN\n",
      "491    21.00\n",
      "492    55.00\n",
      "493    71.00\n",
      "494    21.00\n",
      "495      NaN\n",
      "496    54.00\n",
      "497      NaN\n",
      "498    25.00\n",
      "499    24.00\n",
      "500    17.00\n",
      "501    21.00\n",
      "502      NaN\n",
      "503    37.00\n",
      "504    16.00\n",
      "505    18.00\n",
      "506    33.00\n",
      "507      NaN\n",
      "508    28.00\n",
      "509    26.00\n",
      "510    29.00\n",
      "511      NaN\n",
      "512    36.00\n",
      "513    54.00\n",
      "514    24.00\n",
      "515    47.00\n",
      "516    34.00\n",
      "517      NaN\n",
      "518    36.00\n",
      "519    32.00\n",
      "520    30.00\n",
      "521    22.00\n",
      "522      NaN\n",
      "523    44.00\n",
      "524      NaN\n",
      "525    40.50\n",
      "526    50.00\n",
      "527      NaN\n",
      "528    39.00\n",
      "529    23.00\n",
      "530     2.00\n",
      "531      NaN\n",
      "532    17.00\n",
      "533      NaN\n",
      "534    30.00\n",
      "535     7.00\n",
      "536    45.00\n",
      "537    30.00\n",
      "538      NaN\n",
      "539    22.00\n",
      "540    36.00\n",
      "541     9.00\n",
      "542    11.00\n",
      "543    32.00\n",
      "544    50.00\n",
      "545    64.00\n",
      "546    19.00\n",
      "547      NaN\n",
      "548    33.00\n",
      "549     8.00\n",
      "550    17.00\n",
      "551    27.00\n",
      "552      NaN\n",
      "553    22.00\n",
      "554    22.00\n",
      "555    62.00\n",
      "556    48.00\n",
      "557      NaN\n",
      "558    39.00\n",
      "559    36.00\n",
      "560      NaN\n",
      "561    40.00\n",
      "562    28.00\n",
      "563      NaN\n",
      "564      NaN\n",
      "565    24.00\n",
      "566    19.00\n",
      "567    29.00\n",
      "568      NaN\n",
      "569    32.00\n",
      "570    62.00\n",
      "571    53.00\n",
      "572    36.00\n",
      "573      NaN\n",
      "574    16.00\n",
      "575    19.00\n",
      "576    34.00\n",
      "577    39.00\n",
      "578      NaN\n",
      "579    32.00\n",
      "580    25.00\n",
      "581    39.00\n",
      "582    54.00\n",
      "583    36.00\n",
      "584      NaN\n",
      "585    18.00\n",
      "586    47.00\n",
      "587    60.00\n",
      "588    22.00\n",
      "589      NaN\n",
      "590    35.00\n",
      "591    52.00\n",
      "592    47.00\n",
      "593      NaN\n",
      "594    37.00\n",
      "595    36.00\n",
      "596      NaN\n",
      "597    49.00\n",
      "598      NaN\n",
      "599    49.00\n",
      "600    24.00\n",
      "601      NaN\n",
      "602      NaN\n",
      "603    44.00\n",
      "604    35.00\n",
      "605    36.00\n",
      "606    30.00\n",
      "607    27.00\n",
      "608    22.00\n",
      "609    40.00\n",
      "610    39.00\n",
      "611      NaN\n",
      "612      NaN\n",
      "613      NaN\n",
      "614    35.00\n",
      "615    24.00\n",
      "616    34.00\n",
      "617    26.00\n",
      "618     4.00\n",
      "619    26.00\n",
      "620    27.00\n",
      "621    42.00\n",
      "622    20.00\n",
      "623    21.00\n",
      "624    21.00\n",
      "625    61.00\n",
      "626    57.00\n",
      "627    21.00\n",
      "628    26.00\n",
      "629      NaN\n",
      "630    80.00\n",
      "631    51.00\n",
      "632    32.00\n",
      "633      NaN\n",
      "634     9.00\n",
      "635    28.00\n",
      "636    32.00\n",
      "637    31.00\n",
      "638    41.00\n",
      "639      NaN\n",
      "640    20.00\n",
      "641    24.00\n",
      "642     2.00\n",
      "643      NaN\n",
      "644     0.75\n",
      "645    48.00\n",
      "646    19.00\n",
      "647    56.00\n",
      "648      NaN\n",
      "649    23.00\n",
      "650      NaN\n",
      "651    18.00\n",
      "652    21.00\n",
      "653      NaN\n",
      "654    18.00\n",
      "655    24.00\n",
      "656      NaN\n",
      "657    32.00\n",
      "658    23.00\n",
      "659    58.00\n",
      "660    50.00\n",
      "661    40.00\n",
      "662    47.00\n",
      "663    36.00\n",
      "664    20.00\n",
      "665    32.00\n",
      "666    25.00\n",
      "667      NaN\n",
      "668    43.00\n",
      "669      NaN\n",
      "670    40.00\n",
      "671    31.00\n",
      "672    70.00\n",
      "673    31.00\n",
      "674      NaN\n",
      "675    18.00\n",
      "676    24.50\n",
      "677    18.00\n",
      "678    43.00\n",
      "679    36.00\n",
      "680      NaN\n",
      "681    27.00\n",
      "682    20.00\n",
      "683    14.00\n",
      "684    60.00\n",
      "685    25.00\n",
      "686    14.00\n",
      "687    19.00\n",
      "688    18.00\n",
      "689    15.00\n",
      "690    31.00\n",
      "691     4.00\n",
      "692      NaN\n",
      "693    25.00\n",
      "694    60.00\n",
      "695    52.00\n",
      "696    44.00\n",
      "697      NaN\n",
      "698    49.00\n",
      "699    42.00\n",
      "700    18.00\n",
      "701    35.00\n",
      "702    18.00\n",
      "703    25.00\n",
      "704    26.00\n",
      "705    39.00\n",
      "706    45.00\n",
      "707    42.00\n",
      "708    22.00\n",
      "709      NaN\n",
      "710    24.00\n",
      "711      NaN\n",
      "712    48.00\n",
      "713    29.00\n",
      "714    52.00\n",
      "715    19.00\n",
      "716    38.00\n",
      "717    27.00\n",
      "718      NaN\n",
      "719    33.00\n",
      "720     6.00\n",
      "721    17.00\n",
      "722    34.00\n",
      "723    50.00\n",
      "724    27.00\n",
      "725    20.00\n",
      "726    30.00\n",
      "727      NaN\n",
      "728    25.00\n",
      "729    25.00\n",
      "730    29.00\n",
      "731    11.00\n",
      "732      NaN\n",
      "733    23.00\n",
      "734    23.00\n",
      "735    28.50\n",
      "736    48.00\n",
      "737    35.00\n",
      "738      NaN\n",
      "739      NaN\n",
      "740      NaN\n",
      "741    36.00\n",
      "742    21.00\n",
      "743    24.00\n",
      "744    31.00\n",
      "745    70.00\n",
      "746    16.00\n",
      "747    30.00\n",
      "748    19.00\n",
      "749    31.00\n",
      "750     4.00\n",
      "751     6.00\n",
      "752    33.00\n",
      "753    23.00\n",
      "754    48.00\n",
      "755     0.67\n",
      "756    28.00\n",
      "757    18.00\n",
      "758    34.00\n",
      "759    33.00\n",
      "760      NaN\n",
      "761    41.00\n",
      "762    20.00\n",
      "763    36.00\n",
      "764    16.00\n",
      "765    51.00\n",
      "766      NaN\n",
      "767    30.50\n",
      "768      NaN\n",
      "769    32.00\n",
      "770    24.00\n",
      "771    48.00\n",
      "772    57.00\n",
      "773      NaN\n",
      "774    54.00\n",
      "775    18.00\n",
      "776      NaN\n",
      "777     5.00\n",
      "778      NaN\n",
      "779    43.00\n",
      "780    13.00\n",
      "781    17.00\n",
      "782    29.00\n",
      "783      NaN\n",
      "784    25.00\n",
      "785    25.00\n",
      "786    18.00\n",
      "787     8.00\n",
      "788     1.00\n",
      "789    46.00\n",
      "790      NaN\n",
      "791    16.00\n",
      "792      NaN\n",
      "793      NaN\n",
      "794    25.00\n",
      "795    39.00\n",
      "796    49.00\n",
      "797    31.00\n",
      "798    30.00\n",
      "799    30.00\n",
      "800    34.00\n",
      "801    31.00\n",
      "802    11.00\n",
      "803     0.42\n",
      "804    27.00\n",
      "805    31.00\n",
      "806    39.00\n",
      "807    18.00\n",
      "808    39.00\n",
      "809    33.00\n",
      "810    26.00\n",
      "811    39.00\n",
      "812    35.00\n",
      "813     6.00\n",
      "814    30.50\n",
      "815      NaN\n",
      "816    23.00\n",
      "817    31.00\n",
      "818    43.00\n",
      "819    10.00\n",
      "820    52.00\n",
      "821    27.00\n",
      "822    38.00\n",
      "823    27.00\n",
      "824     2.00\n",
      "825      NaN\n",
      "826      NaN\n",
      "827     1.00\n",
      "828      NaN\n",
      "829    62.00\n",
      "830    15.00\n",
      "831     0.83\n",
      "832      NaN\n",
      "833    23.00\n",
      "834    18.00\n",
      "835    39.00\n",
      "836    21.00\n",
      "837      NaN\n",
      "838    32.00\n",
      "839      NaN\n",
      "840    20.00\n",
      "841    16.00\n",
      "842    30.00\n",
      "843    34.50\n",
      "844    17.00\n",
      "845    42.00\n",
      "846      NaN\n",
      "847    35.00\n",
      "848    28.00\n",
      "849      NaN\n",
      "850     4.00\n",
      "851    74.00\n",
      "852     9.00\n",
      "853    16.00\n",
      "854    44.00\n",
      "855    18.00\n",
      "856    45.00\n",
      "857    51.00\n",
      "858    24.00\n",
      "859      NaN\n",
      "860    41.00\n",
      "861    21.00\n",
      "862    48.00\n",
      "863      NaN\n",
      "864    24.00\n",
      "865    42.00\n",
      "866    27.00\n",
      "867    31.00\n",
      "868      NaN\n",
      "869     4.00\n",
      "870    26.00\n",
      "871    47.00\n",
      "872    33.00\n",
      "873    47.00\n",
      "874    28.00\n",
      "875    15.00\n",
      "876    20.00\n",
      "877    19.00\n",
      "878      NaN\n",
      "879    56.00\n",
      "880    25.00\n",
      "881    33.00\n",
      "882    22.00\n",
      "883    28.00\n",
      "884    25.00\n",
      "885    39.00\n",
      "886    27.00\n",
      "887    19.00\n",
      "888      NaN\n",
      "889    26.00\n",
      "890    32.00\n"
     ]
    }
   ],
   "source": [
    "print(df['Age'].to_string()) # searches the vlaue of the header [Age] in the table"
   ]
  },
  {
   "cell_type": "code",
   "execution_count": 174,
   "id": "50d8e11d",
   "metadata": {
    "ExecuteTime": {
     "end_time": "2022-02-17T23:15:24.574358Z",
     "start_time": "2022-02-17T23:15:24.561393Z"
    }
   },
   "outputs": [
    {
     "name": "stdout",
     "output_type": "stream",
     "text": [
      "0                  NaN\n",
      "1                  C85\n",
      "2                  NaN\n",
      "3                 C123\n",
      "4                  NaN\n",
      "5                  NaN\n",
      "6                  E46\n",
      "7                  NaN\n",
      "8                  NaN\n",
      "9                  NaN\n",
      "10                  G6\n",
      "11                C103\n",
      "12                 NaN\n",
      "13                 NaN\n",
      "14                 NaN\n",
      "15                 NaN\n",
      "16                 NaN\n",
      "17                 NaN\n",
      "18                 NaN\n",
      "19                 NaN\n",
      "20                 NaN\n",
      "21                 D56\n",
      "22                 NaN\n",
      "23                  A6\n",
      "24                 NaN\n",
      "25                 NaN\n",
      "26                 NaN\n",
      "27         C23 C25 C27\n",
      "28                 NaN\n",
      "29                 NaN\n",
      "30                 NaN\n",
      "31                 B78\n",
      "32                 NaN\n",
      "33                 NaN\n",
      "34                 NaN\n",
      "35                 NaN\n",
      "36                 NaN\n",
      "37                 NaN\n",
      "38                 NaN\n",
      "39                 NaN\n",
      "40                 NaN\n",
      "41                 NaN\n",
      "42                 NaN\n",
      "43                 NaN\n",
      "44                 NaN\n",
      "45                 NaN\n",
      "46                 NaN\n",
      "47                 NaN\n",
      "48                 NaN\n",
      "49                 NaN\n",
      "50                 NaN\n",
      "51                 NaN\n",
      "52                 D33\n",
      "53                 NaN\n",
      "54                 B30\n",
      "55                 C52\n",
      "56                 NaN\n",
      "57                 NaN\n",
      "58                 NaN\n",
      "59                 NaN\n",
      "60                 NaN\n",
      "61                 B28\n",
      "62                 C83\n",
      "63                 NaN\n",
      "64                 NaN\n",
      "65                 NaN\n",
      "66                 F33\n",
      "67                 NaN\n",
      "68                 NaN\n",
      "69                 NaN\n",
      "70                 NaN\n",
      "71                 NaN\n",
      "72                 NaN\n",
      "73                 NaN\n",
      "74                 NaN\n",
      "75               F G73\n",
      "76                 NaN\n",
      "77                 NaN\n",
      "78                 NaN\n",
      "79                 NaN\n",
      "80                 NaN\n",
      "81                 NaN\n",
      "82                 NaN\n",
      "83                 NaN\n",
      "84                 NaN\n",
      "85                 NaN\n",
      "86                 NaN\n",
      "87                 NaN\n",
      "88         C23 C25 C27\n",
      "89                 NaN\n",
      "90                 NaN\n",
      "91                 NaN\n",
      "92                 E31\n",
      "93                 NaN\n",
      "94                 NaN\n",
      "95                 NaN\n",
      "96                  A5\n",
      "97             D10 D12\n",
      "98                 NaN\n",
      "99                 NaN\n",
      "100                NaN\n",
      "101                NaN\n",
      "102                D26\n",
      "103                NaN\n",
      "104                NaN\n",
      "105                NaN\n",
      "106                NaN\n",
      "107                NaN\n",
      "108                NaN\n",
      "109                NaN\n",
      "110               C110\n",
      "111                NaN\n",
      "112                NaN\n",
      "113                NaN\n",
      "114                NaN\n",
      "115                NaN\n",
      "116                NaN\n",
      "117                NaN\n",
      "118            B58 B60\n",
      "119                NaN\n",
      "120                NaN\n",
      "121                NaN\n",
      "122                NaN\n",
      "123               E101\n",
      "124                D26\n",
      "125                NaN\n",
      "126                NaN\n",
      "127                NaN\n",
      "128              F E69\n",
      "129                NaN\n",
      "130                NaN\n",
      "131                NaN\n",
      "132                NaN\n",
      "133                NaN\n",
      "134                NaN\n",
      "135                NaN\n",
      "136                D47\n",
      "137               C123\n",
      "138                NaN\n",
      "139                B86\n",
      "140                NaN\n",
      "141                NaN\n",
      "142                NaN\n",
      "143                NaN\n",
      "144                NaN\n",
      "145                NaN\n",
      "146                NaN\n",
      "147                NaN\n",
      "148                 F2\n",
      "149                NaN\n",
      "150                NaN\n",
      "151                 C2\n",
      "152                NaN\n",
      "153                NaN\n",
      "154                NaN\n",
      "155                NaN\n",
      "156                NaN\n",
      "157                NaN\n",
      "158                NaN\n",
      "159                NaN\n",
      "160                NaN\n",
      "161                NaN\n",
      "162                NaN\n",
      "163                NaN\n",
      "164                NaN\n",
      "165                NaN\n",
      "166                E33\n",
      "167                NaN\n",
      "168                NaN\n",
      "169                NaN\n",
      "170                B19\n",
      "171                NaN\n",
      "172                NaN\n",
      "173                NaN\n",
      "174                 A7\n",
      "175                NaN\n",
      "176                NaN\n",
      "177                C49\n",
      "178                NaN\n",
      "179                NaN\n",
      "180                NaN\n",
      "181                NaN\n",
      "182                NaN\n",
      "183                 F4\n",
      "184                NaN\n",
      "185                A32\n",
      "186                NaN\n",
      "187                NaN\n",
      "188                NaN\n",
      "189                NaN\n",
      "190                NaN\n",
      "191                NaN\n",
      "192                NaN\n",
      "193                 F2\n",
      "194                 B4\n",
      "195                B80\n",
      "196                NaN\n",
      "197                NaN\n",
      "198                NaN\n",
      "199                NaN\n",
      "200                NaN\n",
      "201                NaN\n",
      "202                NaN\n",
      "203                NaN\n",
      "204                NaN\n",
      "205                 G6\n",
      "206                NaN\n",
      "207                NaN\n",
      "208                NaN\n",
      "209                A31\n",
      "210                NaN\n",
      "211                NaN\n",
      "212                NaN\n",
      "213                NaN\n",
      "214                NaN\n",
      "215                D36\n",
      "216                NaN\n",
      "217                NaN\n",
      "218                D15\n",
      "219                NaN\n",
      "220                NaN\n",
      "221                NaN\n",
      "222                NaN\n",
      "223                NaN\n",
      "224                C93\n",
      "225                NaN\n",
      "226                NaN\n",
      "227                NaN\n",
      "228                NaN\n",
      "229                NaN\n",
      "230                C83\n",
      "231                NaN\n",
      "232                NaN\n",
      "233                NaN\n",
      "234                NaN\n",
      "235                NaN\n",
      "236                NaN\n",
      "237                NaN\n",
      "238                NaN\n",
      "239                NaN\n",
      "240                NaN\n",
      "241                NaN\n",
      "242                NaN\n",
      "243                NaN\n",
      "244                NaN\n",
      "245                C78\n",
      "246                NaN\n",
      "247                NaN\n",
      "248                D35\n",
      "249                NaN\n",
      "250                NaN\n",
      "251                 G6\n",
      "252                C87\n",
      "253                NaN\n",
      "254                NaN\n",
      "255                NaN\n",
      "256                NaN\n",
      "257                B77\n",
      "258                NaN\n",
      "259                NaN\n",
      "260                NaN\n",
      "261                NaN\n",
      "262                E67\n",
      "263                B94\n",
      "264                NaN\n",
      "265                NaN\n",
      "266                NaN\n",
      "267                NaN\n",
      "268               C125\n",
      "269                C99\n",
      "270                NaN\n",
      "271                NaN\n",
      "272                NaN\n",
      "273               C118\n",
      "274                NaN\n",
      "275                 D7\n",
      "276                NaN\n",
      "277                NaN\n",
      "278                NaN\n",
      "279                NaN\n",
      "280                NaN\n",
      "281                NaN\n",
      "282                NaN\n",
      "283                NaN\n",
      "284                A19\n",
      "285                NaN\n",
      "286                NaN\n",
      "287                NaN\n",
      "288                NaN\n",
      "289                NaN\n",
      "290                NaN\n",
      "291                B49\n",
      "292                  D\n",
      "293                NaN\n",
      "294                NaN\n",
      "295                NaN\n",
      "296                NaN\n",
      "297            C22 C26\n",
      "298               C106\n",
      "299            B58 B60\n",
      "300                NaN\n",
      "301                NaN\n",
      "302                NaN\n",
      "303               E101\n",
      "304                NaN\n",
      "305            C22 C26\n",
      "306                NaN\n",
      "307                C65\n",
      "308                NaN\n",
      "309                E36\n",
      "310                C54\n",
      "311    B57 B59 B63 B66\n",
      "312                NaN\n",
      "313                NaN\n",
      "314                NaN\n",
      "315                NaN\n",
      "316                NaN\n",
      "317                NaN\n",
      "318                 C7\n",
      "319                E34\n",
      "320                NaN\n",
      "321                NaN\n",
      "322                NaN\n",
      "323                NaN\n",
      "324                NaN\n",
      "325                C32\n",
      "326                NaN\n",
      "327                  D\n",
      "328                NaN\n",
      "329                B18\n",
      "330                NaN\n",
      "331               C124\n",
      "332                C91\n",
      "333                NaN\n",
      "334                NaN\n",
      "335                NaN\n",
      "336                 C2\n",
      "337                E40\n",
      "338                NaN\n",
      "339                  T\n",
      "340                 F2\n",
      "341        C23 C25 C27\n",
      "342                NaN\n",
      "343                NaN\n",
      "344                NaN\n",
      "345                F33\n",
      "346                NaN\n",
      "347                NaN\n",
      "348                NaN\n",
      "349                NaN\n",
      "350                NaN\n",
      "351               C128\n",
      "352                NaN\n",
      "353                NaN\n",
      "354                NaN\n",
      "355                NaN\n",
      "356                E33\n",
      "357                NaN\n",
      "358                NaN\n",
      "359                NaN\n",
      "360                NaN\n",
      "361                NaN\n",
      "362                NaN\n",
      "363                NaN\n",
      "364                NaN\n",
      "365                NaN\n",
      "366                D37\n",
      "367                NaN\n",
      "368                NaN\n",
      "369                B35\n",
      "370                E50\n",
      "371                NaN\n",
      "372                NaN\n",
      "373                NaN\n",
      "374                NaN\n",
      "375                NaN\n",
      "376                NaN\n",
      "377                C82\n",
      "378                NaN\n",
      "379                NaN\n",
      "380                NaN\n",
      "381                NaN\n",
      "382                NaN\n",
      "383                NaN\n",
      "384                NaN\n",
      "385                NaN\n",
      "386                NaN\n",
      "387                NaN\n",
      "388                NaN\n",
      "389                NaN\n",
      "390            B96 B98\n",
      "391                NaN\n",
      "392                NaN\n",
      "393                D36\n",
      "394                 G6\n",
      "395                NaN\n",
      "396                NaN\n",
      "397                NaN\n",
      "398                NaN\n",
      "399                NaN\n",
      "400                NaN\n",
      "401                NaN\n",
      "402                NaN\n",
      "403                NaN\n",
      "404                NaN\n",
      "405                NaN\n",
      "406                NaN\n",
      "407                NaN\n",
      "408                NaN\n",
      "409                NaN\n",
      "410                NaN\n",
      "411                NaN\n",
      "412                C78\n",
      "413                NaN\n",
      "414                NaN\n",
      "415                NaN\n",
      "416                NaN\n",
      "417                NaN\n",
      "418                NaN\n",
      "419                NaN\n",
      "420                NaN\n",
      "421                NaN\n",
      "422                NaN\n",
      "423                NaN\n",
      "424                NaN\n",
      "425                NaN\n",
      "426                NaN\n",
      "427                NaN\n",
      "428                NaN\n",
      "429                E10\n",
      "430                C52\n",
      "431                NaN\n",
      "432                NaN\n",
      "433                NaN\n",
      "434                E44\n",
      "435            B96 B98\n",
      "436                NaN\n",
      "437                NaN\n",
      "438        C23 C25 C27\n",
      "439                NaN\n",
      "440                NaN\n",
      "441                NaN\n",
      "442                NaN\n",
      "443                NaN\n",
      "444                NaN\n",
      "445                A34\n",
      "446                NaN\n",
      "447                NaN\n",
      "448                NaN\n",
      "449               C104\n",
      "450                NaN\n",
      "451                NaN\n",
      "452               C111\n",
      "453                C92\n",
      "454                NaN\n",
      "455                NaN\n",
      "456                E38\n",
      "457                D21\n",
      "458                NaN\n",
      "459                NaN\n",
      "460                E12\n",
      "461                NaN\n",
      "462                E63\n",
      "463                NaN\n",
      "464                NaN\n",
      "465                NaN\n",
      "466                NaN\n",
      "467                NaN\n",
      "468                NaN\n",
      "469                NaN\n",
      "470                NaN\n",
      "471                NaN\n",
      "472                NaN\n",
      "473                  D\n",
      "474                NaN\n",
      "475                A14\n",
      "476                NaN\n",
      "477                NaN\n",
      "478                NaN\n",
      "479                NaN\n",
      "480                NaN\n",
      "481                NaN\n",
      "482                NaN\n",
      "483                NaN\n",
      "484                B49\n",
      "485                NaN\n",
      "486                C93\n",
      "487                B37\n",
      "488                NaN\n",
      "489                NaN\n",
      "490                NaN\n",
      "491                NaN\n",
      "492                C30\n",
      "493                NaN\n",
      "494                NaN\n",
      "495                NaN\n",
      "496                D20\n",
      "497                NaN\n",
      "498            C22 C26\n",
      "499                NaN\n",
      "500                NaN\n",
      "501                NaN\n",
      "502                NaN\n",
      "503                NaN\n",
      "504                B79\n",
      "505                C65\n",
      "506                NaN\n",
      "507                NaN\n",
      "508                NaN\n",
      "509                NaN\n",
      "510                NaN\n",
      "511                NaN\n",
      "512                E25\n",
      "513                NaN\n",
      "514                NaN\n",
      "515                D46\n",
      "516                F33\n",
      "517                NaN\n",
      "518                NaN\n",
      "519                NaN\n",
      "520                B73\n",
      "521                NaN\n",
      "522                NaN\n",
      "523                B18\n",
      "524                NaN\n",
      "525                NaN\n",
      "526                NaN\n",
      "527                C95\n",
      "528                NaN\n",
      "529                NaN\n",
      "530                NaN\n",
      "531                NaN\n",
      "532                NaN\n",
      "533                NaN\n",
      "534                NaN\n",
      "535                NaN\n",
      "536                B38\n",
      "537                NaN\n",
      "538                NaN\n",
      "539                B39\n",
      "540                B22\n",
      "541                NaN\n",
      "542                NaN\n",
      "543                NaN\n",
      "544                C86\n",
      "545                NaN\n",
      "546                NaN\n",
      "547                NaN\n",
      "548                NaN\n",
      "549                NaN\n",
      "550                C70\n",
      "551                NaN\n",
      "552                NaN\n",
      "553                NaN\n",
      "554                NaN\n",
      "555                NaN\n",
      "556                A16\n",
      "557                NaN\n",
      "558                E67\n",
      "559                NaN\n",
      "560                NaN\n",
      "561                NaN\n",
      "562                NaN\n",
      "563                NaN\n",
      "564                NaN\n",
      "565                NaN\n",
      "566                NaN\n",
      "567                NaN\n",
      "568                NaN\n",
      "569                NaN\n",
      "570                NaN\n",
      "571               C101\n",
      "572                E25\n",
      "573                NaN\n",
      "574                NaN\n",
      "575                NaN\n",
      "576                NaN\n",
      "577                E44\n",
      "578                NaN\n",
      "579                NaN\n",
      "580                NaN\n",
      "581                C68\n",
      "582                NaN\n",
      "583                A10\n",
      "584                NaN\n",
      "585                E68\n",
      "586                NaN\n",
      "587                B41\n",
      "588                NaN\n",
      "589                NaN\n",
      "590                NaN\n",
      "591                D20\n",
      "592                NaN\n",
      "593                NaN\n",
      "594                NaN\n",
      "595                NaN\n",
      "596                NaN\n",
      "597                NaN\n",
      "598                NaN\n",
      "599                A20\n",
      "600                NaN\n",
      "601                NaN\n",
      "602                NaN\n",
      "603                NaN\n",
      "604                NaN\n",
      "605                NaN\n",
      "606                NaN\n",
      "607                NaN\n",
      "608                NaN\n",
      "609               C125\n",
      "610                NaN\n",
      "611                NaN\n",
      "612                NaN\n",
      "613                NaN\n",
      "614                NaN\n",
      "615                NaN\n",
      "616                NaN\n",
      "617                NaN\n",
      "618                 F4\n",
      "619                NaN\n",
      "620                NaN\n",
      "621                D19\n",
      "622                NaN\n",
      "623                NaN\n",
      "624                NaN\n",
      "625                D50\n",
      "626                NaN\n",
      "627                 D9\n",
      "628                NaN\n",
      "629                NaN\n",
      "630                A23\n",
      "631                NaN\n",
      "632                B50\n",
      "633                NaN\n",
      "634                NaN\n",
      "635                NaN\n",
      "636                NaN\n",
      "637                NaN\n",
      "638                NaN\n",
      "639                NaN\n",
      "640                NaN\n",
      "641                B35\n",
      "642                NaN\n",
      "643                NaN\n",
      "644                NaN\n",
      "645                D33\n",
      "646                NaN\n",
      "647                A26\n",
      "648                NaN\n",
      "649                NaN\n",
      "650                NaN\n",
      "651                NaN\n",
      "652                NaN\n",
      "653                NaN\n",
      "654                NaN\n",
      "655                NaN\n",
      "656                NaN\n",
      "657                NaN\n",
      "658                NaN\n",
      "659                D48\n",
      "660                NaN\n",
      "661                NaN\n",
      "662                E58\n",
      "663                NaN\n",
      "664                NaN\n",
      "665                NaN\n",
      "666                NaN\n",
      "667                NaN\n",
      "668                NaN\n",
      "669               C126\n",
      "670                NaN\n",
      "671                B71\n",
      "672                NaN\n",
      "673                NaN\n",
      "674                NaN\n",
      "675                NaN\n",
      "676                NaN\n",
      "677                NaN\n",
      "678                NaN\n",
      "679        B51 B53 B55\n",
      "680                NaN\n",
      "681                D49\n",
      "682                NaN\n",
      "683                NaN\n",
      "684                NaN\n",
      "685                NaN\n",
      "686                NaN\n",
      "687                NaN\n",
      "688                NaN\n",
      "689                 B5\n",
      "690                B20\n",
      "691                NaN\n",
      "692                NaN\n",
      "693                NaN\n",
      "694                NaN\n",
      "695                NaN\n",
      "696                NaN\n",
      "697                NaN\n",
      "698                C68\n",
      "699              F G63\n",
      "700            C62 C64\n",
      "701                E24\n",
      "702                NaN\n",
      "703                NaN\n",
      "704                NaN\n",
      "705                NaN\n",
      "706                NaN\n",
      "707                E24\n",
      "708                NaN\n",
      "709                NaN\n",
      "710                C90\n",
      "711               C124\n",
      "712               C126\n",
      "713                NaN\n",
      "714                NaN\n",
      "715              F G73\n",
      "716                C45\n",
      "717               E101\n",
      "718                NaN\n",
      "719                NaN\n",
      "720                NaN\n",
      "721                NaN\n",
      "722                NaN\n",
      "723                NaN\n",
      "724                 E8\n",
      "725                NaN\n",
      "726                NaN\n",
      "727                NaN\n",
      "728                NaN\n",
      "729                NaN\n",
      "730                 B5\n",
      "731                NaN\n",
      "732                NaN\n",
      "733                NaN\n",
      "734                NaN\n",
      "735                NaN\n",
      "736                NaN\n",
      "737               B101\n",
      "738                NaN\n",
      "739                NaN\n",
      "740                D45\n",
      "741                C46\n",
      "742    B57 B59 B63 B66\n",
      "743                NaN\n",
      "744                NaN\n",
      "745                B22\n",
      "746                NaN\n",
      "747                NaN\n",
      "748                D30\n",
      "749                NaN\n",
      "750                NaN\n",
      "751               E121\n",
      "752                NaN\n",
      "753                NaN\n",
      "754                NaN\n",
      "755                NaN\n",
      "756                NaN\n",
      "757                NaN\n",
      "758                NaN\n",
      "759                B77\n",
      "760                NaN\n",
      "761                NaN\n",
      "762                NaN\n",
      "763            B96 B98\n",
      "764                NaN\n",
      "765                D11\n",
      "766                NaN\n",
      "767                NaN\n",
      "768                NaN\n",
      "769                NaN\n",
      "770                NaN\n",
      "771                NaN\n",
      "772                E77\n",
      "773                NaN\n",
      "774                NaN\n",
      "775                NaN\n",
      "776                F38\n",
      "777                NaN\n",
      "778                NaN\n",
      "779                 B3\n",
      "780                NaN\n",
      "781                B20\n",
      "782                 D6\n",
      "783                NaN\n",
      "784                NaN\n",
      "785                NaN\n",
      "786                NaN\n",
      "787                NaN\n",
      "788                NaN\n",
      "789            B82 B84\n",
      "790                NaN\n",
      "791                NaN\n",
      "792                NaN\n",
      "793                NaN\n",
      "794                NaN\n",
      "795                NaN\n",
      "796                D17\n",
      "797                NaN\n",
      "798                NaN\n",
      "799                NaN\n",
      "800                NaN\n",
      "801                NaN\n",
      "802            B96 B98\n",
      "803                NaN\n",
      "804                NaN\n",
      "805                NaN\n",
      "806                A36\n",
      "807                NaN\n",
      "808                NaN\n",
      "809                 E8\n",
      "810                NaN\n",
      "811                NaN\n",
      "812                NaN\n",
      "813                NaN\n",
      "814                NaN\n",
      "815               B102\n",
      "816                NaN\n",
      "817                NaN\n",
      "818                NaN\n",
      "819                NaN\n",
      "820                B69\n",
      "821                NaN\n",
      "822                NaN\n",
      "823               E121\n",
      "824                NaN\n",
      "825                NaN\n",
      "826                NaN\n",
      "827                NaN\n",
      "828                NaN\n",
      "829                B28\n",
      "830                NaN\n",
      "831                NaN\n",
      "832                NaN\n",
      "833                NaN\n",
      "834                NaN\n",
      "835                E49\n",
      "836                NaN\n",
      "837                NaN\n",
      "838                NaN\n",
      "839                C47\n",
      "840                NaN\n",
      "841                NaN\n",
      "842                NaN\n",
      "843                NaN\n",
      "844                NaN\n",
      "845                NaN\n",
      "846                NaN\n",
      "847                NaN\n",
      "848                NaN\n",
      "849                C92\n",
      "850                NaN\n",
      "851                NaN\n",
      "852                NaN\n",
      "853                D28\n",
      "854                NaN\n",
      "855                NaN\n",
      "856                NaN\n",
      "857                E17\n",
      "858                NaN\n",
      "859                NaN\n",
      "860                NaN\n",
      "861                NaN\n",
      "862                D17\n",
      "863                NaN\n",
      "864                NaN\n",
      "865                NaN\n",
      "866                NaN\n",
      "867                A24\n",
      "868                NaN\n",
      "869                NaN\n",
      "870                NaN\n",
      "871                D35\n",
      "872        B51 B53 B55\n",
      "873                NaN\n",
      "874                NaN\n",
      "875                NaN\n",
      "876                NaN\n",
      "877                NaN\n",
      "878                NaN\n",
      "879                C50\n",
      "880                NaN\n",
      "881                NaN\n",
      "882                NaN\n",
      "883                NaN\n",
      "884                NaN\n",
      "885                NaN\n",
      "886                NaN\n",
      "887                B42\n",
      "888                NaN\n",
      "889               C148\n",
      "890                NaN\n"
     ]
    }
   ],
   "source": [
    "# delete or drop emptu value\n",
    "print(df['Cabin'].to_string())"
   ]
  },
  {
   "cell_type": "code",
   "execution_count": 176,
   "id": "74edff21",
   "metadata": {
    "ExecuteTime": {
     "end_time": "2022-02-17T23:18:37.263023Z",
     "start_time": "2022-02-17T23:18:37.252067Z"
    }
   },
   "outputs": [
    {
     "data": {
      "text/plain": [
       "S    644\n",
       "C    168\n",
       "Q     77\n",
       "Name: Embarked, dtype: int64"
      ]
     },
     "execution_count": 176,
     "metadata": {},
     "output_type": "execute_result"
    }
   ],
   "source": [
    "df['Embarked'].value_counts() # to get the unique value"
   ]
  },
  {
   "cell_type": "code",
   "execution_count": 189,
   "id": "990d25cb",
   "metadata": {
    "ExecuteTime": {
     "end_time": "2022-02-17T23:36:08.576027Z",
     "start_time": "2022-02-17T23:36:08.556042Z"
    }
   },
   "outputs": [
    {
     "data": {
      "text/plain": [
       "0      S\n",
       "1      C\n",
       "2      S\n",
       "3      S\n",
       "4      S\n",
       "      ..\n",
       "886    S\n",
       "887    S\n",
       "888    S\n",
       "889    C\n",
       "890    Q\n",
       "Name: Embarked, Length: 891, dtype: object"
      ]
     },
     "execution_count": 189,
     "metadata": {},
     "output_type": "execute_result"
    }
   ],
   "source": [
    "df['Embarked']"
   ]
  },
  {
   "cell_type": "code",
   "execution_count": 190,
   "id": "4f20e29d",
   "metadata": {
    "ExecuteTime": {
     "end_time": "2022-02-17T23:36:21.471832Z",
     "start_time": "2022-02-17T23:36:21.451876Z"
    }
   },
   "outputs": [
    {
     "data": {
      "text/plain": [
       "0"
      ]
     },
     "execution_count": 190,
     "metadata": {},
     "output_type": "execute_result"
    }
   ],
   "source": [
    "df['Embarked'].isna().sum()"
   ]
  },
  {
   "cell_type": "code",
   "execution_count": 191,
   "id": "4b659038",
   "metadata": {
    "ExecuteTime": {
     "end_time": "2022-02-17T23:36:26.850224Z",
     "start_time": "2022-02-17T23:36:26.835232Z"
    }
   },
   "outputs": [],
   "source": [
    "# filling 2 values that are empty\n",
    "df['Embarked'].fillna('s', inplace=True) #to fill it"
   ]
  },
  {
   "cell_type": "code",
   "execution_count": 192,
   "id": "0fd9151e",
   "metadata": {
    "ExecuteTime": {
     "end_time": "2022-02-17T23:36:29.743455Z",
     "start_time": "2022-02-17T23:36:29.723464Z"
    }
   },
   "outputs": [
    {
     "data": {
      "text/plain": [
       "0"
      ]
     },
     "execution_count": 192,
     "metadata": {},
     "output_type": "execute_result"
    }
   ],
   "source": [
    "df['Embarked'].isna().sum() "
   ]
  },
  {
   "cell_type": "code",
   "execution_count": 193,
   "id": "020503aa",
   "metadata": {
    "ExecuteTime": {
     "end_time": "2022-02-17T23:36:52.461087Z",
     "start_time": "2022-02-17T23:36:52.435038Z"
    }
   },
   "outputs": [
    {
     "data": {
      "text/plain": [
       "0      22.0\n",
       "1      38.0\n",
       "2      26.0\n",
       "3      35.0\n",
       "4      35.0\n",
       "       ... \n",
       "886    27.0\n",
       "887    19.0\n",
       "888     NaN\n",
       "889    26.0\n",
       "890    32.0\n",
       "Name: Age, Length: 891, dtype: float64"
      ]
     },
     "execution_count": 193,
     "metadata": {},
     "output_type": "execute_result"
    }
   ],
   "source": [
    "df['Age']"
   ]
  },
  {
   "cell_type": "code",
   "execution_count": 195,
   "id": "135ea4eb",
   "metadata": {
    "ExecuteTime": {
     "end_time": "2022-02-17T23:40:10.497247Z",
     "start_time": "2022-02-17T23:40:10.487106Z"
    }
   },
   "outputs": [
    {
     "data": {
      "text/plain": [
       "28.0"
      ]
     },
     "execution_count": 195,
     "metadata": {},
     "output_type": "execute_result"
    }
   ],
   "source": [
    "#how to fill the age that is missing esp the empty cell\n",
    "df['Age'].median()"
   ]
  },
  {
   "cell_type": "code",
   "execution_count": 196,
   "id": "2469fd49",
   "metadata": {
    "ExecuteTime": {
     "end_time": "2022-02-17T23:41:02.201634Z",
     "start_time": "2022-02-17T23:41:02.181677Z"
    }
   },
   "outputs": [],
   "source": [
    "age_median = df['Age'].median()"
   ]
  },
  {
   "cell_type": "code",
   "execution_count": 197,
   "id": "cb30271d",
   "metadata": {
    "ExecuteTime": {
     "end_time": "2022-02-17T23:41:11.970950Z",
     "start_time": "2022-02-17T23:41:11.950918Z"
    }
   },
   "outputs": [
    {
     "data": {
      "text/plain": [
       "28.0"
      ]
     },
     "execution_count": 197,
     "metadata": {},
     "output_type": "execute_result"
    }
   ],
   "source": [
    "age_median"
   ]
  },
  {
   "cell_type": "code",
   "execution_count": 198,
   "id": "fe96ffd5",
   "metadata": {
    "ExecuteTime": {
     "end_time": "2022-02-17T23:50:04.073632Z",
     "start_time": "2022-02-17T23:50:04.058676Z"
    }
   },
   "outputs": [
    {
     "data": {
      "text/plain": [
       "0      22.0\n",
       "1      38.0\n",
       "2      26.0\n",
       "3      35.0\n",
       "4      35.0\n",
       "       ... \n",
       "886    27.0\n",
       "887    19.0\n",
       "888    28.0\n",
       "889    26.0\n",
       "890    32.0\n",
       "Name: Age, Length: 891, dtype: float64"
      ]
     },
     "execution_count": 198,
     "metadata": {},
     "output_type": "execute_result"
    }
   ],
   "source": [
    "df['Age'].fillna(age_median)"
   ]
  },
  {
   "cell_type": "code",
   "execution_count": 199,
   "id": "18e83ac2",
   "metadata": {
    "ExecuteTime": {
     "end_time": "2022-02-17T23:50:53.231666Z",
     "start_time": "2022-02-17T23:50:53.221667Z"
    }
   },
   "outputs": [
    {
     "data": {
      "text/plain": [
       "177"
      ]
     },
     "execution_count": 199,
     "metadata": {},
     "output_type": "execute_result"
    }
   ],
   "source": [
    "df['Age'].isna().sum() #shows 177 empty cells"
   ]
  },
  {
   "cell_type": "code",
   "execution_count": 200,
   "id": "604d5c66",
   "metadata": {
    "ExecuteTime": {
     "end_time": "2022-02-17T23:53:16.821001Z",
     "start_time": "2022-02-17T23:53:16.806045Z"
    }
   },
   "outputs": [],
   "source": [
    "df['Age'].fillna(age_median, inplace=True)"
   ]
  },
  {
   "cell_type": "code",
   "execution_count": 201,
   "id": "5f401df1",
   "metadata": {
    "ExecuteTime": {
     "end_time": "2022-02-17T23:53:31.605637Z",
     "start_time": "2022-02-17T23:53:31.595636Z"
    }
   },
   "outputs": [
    {
     "data": {
      "text/plain": [
       "0"
      ]
     },
     "execution_count": 201,
     "metadata": {},
     "output_type": "execute_result"
    }
   ],
   "source": [
    "df['Age'].isna().sum()"
   ]
  },
  {
   "cell_type": "code",
   "execution_count": 202,
   "id": "be8aee49",
   "metadata": {
    "ExecuteTime": {
     "end_time": "2022-02-17T23:56:01.786399Z",
     "start_time": "2022-02-17T23:56:01.776403Z"
    }
   },
   "outputs": [
    {
     "data": {
      "text/plain": [
       "PassengerId      0\n",
       "Survived         0\n",
       "Pclass           0\n",
       "Name             0\n",
       "Sex              0\n",
       "Age              0\n",
       "SibSp            0\n",
       "Parch            0\n",
       "Ticket           0\n",
       "Fare             0\n",
       "Cabin          687\n",
       "Embarked         0\n",
       "dtype: int64"
      ]
     },
     "execution_count": 202,
     "metadata": {},
     "output_type": "execute_result"
    }
   ],
   "source": [
    "# to check for the remaining empty cells in all the data set\n",
    "df.isna().sum()"
   ]
  },
  {
   "cell_type": "code",
   "execution_count": 203,
   "id": "b91f7ca0",
   "metadata": {
    "ExecuteTime": {
     "end_time": "2022-02-17T23:56:29.721503Z",
     "start_time": "2022-02-17T23:56:29.706514Z"
    }
   },
   "outputs": [
    {
     "data": {
      "text/plain": [
       "0       NaN\n",
       "1       C85\n",
       "2       NaN\n",
       "3      C123\n",
       "4       NaN\n",
       "       ... \n",
       "886     NaN\n",
       "887     B42\n",
       "888     NaN\n",
       "889    C148\n",
       "890     NaN\n",
       "Name: Cabin, Length: 891, dtype: object"
      ]
     },
     "execution_count": 203,
     "metadata": {},
     "output_type": "execute_result"
    }
   ],
   "source": [
    "df['Cabin']"
   ]
  },
  {
   "cell_type": "code",
   "execution_count": 210,
   "id": "f77de17c",
   "metadata": {
    "ExecuteTime": {
     "end_time": "2022-02-18T00:07:19.387224Z",
     "start_time": "2022-02-18T00:07:19.372707Z"
    }
   },
   "outputs": [],
   "source": [
    "clean_data = df.drop('Cabin', axis = 1) # to delete the entire dataset that belongs to cabin column, 1= across the row, 0= across the column"
   ]
  },
  {
   "cell_type": "code",
   "execution_count": 211,
   "id": "94b1d833",
   "metadata": {
    "ExecuteTime": {
     "end_time": "2022-02-18T00:07:54.851217Z",
     "start_time": "2022-02-18T00:07:54.826186Z"
    }
   },
   "outputs": [
    {
     "name": "stdout",
     "output_type": "stream",
     "text": [
      "<class 'pandas.core.frame.DataFrame'>\n",
      "RangeIndex: 891 entries, 0 to 890\n",
      "Data columns (total 11 columns):\n",
      " #   Column       Non-Null Count  Dtype  \n",
      "---  ------       --------------  -----  \n",
      " 0   PassengerId  891 non-null    int64  \n",
      " 1   Survived     891 non-null    int64  \n",
      " 2   Pclass       891 non-null    int64  \n",
      " 3   Name         891 non-null    object \n",
      " 4   Sex          891 non-null    object \n",
      " 5   Age          891 non-null    float64\n",
      " 6   SibSp        891 non-null    int64  \n",
      " 7   Parch        891 non-null    int64  \n",
      " 8   Ticket       891 non-null    object \n",
      " 9   Fare         891 non-null    float64\n",
      " 10  Embarked     891 non-null    object \n",
      "dtypes: float64(2), int64(5), object(4)\n",
      "memory usage: 76.7+ KB\n"
     ]
    }
   ],
   "source": [
    "#curent state of the data\n",
    "clean_data.info()"
   ]
  },
  {
   "cell_type": "code",
   "execution_count": 212,
   "id": "6e8ab5f8",
   "metadata": {
    "ExecuteTime": {
     "end_time": "2022-02-18T00:09:15.590871Z",
     "start_time": "2022-02-18T00:09:15.570886Z"
    }
   },
   "outputs": [
    {
     "name": "stdout",
     "output_type": "stream",
     "text": [
      "<class 'pandas.core.frame.DataFrame'>\n",
      "RangeIndex: 891 entries, 0 to 890\n",
      "Data columns (total 12 columns):\n",
      " #   Column       Non-Null Count  Dtype  \n",
      "---  ------       --------------  -----  \n",
      " 0   PassengerId  891 non-null    int64  \n",
      " 1   Survived     891 non-null    int64  \n",
      " 2   Pclass       891 non-null    int64  \n",
      " 3   Name         891 non-null    object \n",
      " 4   Sex          891 non-null    object \n",
      " 5   Age          891 non-null    float64\n",
      " 6   SibSp        891 non-null    int64  \n",
      " 7   Parch        891 non-null    int64  \n",
      " 8   Ticket       891 non-null    object \n",
      " 9   Fare         891 non-null    float64\n",
      " 10  Cabin        204 non-null    object \n",
      " 11  Embarked     891 non-null    object \n",
      "dtypes: float64(2), int64(5), object(5)\n",
      "memory usage: 83.7+ KB\n"
     ]
    }
   ],
   "source": [
    "df.info()"
   ]
  },
  {
   "cell_type": "code",
   "execution_count": 213,
   "id": "ee9cc9f3",
   "metadata": {
    "ExecuteTime": {
     "end_time": "2022-02-18T00:09:55.716701Z",
     "start_time": "2022-02-18T00:09:55.701673Z"
    }
   },
   "outputs": [],
   "source": [
    "df.drop('Cabin', axis = 1, inplace=True) # method 2 to delete Cabin column"
   ]
  },
  {
   "cell_type": "code",
   "execution_count": 215,
   "id": "f4d2df9d",
   "metadata": {
    "ExecuteTime": {
     "end_time": "2022-02-18T00:10:06.770684Z",
     "start_time": "2022-02-18T00:10:06.750691Z"
    }
   },
   "outputs": [
    {
     "name": "stdout",
     "output_type": "stream",
     "text": [
      "<class 'pandas.core.frame.DataFrame'>\n",
      "RangeIndex: 891 entries, 0 to 890\n",
      "Data columns (total 11 columns):\n",
      " #   Column       Non-Null Count  Dtype  \n",
      "---  ------       --------------  -----  \n",
      " 0   PassengerId  891 non-null    int64  \n",
      " 1   Survived     891 non-null    int64  \n",
      " 2   Pclass       891 non-null    int64  \n",
      " 3   Name         891 non-null    object \n",
      " 4   Sex          891 non-null    object \n",
      " 5   Age          891 non-null    float64\n",
      " 6   SibSp        891 non-null    int64  \n",
      " 7   Parch        891 non-null    int64  \n",
      " 8   Ticket       891 non-null    object \n",
      " 9   Fare         891 non-null    float64\n",
      " 10  Embarked     891 non-null    object \n",
      "dtypes: float64(2), int64(5), object(4)\n",
      "memory usage: 76.7+ KB\n"
     ]
    }
   ],
   "source": [
    "df.info()"
   ]
  },
  {
   "cell_type": "code",
   "execution_count": 218,
   "id": "2cc95ad4",
   "metadata": {
    "ExecuteTime": {
     "end_time": "2022-02-18T00:21:42.550564Z",
     "start_time": "2022-02-18T00:21:42.535571Z"
    }
   },
   "outputs": [
    {
     "data": {
      "text/plain": [
       "dtype('int64')"
      ]
     },
     "execution_count": 218,
     "metadata": {},
     "output_type": "execute_result"
    }
   ],
   "source": [
    "df['Survived'].dtype"
   ]
  },
  {
   "cell_type": "code",
   "execution_count": 219,
   "id": "99371a18",
   "metadata": {
    "ExecuteTime": {
     "end_time": "2022-02-18T00:22:02.036122Z",
     "start_time": "2022-02-18T00:22:02.026125Z"
    }
   },
   "outputs": [
    {
     "data": {
      "text/plain": [
       "dtype('O')"
      ]
     },
     "execution_count": 219,
     "metadata": {},
     "output_type": "execute_result"
    }
   ],
   "source": [
    "df['Name'].dtype # data type is object"
   ]
  },
  {
   "cell_type": "code",
   "execution_count": 220,
   "id": "c9f7bdeb",
   "metadata": {
    "ExecuteTime": {
     "end_time": "2022-02-18T00:23:20.177686Z",
     "start_time": "2022-02-18T00:23:20.147640Z"
    }
   },
   "outputs": [
    {
     "name": "stdout",
     "output_type": "stream",
     "text": [
      "<class 'pandas.core.frame.DataFrame'>\n",
      "RangeIndex: 891 entries, 0 to 890\n",
      "Data columns (total 11 columns):\n",
      " #   Column       Non-Null Count  Dtype  \n",
      "---  ------       --------------  -----  \n",
      " 0   PassengerId  891 non-null    int64  \n",
      " 1   Survived     891 non-null    int64  \n",
      " 2   Pclass       891 non-null    int64  \n",
      " 3   Name         891 non-null    object \n",
      " 4   Sex          891 non-null    object \n",
      " 5   Age          891 non-null    float64\n",
      " 6   SibSp        891 non-null    int64  \n",
      " 7   Parch        891 non-null    int64  \n",
      " 8   Ticket       891 non-null    object \n",
      " 9   Fare         891 non-null    float64\n",
      " 10  Embarked     891 non-null    object \n",
      "dtypes: float64(2), int64(5), object(4)\n",
      "memory usage: 76.7+ KB\n"
     ]
    }
   ],
   "source": [
    "df.info()"
   ]
  },
  {
   "cell_type": "code",
   "execution_count": 221,
   "id": "5e268a51",
   "metadata": {
    "ExecuteTime": {
     "end_time": "2022-02-18T00:24:30.973745Z",
     "start_time": "2022-02-18T00:24:30.954027Z"
    }
   },
   "outputs": [],
   "source": [
    "# how to filters stuff in pandas"
   ]
  },
  {
   "cell_type": "code",
   "execution_count": 222,
   "id": "1826a2fe",
   "metadata": {
    "ExecuteTime": {
     "end_time": "2022-02-18T00:24:37.395794Z",
     "start_time": "2022-02-18T00:24:37.370685Z"
    }
   },
   "outputs": [
    {
     "data": {
      "text/html": [
       "<div>\n",
       "<style scoped>\n",
       "    .dataframe tbody tr th:only-of-type {\n",
       "        vertical-align: middle;\n",
       "    }\n",
       "\n",
       "    .dataframe tbody tr th {\n",
       "        vertical-align: top;\n",
       "    }\n",
       "\n",
       "    .dataframe thead th {\n",
       "        text-align: right;\n",
       "    }\n",
       "</style>\n",
       "<table border=\"1\" class=\"dataframe\">\n",
       "  <thead>\n",
       "    <tr style=\"text-align: right;\">\n",
       "      <th></th>\n",
       "      <th>PassengerId</th>\n",
       "      <th>Survived</th>\n",
       "      <th>Pclass</th>\n",
       "      <th>Name</th>\n",
       "      <th>Sex</th>\n",
       "      <th>Age</th>\n",
       "      <th>SibSp</th>\n",
       "      <th>Parch</th>\n",
       "      <th>Ticket</th>\n",
       "      <th>Fare</th>\n",
       "      <th>Embarked</th>\n",
       "    </tr>\n",
       "  </thead>\n",
       "  <tbody>\n",
       "    <tr>\n",
       "      <th>0</th>\n",
       "      <td>1</td>\n",
       "      <td>0</td>\n",
       "      <td>3</td>\n",
       "      <td>Braund, Mr. Owen Harris</td>\n",
       "      <td>male</td>\n",
       "      <td>22.0</td>\n",
       "      <td>1</td>\n",
       "      <td>0</td>\n",
       "      <td>A/5 21171</td>\n",
       "      <td>7.2500</td>\n",
       "      <td>S</td>\n",
       "    </tr>\n",
       "    <tr>\n",
       "      <th>1</th>\n",
       "      <td>2</td>\n",
       "      <td>1</td>\n",
       "      <td>1</td>\n",
       "      <td>Cumings, Mrs. John Bradley (Florence Briggs Th...</td>\n",
       "      <td>female</td>\n",
       "      <td>38.0</td>\n",
       "      <td>1</td>\n",
       "      <td>0</td>\n",
       "      <td>PC 17599</td>\n",
       "      <td>71.2833</td>\n",
       "      <td>C</td>\n",
       "    </tr>\n",
       "    <tr>\n",
       "      <th>2</th>\n",
       "      <td>3</td>\n",
       "      <td>1</td>\n",
       "      <td>3</td>\n",
       "      <td>Heikkinen, Miss. Laina</td>\n",
       "      <td>female</td>\n",
       "      <td>26.0</td>\n",
       "      <td>0</td>\n",
       "      <td>0</td>\n",
       "      <td>STON/O2. 3101282</td>\n",
       "      <td>7.9250</td>\n",
       "      <td>S</td>\n",
       "    </tr>\n",
       "    <tr>\n",
       "      <th>3</th>\n",
       "      <td>4</td>\n",
       "      <td>1</td>\n",
       "      <td>1</td>\n",
       "      <td>Futrelle, Mrs. Jacques Heath (Lily May Peel)</td>\n",
       "      <td>female</td>\n",
       "      <td>35.0</td>\n",
       "      <td>1</td>\n",
       "      <td>0</td>\n",
       "      <td>113803</td>\n",
       "      <td>53.1000</td>\n",
       "      <td>S</td>\n",
       "    </tr>\n",
       "    <tr>\n",
       "      <th>4</th>\n",
       "      <td>5</td>\n",
       "      <td>0</td>\n",
       "      <td>3</td>\n",
       "      <td>Allen, Mr. William Henry</td>\n",
       "      <td>male</td>\n",
       "      <td>35.0</td>\n",
       "      <td>0</td>\n",
       "      <td>0</td>\n",
       "      <td>373450</td>\n",
       "      <td>8.0500</td>\n",
       "      <td>S</td>\n",
       "    </tr>\n",
       "  </tbody>\n",
       "</table>\n",
       "</div>"
      ],
      "text/plain": [
       "   PassengerId  Survived  Pclass  \\\n",
       "0            1         0       3   \n",
       "1            2         1       1   \n",
       "2            3         1       3   \n",
       "3            4         1       1   \n",
       "4            5         0       3   \n",
       "\n",
       "                                                Name     Sex   Age  SibSp  \\\n",
       "0                            Braund, Mr. Owen Harris    male  22.0      1   \n",
       "1  Cumings, Mrs. John Bradley (Florence Briggs Th...  female  38.0      1   \n",
       "2                             Heikkinen, Miss. Laina  female  26.0      0   \n",
       "3       Futrelle, Mrs. Jacques Heath (Lily May Peel)  female  35.0      1   \n",
       "4                           Allen, Mr. William Henry    male  35.0      0   \n",
       "\n",
       "   Parch            Ticket     Fare Embarked  \n",
       "0      0         A/5 21171   7.2500        S  \n",
       "1      0          PC 17599  71.2833        C  \n",
       "2      0  STON/O2. 3101282   7.9250        S  \n",
       "3      0            113803  53.1000        S  \n",
       "4      0            373450   8.0500        S  "
      ]
     },
     "execution_count": 222,
     "metadata": {},
     "output_type": "execute_result"
    }
   ],
   "source": [
    "df.head()"
   ]
  },
  {
   "cell_type": "code",
   "execution_count": 224,
   "id": "f3e33389",
   "metadata": {
    "ExecuteTime": {
     "end_time": "2022-02-18T00:27:44.885913Z",
     "start_time": "2022-02-18T00:27:44.840933Z"
    }
   },
   "outputs": [
    {
     "data": {
      "text/html": [
       "<div>\n",
       "<style scoped>\n",
       "    .dataframe tbody tr th:only-of-type {\n",
       "        vertical-align: middle;\n",
       "    }\n",
       "\n",
       "    .dataframe tbody tr th {\n",
       "        vertical-align: top;\n",
       "    }\n",
       "\n",
       "    .dataframe thead th {\n",
       "        text-align: right;\n",
       "    }\n",
       "</style>\n",
       "<table border=\"1\" class=\"dataframe\">\n",
       "  <thead>\n",
       "    <tr style=\"text-align: right;\">\n",
       "      <th></th>\n",
       "      <th></th>\n",
       "      <th>PassengerId</th>\n",
       "      <th>Survived</th>\n",
       "      <th>Pclass</th>\n",
       "      <th>Name</th>\n",
       "      <th>SibSp</th>\n",
       "      <th>Parch</th>\n",
       "      <th>Ticket</th>\n",
       "      <th>Fare</th>\n",
       "      <th>Embarked</th>\n",
       "    </tr>\n",
       "    <tr>\n",
       "      <th>Age</th>\n",
       "      <th>Sex</th>\n",
       "      <th></th>\n",
       "      <th></th>\n",
       "      <th></th>\n",
       "      <th></th>\n",
       "      <th></th>\n",
       "      <th></th>\n",
       "      <th></th>\n",
       "      <th></th>\n",
       "      <th></th>\n",
       "    </tr>\n",
       "  </thead>\n",
       "  <tbody>\n",
       "    <tr>\n",
       "      <th>0.42</th>\n",
       "      <th>male</th>\n",
       "      <td>1</td>\n",
       "      <td>1</td>\n",
       "      <td>1</td>\n",
       "      <td>1</td>\n",
       "      <td>1</td>\n",
       "      <td>1</td>\n",
       "      <td>1</td>\n",
       "      <td>1</td>\n",
       "      <td>1</td>\n",
       "    </tr>\n",
       "    <tr>\n",
       "      <th>0.67</th>\n",
       "      <th>male</th>\n",
       "      <td>1</td>\n",
       "      <td>1</td>\n",
       "      <td>1</td>\n",
       "      <td>1</td>\n",
       "      <td>1</td>\n",
       "      <td>1</td>\n",
       "      <td>1</td>\n",
       "      <td>1</td>\n",
       "      <td>1</td>\n",
       "    </tr>\n",
       "    <tr>\n",
       "      <th>0.75</th>\n",
       "      <th>female</th>\n",
       "      <td>2</td>\n",
       "      <td>2</td>\n",
       "      <td>2</td>\n",
       "      <td>2</td>\n",
       "      <td>2</td>\n",
       "      <td>2</td>\n",
       "      <td>2</td>\n",
       "      <td>2</td>\n",
       "      <td>2</td>\n",
       "    </tr>\n",
       "    <tr>\n",
       "      <th>0.83</th>\n",
       "      <th>male</th>\n",
       "      <td>2</td>\n",
       "      <td>2</td>\n",
       "      <td>2</td>\n",
       "      <td>2</td>\n",
       "      <td>2</td>\n",
       "      <td>2</td>\n",
       "      <td>2</td>\n",
       "      <td>2</td>\n",
       "      <td>2</td>\n",
       "    </tr>\n",
       "    <tr>\n",
       "      <th>0.92</th>\n",
       "      <th>male</th>\n",
       "      <td>1</td>\n",
       "      <td>1</td>\n",
       "      <td>1</td>\n",
       "      <td>1</td>\n",
       "      <td>1</td>\n",
       "      <td>1</td>\n",
       "      <td>1</td>\n",
       "      <td>1</td>\n",
       "      <td>1</td>\n",
       "    </tr>\n",
       "    <tr>\n",
       "      <th>...</th>\n",
       "      <th>...</th>\n",
       "      <td>...</td>\n",
       "      <td>...</td>\n",
       "      <td>...</td>\n",
       "      <td>...</td>\n",
       "      <td>...</td>\n",
       "      <td>...</td>\n",
       "      <td>...</td>\n",
       "      <td>...</td>\n",
       "      <td>...</td>\n",
       "    </tr>\n",
       "    <tr>\n",
       "      <th>70.00</th>\n",
       "      <th>male</th>\n",
       "      <td>2</td>\n",
       "      <td>2</td>\n",
       "      <td>2</td>\n",
       "      <td>2</td>\n",
       "      <td>2</td>\n",
       "      <td>2</td>\n",
       "      <td>2</td>\n",
       "      <td>2</td>\n",
       "      <td>2</td>\n",
       "    </tr>\n",
       "    <tr>\n",
       "      <th>70.50</th>\n",
       "      <th>male</th>\n",
       "      <td>1</td>\n",
       "      <td>1</td>\n",
       "      <td>1</td>\n",
       "      <td>1</td>\n",
       "      <td>1</td>\n",
       "      <td>1</td>\n",
       "      <td>1</td>\n",
       "      <td>1</td>\n",
       "      <td>1</td>\n",
       "    </tr>\n",
       "    <tr>\n",
       "      <th>71.00</th>\n",
       "      <th>male</th>\n",
       "      <td>2</td>\n",
       "      <td>2</td>\n",
       "      <td>2</td>\n",
       "      <td>2</td>\n",
       "      <td>2</td>\n",
       "      <td>2</td>\n",
       "      <td>2</td>\n",
       "      <td>2</td>\n",
       "      <td>2</td>\n",
       "    </tr>\n",
       "    <tr>\n",
       "      <th>74.00</th>\n",
       "      <th>male</th>\n",
       "      <td>1</td>\n",
       "      <td>1</td>\n",
       "      <td>1</td>\n",
       "      <td>1</td>\n",
       "      <td>1</td>\n",
       "      <td>1</td>\n",
       "      <td>1</td>\n",
       "      <td>1</td>\n",
       "      <td>1</td>\n",
       "    </tr>\n",
       "    <tr>\n",
       "      <th>80.00</th>\n",
       "      <th>male</th>\n",
       "      <td>1</td>\n",
       "      <td>1</td>\n",
       "      <td>1</td>\n",
       "      <td>1</td>\n",
       "      <td>1</td>\n",
       "      <td>1</td>\n",
       "      <td>1</td>\n",
       "      <td>1</td>\n",
       "      <td>1</td>\n",
       "    </tr>\n",
       "  </tbody>\n",
       "</table>\n",
       "<p>145 rows × 9 columns</p>\n",
       "</div>"
      ],
      "text/plain": [
       "              PassengerId  Survived  Pclass  Name  SibSp  Parch  Ticket  Fare  \\\n",
       "Age   Sex                                                                       \n",
       "0.42  male              1         1       1     1      1      1       1     1   \n",
       "0.67  male              1         1       1     1      1      1       1     1   \n",
       "0.75  female            2         2       2     2      2      2       2     2   \n",
       "0.83  male              2         2       2     2      2      2       2     2   \n",
       "0.92  male              1         1       1     1      1      1       1     1   \n",
       "...                   ...       ...     ...   ...    ...    ...     ...   ...   \n",
       "70.00 male              2         2       2     2      2      2       2     2   \n",
       "70.50 male              1         1       1     1      1      1       1     1   \n",
       "71.00 male              2         2       2     2      2      2       2     2   \n",
       "74.00 male              1         1       1     1      1      1       1     1   \n",
       "80.00 male              1         1       1     1      1      1       1     1   \n",
       "\n",
       "              Embarked  \n",
       "Age   Sex               \n",
       "0.42  male           1  \n",
       "0.67  male           1  \n",
       "0.75  female         2  \n",
       "0.83  male           2  \n",
       "0.92  male           1  \n",
       "...                ...  \n",
       "70.00 male           2  \n",
       "70.50 male           1  \n",
       "71.00 male           2  \n",
       "74.00 male           1  \n",
       "80.00 male           1  \n",
       "\n",
       "[145 rows x 9 columns]"
      ]
     },
     "execution_count": 224,
     "metadata": {},
     "output_type": "execute_result"
    }
   ],
   "source": [
    "df.groupby(['Age', 'Sex']).count()"
   ]
  },
  {
   "cell_type": "code",
   "execution_count": 225,
   "id": "d5ba4f4b",
   "metadata": {
    "ExecuteTime": {
     "end_time": "2022-02-18T00:29:45.581624Z",
     "start_time": "2022-02-18T00:29:45.556636Z"
    }
   },
   "outputs": [
    {
     "data": {
      "text/html": [
       "<div>\n",
       "<style scoped>\n",
       "    .dataframe tbody tr th:only-of-type {\n",
       "        vertical-align: middle;\n",
       "    }\n",
       "\n",
       "    .dataframe tbody tr th {\n",
       "        vertical-align: top;\n",
       "    }\n",
       "\n",
       "    .dataframe thead th {\n",
       "        text-align: right;\n",
       "    }\n",
       "</style>\n",
       "<table border=\"1\" class=\"dataframe\">\n",
       "  <thead>\n",
       "    <tr style=\"text-align: right;\">\n",
       "      <th></th>\n",
       "      <th>Age</th>\n",
       "      <th>Survived</th>\n",
       "      <th>Sex</th>\n",
       "    </tr>\n",
       "  </thead>\n",
       "  <tbody>\n",
       "    <tr>\n",
       "      <th>0</th>\n",
       "      <td>22.0</td>\n",
       "      <td>0</td>\n",
       "      <td>male</td>\n",
       "    </tr>\n",
       "    <tr>\n",
       "      <th>1</th>\n",
       "      <td>38.0</td>\n",
       "      <td>1</td>\n",
       "      <td>female</td>\n",
       "    </tr>\n",
       "    <tr>\n",
       "      <th>2</th>\n",
       "      <td>26.0</td>\n",
       "      <td>1</td>\n",
       "      <td>female</td>\n",
       "    </tr>\n",
       "    <tr>\n",
       "      <th>3</th>\n",
       "      <td>35.0</td>\n",
       "      <td>1</td>\n",
       "      <td>female</td>\n",
       "    </tr>\n",
       "    <tr>\n",
       "      <th>4</th>\n",
       "      <td>35.0</td>\n",
       "      <td>0</td>\n",
       "      <td>male</td>\n",
       "    </tr>\n",
       "    <tr>\n",
       "      <th>...</th>\n",
       "      <td>...</td>\n",
       "      <td>...</td>\n",
       "      <td>...</td>\n",
       "    </tr>\n",
       "    <tr>\n",
       "      <th>886</th>\n",
       "      <td>27.0</td>\n",
       "      <td>0</td>\n",
       "      <td>male</td>\n",
       "    </tr>\n",
       "    <tr>\n",
       "      <th>887</th>\n",
       "      <td>19.0</td>\n",
       "      <td>1</td>\n",
       "      <td>female</td>\n",
       "    </tr>\n",
       "    <tr>\n",
       "      <th>888</th>\n",
       "      <td>28.0</td>\n",
       "      <td>0</td>\n",
       "      <td>female</td>\n",
       "    </tr>\n",
       "    <tr>\n",
       "      <th>889</th>\n",
       "      <td>26.0</td>\n",
       "      <td>1</td>\n",
       "      <td>male</td>\n",
       "    </tr>\n",
       "    <tr>\n",
       "      <th>890</th>\n",
       "      <td>32.0</td>\n",
       "      <td>0</td>\n",
       "      <td>male</td>\n",
       "    </tr>\n",
       "  </tbody>\n",
       "</table>\n",
       "<p>891 rows × 3 columns</p>\n",
       "</div>"
      ],
      "text/plain": [
       "      Age  Survived     Sex\n",
       "0    22.0         0    male\n",
       "1    38.0         1  female\n",
       "2    26.0         1  female\n",
       "3    35.0         1  female\n",
       "4    35.0         0    male\n",
       "..    ...       ...     ...\n",
       "886  27.0         0    male\n",
       "887  19.0         1  female\n",
       "888  28.0         0  female\n",
       "889  26.0         1    male\n",
       "890  32.0         0    male\n",
       "\n",
       "[891 rows x 3 columns]"
      ]
     },
     "execution_count": 225,
     "metadata": {},
     "output_type": "execute_result"
    }
   ],
   "source": [
    "df[['Age', 'Survived', 'Sex']] # group by specific columns"
   ]
  },
  {
   "cell_type": "code",
   "execution_count": 226,
   "id": "3df4a3a9",
   "metadata": {
    "ExecuteTime": {
     "end_time": "2022-02-18T00:30:30.927427Z",
     "start_time": "2022-02-18T00:30:30.893950Z"
    }
   },
   "outputs": [
    {
     "data": {
      "text/html": [
       "<div>\n",
       "<style scoped>\n",
       "    .dataframe tbody tr th:only-of-type {\n",
       "        vertical-align: middle;\n",
       "    }\n",
       "\n",
       "    .dataframe tbody tr th {\n",
       "        vertical-align: top;\n",
       "    }\n",
       "\n",
       "    .dataframe thead th {\n",
       "        text-align: right;\n",
       "    }\n",
       "</style>\n",
       "<table border=\"1\" class=\"dataframe\">\n",
       "  <thead>\n",
       "    <tr style=\"text-align: right;\">\n",
       "      <th></th>\n",
       "      <th></th>\n",
       "      <th>Survived</th>\n",
       "    </tr>\n",
       "    <tr>\n",
       "      <th>Age</th>\n",
       "      <th>Sex</th>\n",
       "      <th></th>\n",
       "    </tr>\n",
       "  </thead>\n",
       "  <tbody>\n",
       "    <tr>\n",
       "      <th>0.42</th>\n",
       "      <th>male</th>\n",
       "      <td>1</td>\n",
       "    </tr>\n",
       "    <tr>\n",
       "      <th>0.67</th>\n",
       "      <th>male</th>\n",
       "      <td>1</td>\n",
       "    </tr>\n",
       "    <tr>\n",
       "      <th>0.75</th>\n",
       "      <th>female</th>\n",
       "      <td>2</td>\n",
       "    </tr>\n",
       "    <tr>\n",
       "      <th>0.83</th>\n",
       "      <th>male</th>\n",
       "      <td>2</td>\n",
       "    </tr>\n",
       "    <tr>\n",
       "      <th>0.92</th>\n",
       "      <th>male</th>\n",
       "      <td>1</td>\n",
       "    </tr>\n",
       "    <tr>\n",
       "      <th>...</th>\n",
       "      <th>...</th>\n",
       "      <td>...</td>\n",
       "    </tr>\n",
       "    <tr>\n",
       "      <th>70.00</th>\n",
       "      <th>male</th>\n",
       "      <td>2</td>\n",
       "    </tr>\n",
       "    <tr>\n",
       "      <th>70.50</th>\n",
       "      <th>male</th>\n",
       "      <td>1</td>\n",
       "    </tr>\n",
       "    <tr>\n",
       "      <th>71.00</th>\n",
       "      <th>male</th>\n",
       "      <td>2</td>\n",
       "    </tr>\n",
       "    <tr>\n",
       "      <th>74.00</th>\n",
       "      <th>male</th>\n",
       "      <td>1</td>\n",
       "    </tr>\n",
       "    <tr>\n",
       "      <th>80.00</th>\n",
       "      <th>male</th>\n",
       "      <td>1</td>\n",
       "    </tr>\n",
       "  </tbody>\n",
       "</table>\n",
       "<p>145 rows × 1 columns</p>\n",
       "</div>"
      ],
      "text/plain": [
       "              Survived\n",
       "Age   Sex             \n",
       "0.42  male           1\n",
       "0.67  male           1\n",
       "0.75  female         2\n",
       "0.83  male           2\n",
       "0.92  male           1\n",
       "...                ...\n",
       "70.00 male           2\n",
       "70.50 male           1\n",
       "71.00 male           2\n",
       "74.00 male           1\n",
       "80.00 male           1\n",
       "\n",
       "[145 rows x 1 columns]"
      ]
     },
     "execution_count": 226,
     "metadata": {},
     "output_type": "execute_result"
    }
   ],
   "source": [
    "df[['Age', 'Survived', 'Sex']].groupby(['Age', 'Sex']).count()"
   ]
  },
  {
   "cell_type": "code",
   "execution_count": 228,
   "id": "526598a6",
   "metadata": {
    "ExecuteTime": {
     "end_time": "2022-02-18T00:31:37.284229Z",
     "start_time": "2022-02-18T00:31:37.269236Z"
    }
   },
   "outputs": [
    {
     "data": {
      "text/html": [
       "<div>\n",
       "<style scoped>\n",
       "    .dataframe tbody tr th:only-of-type {\n",
       "        vertical-align: middle;\n",
       "    }\n",
       "\n",
       "    .dataframe tbody tr th {\n",
       "        vertical-align: top;\n",
       "    }\n",
       "\n",
       "    .dataframe thead th {\n",
       "        text-align: right;\n",
       "    }\n",
       "</style>\n",
       "<table border=\"1\" class=\"dataframe\">\n",
       "  <thead>\n",
       "    <tr style=\"text-align: right;\">\n",
       "      <th></th>\n",
       "      <th>Age</th>\n",
       "      <th>Sex</th>\n",
       "    </tr>\n",
       "    <tr>\n",
       "      <th>Survived</th>\n",
       "      <th></th>\n",
       "      <th></th>\n",
       "    </tr>\n",
       "  </thead>\n",
       "  <tbody>\n",
       "    <tr>\n",
       "      <th>0</th>\n",
       "      <td>549</td>\n",
       "      <td>549</td>\n",
       "    </tr>\n",
       "    <tr>\n",
       "      <th>1</th>\n",
       "      <td>342</td>\n",
       "      <td>342</td>\n",
       "    </tr>\n",
       "  </tbody>\n",
       "</table>\n",
       "</div>"
      ],
      "text/plain": [
       "          Age  Sex\n",
       "Survived          \n",
       "0         549  549\n",
       "1         342  342"
      ]
     },
     "execution_count": 228,
     "metadata": {},
     "output_type": "execute_result"
    }
   ],
   "source": [
    "df[['Age', 'Survived', 'Sex']].groupby(['Survived']).count()"
   ]
  },
  {
   "cell_type": "code",
   "execution_count": null,
   "id": "0356728f",
   "metadata": {},
   "outputs": [],
   "source": []
  }
 ],
 "metadata": {
  "kernelspec": {
   "display_name": "Python 3 (ipykernel)",
   "language": "python",
   "name": "python3"
  },
  "language_info": {
   "codemirror_mode": {
    "name": "ipython",
    "version": 3
   },
   "file_extension": ".py",
   "mimetype": "text/x-python",
   "name": "python",
   "nbconvert_exporter": "python",
   "pygments_lexer": "ipython3",
   "version": "3.9.7"
  },
  "toc": {
   "base_numbering": 1,
   "nav_menu": {},
   "number_sections": true,
   "sideBar": true,
   "skip_h1_title": false,
   "title_cell": "Table of Contents",
   "title_sidebar": "Contents",
   "toc_cell": false,
   "toc_position": {},
   "toc_section_display": true,
   "toc_window_display": false
  }
 },
 "nbformat": 4,
 "nbformat_minor": 5
}
